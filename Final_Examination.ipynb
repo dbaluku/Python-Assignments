{
 "cells": [
  {
   "cell_type": "markdown",
   "source": [
    "REG NO MAY22/MCOMP/1616U"
   ],
   "metadata": {
    "collapsed": false,
    "pycharm": {
     "name": "#%% md\n"
    }
   }
  },
  {
   "cell_type": "markdown",
   "source": [
    "a)\tImport the necessary python libraries (2 marks)"
   ],
   "metadata": {
    "collapsed": false,
    "pycharm": {
     "name": "#%% md\n"
    }
   }
  },
  {
   "cell_type": "code",
   "execution_count": 24,
   "outputs": [],
   "source": [
    "import requests\n",
    "import lxml.html as lh\n",
    "import pandas as pd\n",
    "import numpy as np"
   ],
   "metadata": {
    "collapsed": false,
    "pycharm": {
     "name": "#%%\n"
    }
   }
  },
  {
   "cell_type": "markdown",
   "source": [
    "b)\tRemove the Website and put the table in Notebook (4 marks)"
   ],
   "metadata": {
    "collapsed": false,
    "pycharm": {
     "name": "#%% md\n"
    }
   }
  },
  {
   "cell_type": "code",
   "execution_count": 25,
   "outputs": [
    {
     "name": "stdout",
     "output_type": "stream",
     "text": [
      "1:Year\n",
      "2:Country\n",
      "3:EVD\n",
      "4:Cases\n",
      "5:Deaths\n",
      "6:Case fatality \n"
     ]
    }
   ],
   "source": [
    "url = 'https://www.who.int/news-room/fact-sheets/detail/ebola-virus-disease'\n",
    "whole_page = requests.get(url)\n",
    "doc = lh.fromstring(whole_page.content)\n",
    "tr_elements = doc.xpath('//tr')\n",
    "[len(T) for T in tr_elements[:6]]\n",
    "\n",
    "tr_elements = doc.xpath('//tr')\n",
    "\n",
    "cols = []\n",
    "i = 0\n",
    "\n",
    "for t in tr_elements[0]:\n",
    "    i+=1\n",
    "    name=t.text_content()\n",
    "    print(\"%d:%s\" % (i,name))\n",
    "    cols.append((name,[]))"
   ],
   "metadata": {
    "collapsed": false,
    "pycharm": {
     "name": "#%%\n"
    }
   }
  },
  {
   "cell_type": "code",
   "execution_count": 26,
   "outputs": [
    {
     "data": {
      "text/plain": "         Year                            Country     EVD Cases Deaths  \\\ncount      41                                 41      41    41     41   \nunique     28                                 20       7    33     31   \ntop     2014   Democratic Republic of the Congo   Zaire     1      0    \nfreq        6                                  9      25     8      5   \n\n       Case fatality   \ncount              41  \nunique             27  \ntop               0%   \nfreq                5  ",
      "text/html": "<div>\n<style scoped>\n    .dataframe tbody tr th:only-of-type {\n        vertical-align: middle;\n    }\n\n    .dataframe tbody tr th {\n        vertical-align: top;\n    }\n\n    .dataframe thead th {\n        text-align: right;\n    }\n</style>\n<table border=\"1\" class=\"dataframe\">\n  <thead>\n    <tr style=\"text-align: right;\">\n      <th></th>\n      <th>Year</th>\n      <th>Country</th>\n      <th>EVD</th>\n      <th>Cases</th>\n      <th>Deaths</th>\n      <th>Case fatality</th>\n    </tr>\n  </thead>\n  <tbody>\n    <tr>\n      <th>count</th>\n      <td>41</td>\n      <td>41</td>\n      <td>41</td>\n      <td>41</td>\n      <td>41</td>\n      <td>41</td>\n    </tr>\n    <tr>\n      <th>unique</th>\n      <td>28</td>\n      <td>20</td>\n      <td>7</td>\n      <td>33</td>\n      <td>31</td>\n      <td>27</td>\n    </tr>\n    <tr>\n      <th>top</th>\n      <td>2014</td>\n      <td>Democratic Republic of the Congo</td>\n      <td>Zaire</td>\n      <td>1</td>\n      <td>0</td>\n      <td>0%</td>\n    </tr>\n    <tr>\n      <th>freq</th>\n      <td>6</td>\n      <td>9</td>\n      <td>25</td>\n      <td>8</td>\n      <td>5</td>\n      <td>5</td>\n    </tr>\n  </tbody>\n</table>\n</div>"
     },
     "execution_count": 26,
     "metadata": {},
     "output_type": "execute_result"
    }
   ],
   "source": [
    "for j in range(1,len(tr_elements)): # Because header is the first row, data would be store in the subsequent rows.\n",
    "    T = tr_elements[j] #T is j'th row\n",
    "\n",
    "    if len(T)!=6: #if row is not size 3, //tr data is not from the table.\n",
    "        break\n",
    "\n",
    "    i = 0 #i is the index of the first column\n",
    "\n",
    "    for t in T.iterchildren(): #iterate through each element of the row\n",
    "        data=t.text_content()\n",
    "\n",
    "        cols[i][1].append(data) #append the data to the empty list of the i'th column\n",
    "\n",
    "        i+=1\n",
    "\n",
    "\n",
    "[len(C) for (title,C) in cols]\n",
    "Dict = {title:column for (title,column) in cols}\n",
    "df = pd.DataFrame(Dict)\n",
    "df.describe()"
   ],
   "metadata": {
    "collapsed": false,
    "pycharm": {
     "name": "#%%\n"
    }
   }
  },
  {
   "cell_type": "markdown",
   "source": [
    "a.\tFirst 10 records (2 marks)"
   ],
   "metadata": {
    "collapsed": false,
    "pycharm": {
     "name": "#%% md\n"
    }
   }
  },
  {
   "cell_type": "code",
   "execution_count": 27,
   "outputs": [
    {
     "data": {
      "text/plain": "         Year                             Country      EVD    Cases Deaths  \\\n0        2021                              Guinea    Zaire  Ongoing          \n1        2021    Democratic Republic of the Congo    Zaire  Ongoing          \n2        2020    Democratic Republic of the Congo    Zaire      130     55   \n3  2018-2020    Democratic Republic of the Congo    Zaire     3481   2299    \n4       2018    Democratic Republic of the Congo   Zaire       54     33     \n5       2017   Democratic Republic of the Congo    Zaire        8      4     \n6       2015                               Italy    Zaire        1      0    \n7       2014                               Spain    Zaire        1      0    \n8       2014                                  UK    Zaire        1      0    \n9       2014                                 USA    Zaire        4      1    \n\n  Case fatality   \n0                 \n1                 \n2            42%  \n3           66%   \n4          61%    \n5          50%    \n6            0%   \n7            0%   \n8            0%   \n9           25%   ",
      "text/html": "<div>\n<style scoped>\n    .dataframe tbody tr th:only-of-type {\n        vertical-align: middle;\n    }\n\n    .dataframe tbody tr th {\n        vertical-align: top;\n    }\n\n    .dataframe thead th {\n        text-align: right;\n    }\n</style>\n<table border=\"1\" class=\"dataframe\">\n  <thead>\n    <tr style=\"text-align: right;\">\n      <th></th>\n      <th>Year</th>\n      <th>Country</th>\n      <th>EVD</th>\n      <th>Cases</th>\n      <th>Deaths</th>\n      <th>Case fatality</th>\n    </tr>\n  </thead>\n  <tbody>\n    <tr>\n      <th>0</th>\n      <td>2021</td>\n      <td>Guinea</td>\n      <td>Zaire</td>\n      <td>Ongoing</td>\n      <td></td>\n      <td></td>\n    </tr>\n    <tr>\n      <th>1</th>\n      <td>2021</td>\n      <td>Democratic Republic of the Congo</td>\n      <td>Zaire</td>\n      <td>Ongoing</td>\n      <td></td>\n      <td></td>\n    </tr>\n    <tr>\n      <th>2</th>\n      <td>2020</td>\n      <td>Democratic Republic of the Congo</td>\n      <td>Zaire</td>\n      <td>130</td>\n      <td>55</td>\n      <td>42%</td>\n    </tr>\n    <tr>\n      <th>3</th>\n      <td>2018-2020</td>\n      <td>Democratic Republic of the Congo</td>\n      <td>Zaire</td>\n      <td>3481</td>\n      <td>2299</td>\n      <td>66%</td>\n    </tr>\n    <tr>\n      <th>4</th>\n      <td>2018</td>\n      <td>Democratic Republic of the Congo</td>\n      <td>Zaire</td>\n      <td>54</td>\n      <td>33</td>\n      <td>61%</td>\n    </tr>\n    <tr>\n      <th>5</th>\n      <td>2017</td>\n      <td>Democratic Republic of the Congo</td>\n      <td>Zaire</td>\n      <td>8</td>\n      <td>4</td>\n      <td>50%</td>\n    </tr>\n    <tr>\n      <th>6</th>\n      <td>2015</td>\n      <td>Italy</td>\n      <td>Zaire</td>\n      <td>1</td>\n      <td>0</td>\n      <td>0%</td>\n    </tr>\n    <tr>\n      <th>7</th>\n      <td>2014</td>\n      <td>Spain</td>\n      <td>Zaire</td>\n      <td>1</td>\n      <td>0</td>\n      <td>0%</td>\n    </tr>\n    <tr>\n      <th>8</th>\n      <td>2014</td>\n      <td>UK</td>\n      <td>Zaire</td>\n      <td>1</td>\n      <td>0</td>\n      <td>0%</td>\n    </tr>\n    <tr>\n      <th>9</th>\n      <td>2014</td>\n      <td>USA</td>\n      <td>Zaire</td>\n      <td>4</td>\n      <td>1</td>\n      <td>25%</td>\n    </tr>\n  </tbody>\n</table>\n</div>"
     },
     "execution_count": 27,
     "metadata": {},
     "output_type": "execute_result"
    }
   ],
   "source": [
    "df.head(10)"
   ],
   "metadata": {
    "collapsed": false,
    "pycharm": {
     "name": "#%%\n"
    }
   }
  },
  {
   "cell_type": "markdown",
   "source": [
    "b.\tLast 10 records (2 marks)"
   ],
   "metadata": {
    "collapsed": false,
    "pycharm": {
     "name": "#%% md\n"
    }
   }
  },
  {
   "cell_type": "code",
   "execution_count": 28,
   "outputs": [
    {
     "data": {
      "text/plain": "               Year                            Country          EVD Cases  \\\n31            1996            South Africa (ex-Gabon)        Zaire     1    \n32  1996 (Jul-Dec)                              Gabon        Zaire    60    \n33  1996 (Jan-Apr)                              Gabon        Zaire    31    \n34            1995   Democratic Republic of the Congo        Zaire   315    \n35            1994                      Côte d'Ivoire   Taï Forest     1    \n36            1994                              Gabon        Zaire    52    \n37            1979                              Sudan        Sudan    34    \n38            1977   Democratic Republic of the Congo        Zaire     1    \n39            1976                              Sudan        Sudan   284    \n40             1976  Democratic Republic of the Congo        Zaire   318    \n\n   Deaths Case fatality   \n31     1           100%   \n32    45            75%   \n33    21            68%   \n34   254            81%   \n35     0             0%   \n36    31            60%   \n37    22            65%   \n38     1           100%   \n39   151            53%   \n40   280             88%  ",
      "text/html": "<div>\n<style scoped>\n    .dataframe tbody tr th:only-of-type {\n        vertical-align: middle;\n    }\n\n    .dataframe tbody tr th {\n        vertical-align: top;\n    }\n\n    .dataframe thead th {\n        text-align: right;\n    }\n</style>\n<table border=\"1\" class=\"dataframe\">\n  <thead>\n    <tr style=\"text-align: right;\">\n      <th></th>\n      <th>Year</th>\n      <th>Country</th>\n      <th>EVD</th>\n      <th>Cases</th>\n      <th>Deaths</th>\n      <th>Case fatality</th>\n    </tr>\n  </thead>\n  <tbody>\n    <tr>\n      <th>31</th>\n      <td>1996</td>\n      <td>South Africa (ex-Gabon)</td>\n      <td>Zaire</td>\n      <td>1</td>\n      <td>1</td>\n      <td>100%</td>\n    </tr>\n    <tr>\n      <th>32</th>\n      <td>1996 (Jul-Dec)</td>\n      <td>Gabon</td>\n      <td>Zaire</td>\n      <td>60</td>\n      <td>45</td>\n      <td>75%</td>\n    </tr>\n    <tr>\n      <th>33</th>\n      <td>1996 (Jan-Apr)</td>\n      <td>Gabon</td>\n      <td>Zaire</td>\n      <td>31</td>\n      <td>21</td>\n      <td>68%</td>\n    </tr>\n    <tr>\n      <th>34</th>\n      <td>1995</td>\n      <td>Democratic Republic of the Congo</td>\n      <td>Zaire</td>\n      <td>315</td>\n      <td>254</td>\n      <td>81%</td>\n    </tr>\n    <tr>\n      <th>35</th>\n      <td>1994</td>\n      <td>Côte d'Ivoire</td>\n      <td>Taï Forest</td>\n      <td>1</td>\n      <td>0</td>\n      <td>0%</td>\n    </tr>\n    <tr>\n      <th>36</th>\n      <td>1994</td>\n      <td>Gabon</td>\n      <td>Zaire</td>\n      <td>52</td>\n      <td>31</td>\n      <td>60%</td>\n    </tr>\n    <tr>\n      <th>37</th>\n      <td>1979</td>\n      <td>Sudan</td>\n      <td>Sudan</td>\n      <td>34</td>\n      <td>22</td>\n      <td>65%</td>\n    </tr>\n    <tr>\n      <th>38</th>\n      <td>1977</td>\n      <td>Democratic Republic of the Congo</td>\n      <td>Zaire</td>\n      <td>1</td>\n      <td>1</td>\n      <td>100%</td>\n    </tr>\n    <tr>\n      <th>39</th>\n      <td>1976</td>\n      <td>Sudan</td>\n      <td>Sudan</td>\n      <td>284</td>\n      <td>151</td>\n      <td>53%</td>\n    </tr>\n    <tr>\n      <th>40</th>\n      <td>1976</td>\n      <td>Democratic Republic of the Congo</td>\n      <td>Zaire</td>\n      <td>318</td>\n      <td>280</td>\n      <td>88%</td>\n    </tr>\n  </tbody>\n</table>\n</div>"
     },
     "execution_count": 28,
     "metadata": {},
     "output_type": "execute_result"
    }
   ],
   "source": [
    "df.tail(10)"
   ],
   "metadata": {
    "collapsed": false,
    "pycharm": {
     "name": "#%%\n"
    }
   }
  },
  {
   "cell_type": "markdown",
   "source": [
    "d)\tClean the data set (8 marks)"
   ],
   "metadata": {
    "collapsed": false,
    "pycharm": {
     "name": "#%% md\n"
    }
   }
  },
  {
   "cell_type": "code",
   "execution_count": 29,
   "outputs": [
    {
     "name": "stderr",
     "output_type": "stream",
     "text": [
      "/var/folders/hs/n89pb8xs1hn99hclj9gwq50m0000gn/T/ipykernel_35168/2466663395.py:5: FutureWarning: The default value of regex will change from True to False in a future version.\n",
      "  df['Year'] = df['Year'].str.replace(r\"\\(.*\\)\",\"\")\n"
     ]
    },
    {
     "data": {
      "text/plain": "    Year                             Country          EVD  Cases  Deaths  \\\n2   2020    Democratic Republic of the Congo        Zaire    130      55   \n4   2018   Democratic Republic of the Congo       Zaire       54      33   \n5   2017  Democratic Republic of the Congo        Zaire        8       4   \n6   2015                              Italy        Zaire       1       0   \n7   2014                              Spain        Zaire       1       0   \n8   2014                                 UK        Zaire       1       0   \n9   2014                                USA        Zaire       4       1   \n10  2014                            Senegal        Zaire       1       0   \n11  2014                               Mali        Zaire       8       6   \n12  2014                            Nigeria        Zaire      20       8   \n17  2012   Democratic Republic of the Congo   Bundibugyo      57      29   \n18  2012                             Uganda        Sudan       7       4   \n19  2012                             Uganda        Sudan      24      17   \n20  2011                             Uganda        Sudan       1       1   \n21  2008   Democratic Republic of the Congo        Zaire      32      14   \n22  2007                             Uganda   Bundibugyo     149      37   \n23  2007   Democratic Republic of the Congo        Zaire     264     187   \n24  2005                              Congo        Zaire      12      10   \n25  2004                              Sudan        Sudan      17       7   \n26  2003                              Congo        Zaire      35      29   \n27  2003                              Congo        Zaire     143     128   \n30  2000                             Uganda        Sudan     425     224   \n31  1996            South Africa (ex-Gabon)        Zaire       1       1   \n32  1996                              Gabon        Zaire      60      45   \n33  1996                              Gabon        Zaire      31      21   \n34  1995   Democratic Republic of the Congo        Zaire     315     254   \n35  1994                      Côte d'Ivoire   Taï Forest       1       0   \n36  1994                              Gabon        Zaire      52      31   \n37  1979                              Sudan        Sudan      34      22   \n38  1977   Democratic Republic of the Congo        Zaire       1       1   \n39  1976                              Sudan        Sudan     284     151   \n40  1976   Democratic Republic of the Congo        Zaire     318     280   \n\n    Case fatality   \n2               42  \n4               61  \n5               50  \n6                0  \n7                0  \n8                0  \n9               25  \n10               0  \n11              75  \n12              40  \n17              51  \n18              57  \n19              71  \n20             100  \n21              44  \n22              25  \n23              71  \n24              83  \n25              41  \n26              83  \n27              90  \n30              53  \n31             100  \n32              75  \n33              68  \n34              81  \n35               0  \n36              60  \n37              65  \n38             100  \n39              53  \n40              88  ",
      "text/html": "<div>\n<style scoped>\n    .dataframe tbody tr th:only-of-type {\n        vertical-align: middle;\n    }\n\n    .dataframe tbody tr th {\n        vertical-align: top;\n    }\n\n    .dataframe thead th {\n        text-align: right;\n    }\n</style>\n<table border=\"1\" class=\"dataframe\">\n  <thead>\n    <tr style=\"text-align: right;\">\n      <th></th>\n      <th>Year</th>\n      <th>Country</th>\n      <th>EVD</th>\n      <th>Cases</th>\n      <th>Deaths</th>\n      <th>Case fatality</th>\n    </tr>\n  </thead>\n  <tbody>\n    <tr>\n      <th>2</th>\n      <td>2020</td>\n      <td>Democratic Republic of the Congo</td>\n      <td>Zaire</td>\n      <td>130</td>\n      <td>55</td>\n      <td>42</td>\n    </tr>\n    <tr>\n      <th>4</th>\n      <td>2018</td>\n      <td>Democratic Republic of the Congo</td>\n      <td>Zaire</td>\n      <td>54</td>\n      <td>33</td>\n      <td>61</td>\n    </tr>\n    <tr>\n      <th>5</th>\n      <td>2017</td>\n      <td>Democratic Republic of the Congo</td>\n      <td>Zaire</td>\n      <td>8</td>\n      <td>4</td>\n      <td>50</td>\n    </tr>\n    <tr>\n      <th>6</th>\n      <td>2015</td>\n      <td>Italy</td>\n      <td>Zaire</td>\n      <td>1</td>\n      <td>0</td>\n      <td>0</td>\n    </tr>\n    <tr>\n      <th>7</th>\n      <td>2014</td>\n      <td>Spain</td>\n      <td>Zaire</td>\n      <td>1</td>\n      <td>0</td>\n      <td>0</td>\n    </tr>\n    <tr>\n      <th>8</th>\n      <td>2014</td>\n      <td>UK</td>\n      <td>Zaire</td>\n      <td>1</td>\n      <td>0</td>\n      <td>0</td>\n    </tr>\n    <tr>\n      <th>9</th>\n      <td>2014</td>\n      <td>USA</td>\n      <td>Zaire</td>\n      <td>4</td>\n      <td>1</td>\n      <td>25</td>\n    </tr>\n    <tr>\n      <th>10</th>\n      <td>2014</td>\n      <td>Senegal</td>\n      <td>Zaire</td>\n      <td>1</td>\n      <td>0</td>\n      <td>0</td>\n    </tr>\n    <tr>\n      <th>11</th>\n      <td>2014</td>\n      <td>Mali</td>\n      <td>Zaire</td>\n      <td>8</td>\n      <td>6</td>\n      <td>75</td>\n    </tr>\n    <tr>\n      <th>12</th>\n      <td>2014</td>\n      <td>Nigeria</td>\n      <td>Zaire</td>\n      <td>20</td>\n      <td>8</td>\n      <td>40</td>\n    </tr>\n    <tr>\n      <th>17</th>\n      <td>2012</td>\n      <td>Democratic Republic of the Congo</td>\n      <td>Bundibugyo</td>\n      <td>57</td>\n      <td>29</td>\n      <td>51</td>\n    </tr>\n    <tr>\n      <th>18</th>\n      <td>2012</td>\n      <td>Uganda</td>\n      <td>Sudan</td>\n      <td>7</td>\n      <td>4</td>\n      <td>57</td>\n    </tr>\n    <tr>\n      <th>19</th>\n      <td>2012</td>\n      <td>Uganda</td>\n      <td>Sudan</td>\n      <td>24</td>\n      <td>17</td>\n      <td>71</td>\n    </tr>\n    <tr>\n      <th>20</th>\n      <td>2011</td>\n      <td>Uganda</td>\n      <td>Sudan</td>\n      <td>1</td>\n      <td>1</td>\n      <td>100</td>\n    </tr>\n    <tr>\n      <th>21</th>\n      <td>2008</td>\n      <td>Democratic Republic of the Congo</td>\n      <td>Zaire</td>\n      <td>32</td>\n      <td>14</td>\n      <td>44</td>\n    </tr>\n    <tr>\n      <th>22</th>\n      <td>2007</td>\n      <td>Uganda</td>\n      <td>Bundibugyo</td>\n      <td>149</td>\n      <td>37</td>\n      <td>25</td>\n    </tr>\n    <tr>\n      <th>23</th>\n      <td>2007</td>\n      <td>Democratic Republic of the Congo</td>\n      <td>Zaire</td>\n      <td>264</td>\n      <td>187</td>\n      <td>71</td>\n    </tr>\n    <tr>\n      <th>24</th>\n      <td>2005</td>\n      <td>Congo</td>\n      <td>Zaire</td>\n      <td>12</td>\n      <td>10</td>\n      <td>83</td>\n    </tr>\n    <tr>\n      <th>25</th>\n      <td>2004</td>\n      <td>Sudan</td>\n      <td>Sudan</td>\n      <td>17</td>\n      <td>7</td>\n      <td>41</td>\n    </tr>\n    <tr>\n      <th>26</th>\n      <td>2003</td>\n      <td>Congo</td>\n      <td>Zaire</td>\n      <td>35</td>\n      <td>29</td>\n      <td>83</td>\n    </tr>\n    <tr>\n      <th>27</th>\n      <td>2003</td>\n      <td>Congo</td>\n      <td>Zaire</td>\n      <td>143</td>\n      <td>128</td>\n      <td>90</td>\n    </tr>\n    <tr>\n      <th>30</th>\n      <td>2000</td>\n      <td>Uganda</td>\n      <td>Sudan</td>\n      <td>425</td>\n      <td>224</td>\n      <td>53</td>\n    </tr>\n    <tr>\n      <th>31</th>\n      <td>1996</td>\n      <td>South Africa (ex-Gabon)</td>\n      <td>Zaire</td>\n      <td>1</td>\n      <td>1</td>\n      <td>100</td>\n    </tr>\n    <tr>\n      <th>32</th>\n      <td>1996</td>\n      <td>Gabon</td>\n      <td>Zaire</td>\n      <td>60</td>\n      <td>45</td>\n      <td>75</td>\n    </tr>\n    <tr>\n      <th>33</th>\n      <td>1996</td>\n      <td>Gabon</td>\n      <td>Zaire</td>\n      <td>31</td>\n      <td>21</td>\n      <td>68</td>\n    </tr>\n    <tr>\n      <th>34</th>\n      <td>1995</td>\n      <td>Democratic Republic of the Congo</td>\n      <td>Zaire</td>\n      <td>315</td>\n      <td>254</td>\n      <td>81</td>\n    </tr>\n    <tr>\n      <th>35</th>\n      <td>1994</td>\n      <td>Côte d'Ivoire</td>\n      <td>Taï Forest</td>\n      <td>1</td>\n      <td>0</td>\n      <td>0</td>\n    </tr>\n    <tr>\n      <th>36</th>\n      <td>1994</td>\n      <td>Gabon</td>\n      <td>Zaire</td>\n      <td>52</td>\n      <td>31</td>\n      <td>60</td>\n    </tr>\n    <tr>\n      <th>37</th>\n      <td>1979</td>\n      <td>Sudan</td>\n      <td>Sudan</td>\n      <td>34</td>\n      <td>22</td>\n      <td>65</td>\n    </tr>\n    <tr>\n      <th>38</th>\n      <td>1977</td>\n      <td>Democratic Republic of the Congo</td>\n      <td>Zaire</td>\n      <td>1</td>\n      <td>1</td>\n      <td>100</td>\n    </tr>\n    <tr>\n      <th>39</th>\n      <td>1976</td>\n      <td>Sudan</td>\n      <td>Sudan</td>\n      <td>284</td>\n      <td>151</td>\n      <td>53</td>\n    </tr>\n    <tr>\n      <th>40</th>\n      <td>1976</td>\n      <td>Democratic Republic of the Congo</td>\n      <td>Zaire</td>\n      <td>318</td>\n      <td>280</td>\n      <td>88</td>\n    </tr>\n  </tbody>\n</table>\n</div>"
     },
     "execution_count": 29,
     "metadata": {},
     "output_type": "execute_result"
    }
   ],
   "source": [
    "# clean dataset\n",
    "df = df.drop([0,1,3,13,14,15,16,28,29])\n",
    "df['Cases'] = df['Cases'].str.strip()\n",
    "df['Deaths'] = df['Deaths'].str.strip()\n",
    "df.iloc[:,5] =df.iloc[:,5].str.strip()\n",
    "df['Year'] = df['Year'].str.strip()\n",
    "df['Year'] = df['Year'].str.replace(r\"\\(.*\\)\",\"\")\n",
    "df.iloc[:,5] =df.iloc[:,5].str.replace(r\"%\",\"\")\n",
    "\n",
    "\n",
    "df['Year'] = pd.to_numeric(df['Year'])\n",
    "df['Cases'] = pd.to_numeric(df['Cases'])\n",
    "df['Deaths'] = pd.to_numeric(df['Deaths'])\n",
    "df.iloc[:,5] =pd.to_numeric(df.iloc[:,5])\n",
    "df"
   ],
   "metadata": {
    "collapsed": false,
    "pycharm": {
     "name": "#%%\n"
    }
   }
  },
  {
   "cell_type": "markdown",
   "source": [
    "e)\tProduce the descriptive statistical table values. (2 marks)"
   ],
   "metadata": {
    "collapsed": false,
    "pycharm": {
     "name": "#%% md\n"
    }
   }
  },
  {
   "cell_type": "code",
   "execution_count": 37,
   "outputs": [
    {
     "data": {
      "text/plain": "Year               int64\nCountry           object\nEVD               object\nCases              int64\nDeaths             int64\nCase fatality      int64\ndtype: object"
     },
     "execution_count": 37,
     "metadata": {},
     "output_type": "execute_result"
    }
   ],
   "source": [
    "df.dtypes"
   ],
   "metadata": {
    "collapsed": false,
    "pycharm": {
     "name": "#%%\n"
    }
   }
  },
  {
   "cell_type": "code",
   "execution_count": 36,
   "outputs": [
    {
     "data": {
      "text/plain": "              Year       Cases      Deaths  Case fatality \ncount    32.000000   32.000000   32.000000       32.000000\nmean   2003.656250   77.843750   50.000000       54.750000\nstd      12.734534  115.760071   80.139395       31.088843\nmin    1976.000000    1.000000    0.000000        0.000000\n25%    1996.000000    3.250000    1.000000       40.750000\n50%    2007.000000   27.500000   15.500000       58.500000\n75%    2014.000000   77.500000   39.000000       76.500000\nmax    2020.000000  425.000000  280.000000      100.000000",
      "text/html": "<div>\n<style scoped>\n    .dataframe tbody tr th:only-of-type {\n        vertical-align: middle;\n    }\n\n    .dataframe tbody tr th {\n        vertical-align: top;\n    }\n\n    .dataframe thead th {\n        text-align: right;\n    }\n</style>\n<table border=\"1\" class=\"dataframe\">\n  <thead>\n    <tr style=\"text-align: right;\">\n      <th></th>\n      <th>Year</th>\n      <th>Cases</th>\n      <th>Deaths</th>\n      <th>Case fatality</th>\n    </tr>\n  </thead>\n  <tbody>\n    <tr>\n      <th>count</th>\n      <td>32.000000</td>\n      <td>32.000000</td>\n      <td>32.000000</td>\n      <td>32.000000</td>\n    </tr>\n    <tr>\n      <th>mean</th>\n      <td>2003.656250</td>\n      <td>77.843750</td>\n      <td>50.000000</td>\n      <td>54.750000</td>\n    </tr>\n    <tr>\n      <th>std</th>\n      <td>12.734534</td>\n      <td>115.760071</td>\n      <td>80.139395</td>\n      <td>31.088843</td>\n    </tr>\n    <tr>\n      <th>min</th>\n      <td>1976.000000</td>\n      <td>1.000000</td>\n      <td>0.000000</td>\n      <td>0.000000</td>\n    </tr>\n    <tr>\n      <th>25%</th>\n      <td>1996.000000</td>\n      <td>3.250000</td>\n      <td>1.000000</td>\n      <td>40.750000</td>\n    </tr>\n    <tr>\n      <th>50%</th>\n      <td>2007.000000</td>\n      <td>27.500000</td>\n      <td>15.500000</td>\n      <td>58.500000</td>\n    </tr>\n    <tr>\n      <th>75%</th>\n      <td>2014.000000</td>\n      <td>77.500000</td>\n      <td>39.000000</td>\n      <td>76.500000</td>\n    </tr>\n    <tr>\n      <th>max</th>\n      <td>2020.000000</td>\n      <td>425.000000</td>\n      <td>280.000000</td>\n      <td>100.000000</td>\n    </tr>\n  </tbody>\n</table>\n</div>"
     },
     "execution_count": 36,
     "metadata": {},
     "output_type": "execute_result"
    }
   ],
   "source": [
    "\n",
    "df.describe()"
   ],
   "metadata": {
    "collapsed": false,
    "pycharm": {
     "name": "#%%\n"
    }
   }
  },
  {
   "cell_type": "markdown",
   "source": [
    "f)\tCheck the correlations between the features (2 marks)"
   ],
   "metadata": {
    "collapsed": false,
    "pycharm": {
     "name": "#%% md\n"
    }
   }
  },
  {
   "cell_type": "code",
   "execution_count": 31,
   "outputs": [
    {
     "data": {
      "text/plain": "                    Year     Cases    Deaths  Case fatality \nYear            1.000000 -0.382171 -0.429596       -0.413409\nCases          -0.382171  1.000000  0.954326        0.214592\nDeaths         -0.429596  0.954326  1.000000        0.310431\nCase fatality  -0.413409  0.214592  0.310431        1.000000",
      "text/html": "<div>\n<style scoped>\n    .dataframe tbody tr th:only-of-type {\n        vertical-align: middle;\n    }\n\n    .dataframe tbody tr th {\n        vertical-align: top;\n    }\n\n    .dataframe thead th {\n        text-align: right;\n    }\n</style>\n<table border=\"1\" class=\"dataframe\">\n  <thead>\n    <tr style=\"text-align: right;\">\n      <th></th>\n      <th>Year</th>\n      <th>Cases</th>\n      <th>Deaths</th>\n      <th>Case fatality</th>\n    </tr>\n  </thead>\n  <tbody>\n    <tr>\n      <th>Year</th>\n      <td>1.000000</td>\n      <td>-0.382171</td>\n      <td>-0.429596</td>\n      <td>-0.413409</td>\n    </tr>\n    <tr>\n      <th>Cases</th>\n      <td>-0.382171</td>\n      <td>1.000000</td>\n      <td>0.954326</td>\n      <td>0.214592</td>\n    </tr>\n    <tr>\n      <th>Deaths</th>\n      <td>-0.429596</td>\n      <td>0.954326</td>\n      <td>1.000000</td>\n      <td>0.310431</td>\n    </tr>\n    <tr>\n      <th>Case fatality</th>\n      <td>-0.413409</td>\n      <td>0.214592</td>\n      <td>0.310431</td>\n      <td>1.000000</td>\n    </tr>\n  </tbody>\n</table>\n</div>"
     },
     "execution_count": 31,
     "metadata": {},
     "output_type": "execute_result"
    }
   ],
   "source": [
    "df.corr()"
   ],
   "metadata": {
    "collapsed": false,
    "pycharm": {
     "name": "#%%\n"
    }
   }
  },
  {
   "cell_type": "markdown",
   "source": [
    "g)\tGenerate the regression plots between variables.  (2 marks)"
   ],
   "metadata": {
    "collapsed": false,
    "pycharm": {
     "name": "#%% md\n"
    }
   }
  },
  {
   "cell_type": "code",
   "execution_count": 38,
   "outputs": [],
   "source": [
    "import seaborn as sns"
   ],
   "metadata": {
    "collapsed": false,
    "pycharm": {
     "name": "#%%\n"
    }
   }
  },
  {
   "cell_type": "code",
   "execution_count": 45,
   "outputs": [],
   "source": [
    "# getting numeric columns to use\n",
    "year = df.Year\n",
    "cases = df.Cases\n",
    "deaths = df.Deaths\n",
    "cases_fatality = df.iloc[:,5]"
   ],
   "metadata": {
    "collapsed": false,
    "pycharm": {
     "name": "#%%\n"
    }
   }
  },
  {
   "cell_type": "code",
   "execution_count": 46,
   "outputs": [
    {
     "data": {
      "text/plain": "<Figure size 432x288 with 1 Axes>",
      "image/png": "[encoded data removed]"
     },
     "metadata": {},
     "output_type": "display_data"
    }
   ],
   "source": [
    "sns.set_theme(color_codes=True)\n",
    "\n",
    "sns.regplot(x=year, y=cases);\n"
   ],
   "metadata": {
    "collapsed": false,
    "pycharm": {
     "name": "#%%\n"
    }
   }
  },
  {
   "cell_type": "code",
   "execution_count": 50,
   "outputs": [
    {
     "data": {
      "text/plain": "<seaborn.axisgrid.FacetGrid at 0x7fb44068d1c0>"
     },
     "execution_count": 50,
     "metadata": {},
     "output_type": "execute_result"
    },
    {
     "data": {
      "text/plain": "<Figure size 360x360 with 1 Axes>",
      "image/png": "[encoded data removed]"
     },
     "metadata": {},
     "output_type": "display_data"
    }
   ],
   "source": [
    "sns.lmplot(x=\"Year\", y=\"Deaths\",data=df)"
   ],
   "metadata": {
    "collapsed": false,
    "pycharm": {
     "name": "#%%\n"
    }
   }
  },
  {
   "cell_type": "markdown",
   "source": [
    "h)\tGenerate a heatmap for the correlations of features. (4 marks)"
   ],
   "metadata": {
    "collapsed": false,
    "pycharm": {
     "name": "#%% md\n"
    }
   }
  },
  {
   "cell_type": "code",
   "execution_count": 52,
   "outputs": [
    {
     "data": {
      "text/plain": "<AxesSubplot:>"
     },
     "execution_count": 52,
     "metadata": {},
     "output_type": "execute_result"
    },
    {
     "data": {
      "text/plain": "<Figure size 432x288 with 2 Axes>",
      "image/png": "[encoded data removed]"
     },
     "metadata": {},
     "output_type": "display_data"
    }
   ],
   "source": [
    "sns.heatmap(df.corr(),annot=True)"
   ],
   "metadata": {
    "collapsed": false,
    "pycharm": {
     "name": "#%%\n"
    }
   }
  },
  {
   "cell_type": "markdown",
   "source": [
    "i)\tProduce Simple Linear Regression model to show relationship between the two features that are strongly correlated. (4 marks)"
   ],
   "metadata": {
    "collapsed": false,
    "pycharm": {
     "name": "#%% md\n"
    }
   }
  },
  {
   "cell_type": "code",
   "execution_count": 61,
   "outputs": [
    {
     "name": "stdout",
     "output_type": "stream",
     "text": [
      "0.9589036783600119\n"
     ]
    },
    {
     "name": "stderr",
     "output_type": "stream",
     "text": [
      "/Users/dbaluku/opt/anaconda3/lib/python3.9/site-packages/sklearn/utils/validation.py:1688: FutureWarning: Feature names only support names that are all strings. Got feature names with dtypes: ['_ElementUnicodeResult']. An error will be raised in 1.2.\n",
      "  warnings.warn(\n",
      "/Users/dbaluku/opt/anaconda3/lib/python3.9/site-packages/sklearn/utils/validation.py:1688: FutureWarning: Feature names only support names that are all strings. Got feature names with dtypes: ['_ElementUnicodeResult']. An error will be raised in 1.2.\n",
      "  warnings.warn(\n"
     ]
    }
   ],
   "source": [
    "from sklearn.linear_model import LinearRegression\n",
    "from sklearn.model_selection import train_test_split\n",
    "\n",
    "X= pd.DataFrame(df['Cases'])\n",
    "y =pd.DataFrame(df['Deaths'])\n",
    "\n",
    "X_train, X_test, y_train, y_test = train_test_split(X, y, train_size = 0.7,\n",
    "                                                    test_size = 0.3, random_state = 100)\n",
    "regr = LinearRegression()\n",
    "\n",
    "regr.fit(X_train, y_train)\n",
    "print(regr.score(X_test, y_test))"
   ],
   "metadata": {
    "collapsed": false,
    "pycharm": {
     "name": "#%%\n"
    }
   }
  },
  {
   "cell_type": "markdown",
   "source": [
    "Compute the slope and the intercept of your graph and deduce your model in the form\n",
    "y=mx+c  (4 marks)\n"
   ],
   "metadata": {
    "collapsed": false,
    "pycharm": {
     "name": "#%% md\n"
    }
   }
  },
  {
   "cell_type": "code",
   "execution_count": 62,
   "outputs": [
    {
     "name": "stderr",
     "output_type": "stream",
     "text": [
      "/Users/dbaluku/opt/anaconda3/lib/python3.9/site-packages/sklearn/utils/validation.py:1688: FutureWarning: Feature names only support names that are all strings. Got feature names with dtypes: ['_ElementUnicodeResult']. An error will be raised in 1.2.\n",
      "  warnings.warn(\n"
     ]
    },
    {
     "ename": "InvalidIndexError",
     "evalue": "(slice(None, None, None), None)",
     "output_type": "error",
     "traceback": [
      "\u001B[0;31m---------------------------------------------------------------------------\u001B[0m",
      "\u001B[0;31mTypeError\u001B[0m                                 Traceback (most recent call last)",
      "File \u001B[0;32m~/opt/anaconda3/lib/python3.9/site-packages/pandas/core/indexes/base.py:3621\u001B[0m, in \u001B[0;36mIndex.get_loc\u001B[0;34m(self, key, method, tolerance)\u001B[0m\n\u001B[1;32m   3620\u001B[0m \u001B[38;5;28;01mtry\u001B[39;00m:\n\u001B[0;32m-> 3621\u001B[0m     \u001B[38;5;28;01mreturn\u001B[39;00m \u001B[38;5;28;43mself\u001B[39;49m\u001B[38;5;241;43m.\u001B[39;49m\u001B[43m_engine\u001B[49m\u001B[38;5;241;43m.\u001B[39;49m\u001B[43mget_loc\u001B[49m\u001B[43m(\u001B[49m\u001B[43mcasted_key\u001B[49m\u001B[43m)\u001B[49m\n\u001B[1;32m   3622\u001B[0m \u001B[38;5;28;01mexcept\u001B[39;00m \u001B[38;5;167;01mKeyError\u001B[39;00m \u001B[38;5;28;01mas\u001B[39;00m err:\n",
      "File \u001B[0;32m~/opt/anaconda3/lib/python3.9/site-packages/pandas/_libs/index.pyx:136\u001B[0m, in \u001B[0;36mpandas._libs.index.IndexEngine.get_loc\u001B[0;34m()\u001B[0m\n",
      "File \u001B[0;32m~/opt/anaconda3/lib/python3.9/site-packages/pandas/_libs/index.pyx:142\u001B[0m, in \u001B[0;36mpandas._libs.index.IndexEngine.get_loc\u001B[0;34m()\u001B[0m\n",
      "\u001B[0;31mTypeError\u001B[0m: '(slice(None, None, None), None)' is an invalid key",
      "\nDuring handling of the above exception, another exception occurred:\n",
      "\u001B[0;31mInvalidIndexError\u001B[0m                         Traceback (most recent call last)",
      "Input \u001B[0;32mIn [62]\u001B[0m, in \u001B[0;36m<cell line: 5>\u001B[0;34m()\u001B[0m\n\u001B[1;32m      3\u001B[0m y_pred \u001B[38;5;241m=\u001B[39m regr\u001B[38;5;241m.\u001B[39mpredict(X_test)\n\u001B[1;32m      4\u001B[0m plt\u001B[38;5;241m.\u001B[39mscatter(X_test, y_test, color \u001B[38;5;241m=\u001B[39m\u001B[38;5;124m'\u001B[39m\u001B[38;5;124mb\u001B[39m\u001B[38;5;124m'\u001B[39m)\n\u001B[0;32m----> 5\u001B[0m \u001B[43mplt\u001B[49m\u001B[38;5;241;43m.\u001B[39;49m\u001B[43mplot\u001B[49m\u001B[43m(\u001B[49m\u001B[43mX_test\u001B[49m\u001B[43m,\u001B[49m\u001B[43m \u001B[49m\u001B[43my_pred\u001B[49m\u001B[43m,\u001B[49m\u001B[43m \u001B[49m\u001B[43mcolor\u001B[49m\u001B[43m \u001B[49m\u001B[38;5;241;43m=\u001B[39;49m\u001B[38;5;124;43m'\u001B[39;49m\u001B[38;5;124;43mk\u001B[39;49m\u001B[38;5;124;43m'\u001B[39;49m\u001B[43m)\u001B[49m\n\u001B[1;32m      7\u001B[0m plt\u001B[38;5;241m.\u001B[39mshow()\n",
      "File \u001B[0;32m~/opt/anaconda3/lib/python3.9/site-packages/matplotlib/pyplot.py:2757\u001B[0m, in \u001B[0;36mplot\u001B[0;34m(scalex, scaley, data, *args, **kwargs)\u001B[0m\n\u001B[1;32m   2755\u001B[0m \u001B[38;5;129m@_copy_docstring_and_deprecators\u001B[39m(Axes\u001B[38;5;241m.\u001B[39mplot)\n\u001B[1;32m   2756\u001B[0m \u001B[38;5;28;01mdef\u001B[39;00m \u001B[38;5;21mplot\u001B[39m(\u001B[38;5;241m*\u001B[39margs, scalex\u001B[38;5;241m=\u001B[39m\u001B[38;5;28;01mTrue\u001B[39;00m, scaley\u001B[38;5;241m=\u001B[39m\u001B[38;5;28;01mTrue\u001B[39;00m, data\u001B[38;5;241m=\u001B[39m\u001B[38;5;28;01mNone\u001B[39;00m, \u001B[38;5;241m*\u001B[39m\u001B[38;5;241m*\u001B[39mkwargs):\n\u001B[0;32m-> 2757\u001B[0m     \u001B[38;5;28;01mreturn\u001B[39;00m \u001B[43mgca\u001B[49m\u001B[43m(\u001B[49m\u001B[43m)\u001B[49m\u001B[38;5;241;43m.\u001B[39;49m\u001B[43mplot\u001B[49m\u001B[43m(\u001B[49m\n\u001B[1;32m   2758\u001B[0m \u001B[43m        \u001B[49m\u001B[38;5;241;43m*\u001B[39;49m\u001B[43margs\u001B[49m\u001B[43m,\u001B[49m\u001B[43m \u001B[49m\u001B[43mscalex\u001B[49m\u001B[38;5;241;43m=\u001B[39;49m\u001B[43mscalex\u001B[49m\u001B[43m,\u001B[49m\u001B[43m \u001B[49m\u001B[43mscaley\u001B[49m\u001B[38;5;241;43m=\u001B[39;49m\u001B[43mscaley\u001B[49m\u001B[43m,\u001B[49m\n\u001B[1;32m   2759\u001B[0m \u001B[43m        \u001B[49m\u001B[38;5;241;43m*\u001B[39;49m\u001B[38;5;241;43m*\u001B[39;49m\u001B[43m(\u001B[49m\u001B[43m{\u001B[49m\u001B[38;5;124;43m\"\u001B[39;49m\u001B[38;5;124;43mdata\u001B[39;49m\u001B[38;5;124;43m\"\u001B[39;49m\u001B[43m:\u001B[49m\u001B[43m \u001B[49m\u001B[43mdata\u001B[49m\u001B[43m}\u001B[49m\u001B[43m \u001B[49m\u001B[38;5;28;43;01mif\u001B[39;49;00m\u001B[43m \u001B[49m\u001B[43mdata\u001B[49m\u001B[43m \u001B[49m\u001B[38;5;129;43;01mis\u001B[39;49;00m\u001B[43m \u001B[49m\u001B[38;5;129;43;01mnot\u001B[39;49;00m\u001B[43m \u001B[49m\u001B[38;5;28;43;01mNone\u001B[39;49;00m\u001B[43m \u001B[49m\u001B[38;5;28;43;01melse\u001B[39;49;00m\u001B[43m \u001B[49m\u001B[43m{\u001B[49m\u001B[43m}\u001B[49m\u001B[43m)\u001B[49m\u001B[43m,\u001B[49m\u001B[43m \u001B[49m\u001B[38;5;241;43m*\u001B[39;49m\u001B[38;5;241;43m*\u001B[39;49m\u001B[43mkwargs\u001B[49m\u001B[43m)\u001B[49m\n",
      "File \u001B[0;32m~/opt/anaconda3/lib/python3.9/site-packages/matplotlib/axes/_axes.py:1632\u001B[0m, in \u001B[0;36mAxes.plot\u001B[0;34m(self, scalex, scaley, data, *args, **kwargs)\u001B[0m\n\u001B[1;32m   1390\u001B[0m \u001B[38;5;124;03m\"\"\"\u001B[39;00m\n\u001B[1;32m   1391\u001B[0m \u001B[38;5;124;03mPlot y versus x as lines and/or markers.\u001B[39;00m\n\u001B[1;32m   1392\u001B[0m \n\u001B[0;32m   (...)\u001B[0m\n\u001B[1;32m   1629\u001B[0m \u001B[38;5;124;03m(``'green'``) or hex strings (``'#008000'``).\u001B[39;00m\n\u001B[1;32m   1630\u001B[0m \u001B[38;5;124;03m\"\"\"\u001B[39;00m\n\u001B[1;32m   1631\u001B[0m kwargs \u001B[38;5;241m=\u001B[39m cbook\u001B[38;5;241m.\u001B[39mnormalize_kwargs(kwargs, mlines\u001B[38;5;241m.\u001B[39mLine2D)\n\u001B[0;32m-> 1632\u001B[0m lines \u001B[38;5;241m=\u001B[39m [\u001B[38;5;241m*\u001B[39m\u001B[38;5;28mself\u001B[39m\u001B[38;5;241m.\u001B[39m_get_lines(\u001B[38;5;241m*\u001B[39margs, data\u001B[38;5;241m=\u001B[39mdata, \u001B[38;5;241m*\u001B[39m\u001B[38;5;241m*\u001B[39mkwargs)]\n\u001B[1;32m   1633\u001B[0m \u001B[38;5;28;01mfor\u001B[39;00m line \u001B[38;5;129;01min\u001B[39;00m lines:\n\u001B[1;32m   1634\u001B[0m     \u001B[38;5;28mself\u001B[39m\u001B[38;5;241m.\u001B[39madd_line(line)\n",
      "File \u001B[0;32m~/opt/anaconda3/lib/python3.9/site-packages/matplotlib/axes/_base.py:312\u001B[0m, in \u001B[0;36m_process_plot_var_args.__call__\u001B[0;34m(self, data, *args, **kwargs)\u001B[0m\n\u001B[1;32m    310\u001B[0m     this \u001B[38;5;241m+\u001B[39m\u001B[38;5;241m=\u001B[39m args[\u001B[38;5;241m0\u001B[39m],\n\u001B[1;32m    311\u001B[0m     args \u001B[38;5;241m=\u001B[39m args[\u001B[38;5;241m1\u001B[39m:]\n\u001B[0;32m--> 312\u001B[0m \u001B[38;5;28;01myield from\u001B[39;00m \u001B[38;5;28;43mself\u001B[39;49m\u001B[38;5;241;43m.\u001B[39;49m\u001B[43m_plot_args\u001B[49m\u001B[43m(\u001B[49m\u001B[43mthis\u001B[49m\u001B[43m,\u001B[49m\u001B[43m \u001B[49m\u001B[43mkwargs\u001B[49m\u001B[43m)\u001B[49m\n",
      "File \u001B[0;32m~/opt/anaconda3/lib/python3.9/site-packages/matplotlib/axes/_base.py:487\u001B[0m, in \u001B[0;36m_process_plot_var_args._plot_args\u001B[0;34m(self, tup, kwargs, return_kwargs)\u001B[0m\n\u001B[1;32m    484\u001B[0m         kw[prop_name] \u001B[38;5;241m=\u001B[39m val\n\u001B[1;32m    486\u001B[0m \u001B[38;5;28;01mif\u001B[39;00m \u001B[38;5;28mlen\u001B[39m(xy) \u001B[38;5;241m==\u001B[39m \u001B[38;5;241m2\u001B[39m:\n\u001B[0;32m--> 487\u001B[0m     x \u001B[38;5;241m=\u001B[39m \u001B[43m_check_1d\u001B[49m\u001B[43m(\u001B[49m\u001B[43mxy\u001B[49m\u001B[43m[\u001B[49m\u001B[38;5;241;43m0\u001B[39;49m\u001B[43m]\u001B[49m\u001B[43m)\u001B[49m\n\u001B[1;32m    488\u001B[0m     y \u001B[38;5;241m=\u001B[39m _check_1d(xy[\u001B[38;5;241m1\u001B[39m])\n\u001B[1;32m    489\u001B[0m \u001B[38;5;28;01melse\u001B[39;00m:\n",
      "File \u001B[0;32m~/opt/anaconda3/lib/python3.9/site-packages/matplotlib/cbook/__init__.py:1327\u001B[0m, in \u001B[0;36m_check_1d\u001B[0;34m(x)\u001B[0m\n\u001B[1;32m   1321\u001B[0m \u001B[38;5;28;01mwith\u001B[39;00m warnings\u001B[38;5;241m.\u001B[39mcatch_warnings(record\u001B[38;5;241m=\u001B[39m\u001B[38;5;28;01mTrue\u001B[39;00m) \u001B[38;5;28;01mas\u001B[39;00m w:\n\u001B[1;32m   1322\u001B[0m     warnings\u001B[38;5;241m.\u001B[39mfilterwarnings(\n\u001B[1;32m   1323\u001B[0m         \u001B[38;5;124m\"\u001B[39m\u001B[38;5;124malways\u001B[39m\u001B[38;5;124m\"\u001B[39m,\n\u001B[1;32m   1324\u001B[0m         category\u001B[38;5;241m=\u001B[39m\u001B[38;5;167;01mWarning\u001B[39;00m,\n\u001B[1;32m   1325\u001B[0m         message\u001B[38;5;241m=\u001B[39m\u001B[38;5;124m'\u001B[39m\u001B[38;5;124mSupport for multi-dimensional indexing\u001B[39m\u001B[38;5;124m'\u001B[39m)\n\u001B[0;32m-> 1327\u001B[0m     ndim \u001B[38;5;241m=\u001B[39m \u001B[43mx\u001B[49m\u001B[43m[\u001B[49m\u001B[43m:\u001B[49m\u001B[43m,\u001B[49m\u001B[43m \u001B[49m\u001B[38;5;28;43;01mNone\u001B[39;49;00m\u001B[43m]\u001B[49m\u001B[38;5;241m.\u001B[39mndim\n\u001B[1;32m   1328\u001B[0m     \u001B[38;5;66;03m# we have definitely hit a pandas index or series object\u001B[39;00m\n\u001B[1;32m   1329\u001B[0m     \u001B[38;5;66;03m# cast to a numpy array.\u001B[39;00m\n\u001B[1;32m   1330\u001B[0m     \u001B[38;5;28;01mif\u001B[39;00m \u001B[38;5;28mlen\u001B[39m(w) \u001B[38;5;241m>\u001B[39m \u001B[38;5;241m0\u001B[39m:\n",
      "File \u001B[0;32m~/opt/anaconda3/lib/python3.9/site-packages/pandas/core/frame.py:3505\u001B[0m, in \u001B[0;36mDataFrame.__getitem__\u001B[0;34m(self, key)\u001B[0m\n\u001B[1;32m   3503\u001B[0m \u001B[38;5;28;01mif\u001B[39;00m \u001B[38;5;28mself\u001B[39m\u001B[38;5;241m.\u001B[39mcolumns\u001B[38;5;241m.\u001B[39mnlevels \u001B[38;5;241m>\u001B[39m \u001B[38;5;241m1\u001B[39m:\n\u001B[1;32m   3504\u001B[0m     \u001B[38;5;28;01mreturn\u001B[39;00m \u001B[38;5;28mself\u001B[39m\u001B[38;5;241m.\u001B[39m_getitem_multilevel(key)\n\u001B[0;32m-> 3505\u001B[0m indexer \u001B[38;5;241m=\u001B[39m \u001B[38;5;28;43mself\u001B[39;49m\u001B[38;5;241;43m.\u001B[39;49m\u001B[43mcolumns\u001B[49m\u001B[38;5;241;43m.\u001B[39;49m\u001B[43mget_loc\u001B[49m\u001B[43m(\u001B[49m\u001B[43mkey\u001B[49m\u001B[43m)\u001B[49m\n\u001B[1;32m   3506\u001B[0m \u001B[38;5;28;01mif\u001B[39;00m is_integer(indexer):\n\u001B[1;32m   3507\u001B[0m     indexer \u001B[38;5;241m=\u001B[39m [indexer]\n",
      "File \u001B[0;32m~/opt/anaconda3/lib/python3.9/site-packages/pandas/core/indexes/base.py:3628\u001B[0m, in \u001B[0;36mIndex.get_loc\u001B[0;34m(self, key, method, tolerance)\u001B[0m\n\u001B[1;32m   3623\u001B[0m         \u001B[38;5;28;01mraise\u001B[39;00m \u001B[38;5;167;01mKeyError\u001B[39;00m(key) \u001B[38;5;28;01mfrom\u001B[39;00m \u001B[38;5;21;01merr\u001B[39;00m\n\u001B[1;32m   3624\u001B[0m     \u001B[38;5;28;01mexcept\u001B[39;00m \u001B[38;5;167;01mTypeError\u001B[39;00m:\n\u001B[1;32m   3625\u001B[0m         \u001B[38;5;66;03m# If we have a listlike key, _check_indexing_error will raise\u001B[39;00m\n\u001B[1;32m   3626\u001B[0m         \u001B[38;5;66;03m#  InvalidIndexError. Otherwise we fall through and re-raise\u001B[39;00m\n\u001B[1;32m   3627\u001B[0m         \u001B[38;5;66;03m#  the TypeError.\u001B[39;00m\n\u001B[0;32m-> 3628\u001B[0m         \u001B[38;5;28;43mself\u001B[39;49m\u001B[38;5;241;43m.\u001B[39;49m\u001B[43m_check_indexing_error\u001B[49m\u001B[43m(\u001B[49m\u001B[43mkey\u001B[49m\u001B[43m)\u001B[49m\n\u001B[1;32m   3629\u001B[0m         \u001B[38;5;28;01mraise\u001B[39;00m\n\u001B[1;32m   3631\u001B[0m \u001B[38;5;66;03m# GH#42269\u001B[39;00m\n",
      "File \u001B[0;32m~/opt/anaconda3/lib/python3.9/site-packages/pandas/core/indexes/base.py:5637\u001B[0m, in \u001B[0;36mIndex._check_indexing_error\u001B[0;34m(self, key)\u001B[0m\n\u001B[1;32m   5633\u001B[0m \u001B[38;5;28;01mdef\u001B[39;00m \u001B[38;5;21m_check_indexing_error\u001B[39m(\u001B[38;5;28mself\u001B[39m, key):\n\u001B[1;32m   5634\u001B[0m     \u001B[38;5;28;01mif\u001B[39;00m \u001B[38;5;129;01mnot\u001B[39;00m is_scalar(key):\n\u001B[1;32m   5635\u001B[0m         \u001B[38;5;66;03m# if key is not a scalar, directly raise an error (the code below\u001B[39;00m\n\u001B[1;32m   5636\u001B[0m         \u001B[38;5;66;03m# would convert to numpy arrays and raise later any way) - GH29926\u001B[39;00m\n\u001B[0;32m-> 5637\u001B[0m         \u001B[38;5;28;01mraise\u001B[39;00m InvalidIndexError(key)\n",
      "\u001B[0;31mInvalidIndexError\u001B[0m: (slice(None, None, None), None)"
     ]
    },
    {
     "data": {
      "text/plain": "<Figure size 432x288 with 1 Axes>",
      "image/png": "[encoded data removed]"
     },
     "metadata": {},
     "output_type": "display_data"
    }
   ],
   "source": [
    "import matplotlib.pyplot as plt\n",
    "\n",
    "y_pred = regr.predict(X_test)\n",
    "plt.scatter(X_test, y_test, color ='b')\n",
    "plt.plot(X_test, y_pred, color ='k')\n",
    "\n",
    "plt.show()"
   ],
   "metadata": {
    "collapsed": false,
    "pycharm": {
     "name": "#%%\n"
    }
   }
  },
  {
   "cell_type": "code",
   "execution_count": 63,
   "outputs": [
    {
     "name": "stdout",
     "output_type": "stream",
     "text": [
      "[[0.66143342]]\n"
     ]
    }
   ],
   "source": [
    "# Slope\n",
    "print(regr.coef_)"
   ],
   "metadata": {
    "collapsed": false,
    "pycharm": {
     "name": "#%%\n"
    }
   }
  },
  {
   "cell_type": "code",
   "execution_count": 64,
   "outputs": [
    {
     "name": "stdout",
     "output_type": "stream",
     "text": [
      "[-1.57830929]\n"
     ]
    }
   ],
   "source": [
    "# intercept\n",
    "print (regr.intercept_)"
   ],
   "metadata": {
    "collapsed": false,
    "pycharm": {
     "name": "#%%\n"
    }
   }
  },
  {
   "cell_type": "markdown",
   "source": [
    "k)\tEvaluate your model and make a conclusion based on R-square and Mean Square Error values. (4 marks)"
   ],
   "metadata": {
    "collapsed": false,
    "pycharm": {
     "name": "#%% md\n"
    }
   }
  },
  {
   "cell_type": "code",
   "execution_count": 65,
   "outputs": [
    {
     "name": "stdout",
     "output_type": "stream",
     "text": [
      "Mean Absolute Error: 1.7921122505388176\n",
      "Mean Squared Error: 4.521006343615094\n",
      "Root Mean Square Error: 2.1262658214849557\n"
     ]
    }
   ],
   "source": [
    "from sklearn import metrics\n",
    "\n",
    "print('Mean Absolute Error:',metrics.mean_absolute_error(y_test,y_pred))\n",
    "print('Mean Squared Error:',metrics.mean_squared_error(y_test,y_pred))\n",
    "print('Root Mean Square Error:',np.sqrt(metrics.mean_squared_error(y_test,y_pred)))"
   ],
   "metadata": {
    "collapsed": false,
    "pycharm": {
     "name": "#%%\n"
    }
   }
  },
  {
   "cell_type": "markdown",
   "source": [
    "Section B"
   ],
   "metadata": {
    "collapsed": false,
    "pycharm": {
     "name": "#%% md\n"
    }
   }
  },
  {
   "cell_type": "markdown",
   "source": [
    " Question Four"
   ],
   "metadata": {
    "collapsed": false,
    "pycharm": {
     "name": "#%% md\n"
    }
   }
  },
  {
   "cell_type": "markdown",
   "source": [
    "a) Import necessary libraries for Support Vector Machine (SVM) algorithm. (5 marks)"
   ],
   "metadata": {
    "collapsed": false,
    "pycharm": {
     "name": "#%% md\n"
    }
   }
  },
  {
   "cell_type": "code",
   "execution_count": 72,
   "outputs": [],
   "source": [
    "from sklearn import svm\n",
    "from sklearn.model_selection import train_test_split\n",
    "from sklearn import metrics\n",
    "%matplotlib inline\n",
    "import matplotlib.pyplot as plt\n",
    "import pandas as pd\n"
   ],
   "metadata": {
    "collapsed": false,
    "pycharm": {
     "name": "#%%\n"
    }
   }
  },
  {
   "cell_type": "markdown",
   "source": [
    "b)\tProduce the SVM model. (5 marks)"
   ],
   "metadata": {
    "collapsed": false,
    "pycharm": {
     "name": "#%% md\n"
    }
   }
  },
  {
   "cell_type": "code",
   "execution_count": 88,
   "outputs": [
    {
     "name": "stderr",
     "output_type": "stream",
     "text": [
      "/Users/dbaluku/opt/anaconda3/lib/python3.9/site-packages/sklearn/utils/validation.py:993: DataConversionWarning: A column-vector y was passed when a 1d array was expected. Please change the shape of y to (n_samples, ), for example using ravel().\n",
      "  y = column_or_1d(y, warn=True)\n"
     ]
    },
    {
     "data": {
      "text/plain": "array([0, 0, 0, 0, 0, 0, 0, 0, 0, 0])"
     },
     "execution_count": 88,
     "metadata": {},
     "output_type": "execute_result"
    }
   ],
   "source": [
    "feature_df= pd.DataFrame(df[['Cases','Year']])\n",
    "X = np.asarray(feature_df)\n",
    "y =pd.DataFrame(df['Deaths'])\n",
    "\n",
    "X_train, X_test, y_train, y_test = train_test_split(X, y, train_size = 0.7,\n",
    "                                                    test_size = 0.3, random_state = 100)\n",
    "\n",
    "clf = svm.SVC(kernel='rbf')\n",
    "clf.fit(X_train, y_train)\n",
    "#Predict the response for test dataset\n",
    "y_pred = clf.predict(X_test)\n",
    "y_pred"
   ],
   "metadata": {
    "collapsed": false,
    "pycharm": {
     "name": "#%%\n"
    }
   }
  },
  {
   "cell_type": "markdown",
   "source": [
    "c)\tCalculate accuracy of the model and F1 for Support Vector Machine. (5 marks)"
   ],
   "metadata": {
    "collapsed": false,
    "pycharm": {
     "name": "#%% md\n"
    }
   }
  },
  {
   "cell_type": "code",
   "execution_count": 89,
   "outputs": [
    {
     "name": "stdout",
     "output_type": "stream",
     "text": [
      "Accuracy: 0.2\n"
     ]
    },
    {
     "data": {
      "text/plain": "0.06666666666666668"
     },
     "execution_count": 89,
     "metadata": {},
     "output_type": "execute_result"
    }
   ],
   "source": [
    "# Model Accuracy:\n",
    "print(\"Accuracy:\",metrics.accuracy_score(y_test, y_pred))\n",
    "from sklearn.metrics import f1_score\n",
    "f1_score(y_test, y_pred, average='weighted')"
   ],
   "metadata": {
    "collapsed": false,
    "pycharm": {
     "name": "#%%\n"
    }
   }
  },
  {
   "cell_type": "markdown",
   "source": [
    "d)\tProduct the Jaccard index score value. (5 marks)"
   ],
   "metadata": {
    "collapsed": false,
    "pycharm": {
     "name": "#%% md\n"
    }
   }
  },
  {
   "cell_type": "code",
   "execution_count": 84,
   "outputs": [
    {
     "data": {
      "text/plain": "0.04"
     },
     "execution_count": 84,
     "metadata": {},
     "output_type": "execute_result"
    }
   ],
   "source": [
    "from sklearn.metrics import jaccard_score\n",
    "jaccard_score(y_test, y_pred, average='weighted')"
   ],
   "metadata": {
    "collapsed": false,
    "pycharm": {
     "name": "#%%\n"
    }
   }
  },
  {
   "cell_type": "markdown",
   "source": [
    "Question Five"
   ],
   "metadata": {
    "collapsed": false,
    "pycharm": {
     "name": "#%% md\n"
    }
   }
  },
  {
   "cell_type": "markdown",
   "source": [
    "    a)\tImport necessary libraries for Logistic Regression algorithm. (5 marks)"
   ],
   "metadata": {
    "collapsed": false,
    "pycharm": {
     "name": "#%% md\n"
    }
   }
  },
  {
   "cell_type": "code",
   "execution_count": 109,
   "outputs": [],
   "source": [
    "import pandas as pd\n",
    "from sklearn.linear_model import LogisticRegression\n",
    "import numpy as np\n",
    "import scipy.optimize as opt\n",
    "from sklearn.metrics import classification_report, confusion_matrix\n",
    "%matplotlib inline\n",
    "import matplotlib.pyplot as plt"
   ],
   "metadata": {
    "collapsed": false,
    "pycharm": {
     "name": "#%%\n"
    }
   }
  },
  {
   "cell_type": "markdown",
   "source": [
    "b)\tProduce the Logistic Regression model. (5 marks)"
   ],
   "metadata": {
    "collapsed": false,
    "pycharm": {
     "name": "#%% md\n"
    }
   }
  },
  {
   "cell_type": "code",
   "execution_count": 110,
   "outputs": [
    {
     "data": {
      "text/plain": "array([[ 0.45776408,  1.30395561],\n       [-0.20927142,  1.14438934],\n       [-0.61300343,  1.06460621],\n       [-0.67444091,  0.90503994],\n       [-0.67444091,  0.8252568 ]])"
     },
     "execution_count": 110,
     "metadata": {},
     "output_type": "execute_result"
    }
   ],
   "source": [
    "feature_df= pd.DataFrame(df[['Cases','Year']])\n",
    "myX = np.asarray(feature_df)\n",
    "y =pd.DataFrame(df['Deaths'])\n",
    "\n",
    "X_train, X_test, y_train, y_test = train_test_split(myX, y, train_size = 0.7,\n",
    "                                                    test_size = 0.3, random_state = 100)\n",
    "\n",
    "from sklearn import preprocessing\n",
    "myX = preprocessing.StandardScaler().fit(myX).transform(myX)\n",
    "myX[0:5]\n"
   ],
   "metadata": {
    "collapsed": false,
    "pycharm": {
     "name": "#%%\n"
    }
   }
  },
  {
   "cell_type": "code",
   "execution_count": 111,
   "outputs": [
    {
     "name": "stdout",
     "output_type": "stream",
     "text": [
      "Train set: (25, 2) (25, 1)\n",
      "Test set: (7, 2) (7, 1)\n"
     ]
    }
   ],
   "source": [
    "from sklearn.model_selection import train_test_split\n",
    "\n",
    "X_train, X_test, y_train, y_test = train_test_split( myX, y, test_size=0.2,random_state=4)\n",
    "print ('Train set:', X_train.shape, y_train.shape)\n",
    "print ('Test set:', X_test.shape, y_test.shape)"
   ],
   "metadata": {
    "collapsed": false,
    "pycharm": {
     "name": "#%%\n"
    }
   }
  },
  {
   "cell_type": "code",
   "execution_count": 112,
   "outputs": [
    {
     "name": "stderr",
     "output_type": "stream",
     "text": [
      "/Users/dbaluku/opt/anaconda3/lib/python3.9/site-packages/sklearn/utils/validation.py:993: DataConversionWarning: A column-vector y was passed when a 1d array was expected. Please change the shape of y to (n_samples, ), for example using ravel().\n",
      "  y = column_or_1d(y, warn=True)\n"
     ]
    },
    {
     "data": {
      "text/plain": "array([[-0.02775335,  0.03368718],\n       [-0.02220161, -0.00281921],\n       [-0.00241884,  0.01757682],\n       [-0.00188113,  0.01017167],\n       [-0.0014321 ,  0.01760352],\n       [-0.00056685,  0.01317537],\n       [-0.00114368,  0.01612745],\n       [-0.00089201,  0.00426318],\n       [-0.00098983, -0.00835136],\n       [ 0.00156979,  0.01620089],\n       [ 0.00079415,  0.00282509],\n       [ 0.00144462,  0.02064915],\n       [ 0.00149245,  0.00432781],\n       [ 0.00773429,  0.02230334],\n       [ 0.01950395, -0.01002093],\n       [ 0.03158288,  0.00811206],\n       [ 0.02243791,  0.00415428],\n       [ 0.02229917, -0.00994506]])"
     },
     "execution_count": 112,
     "metadata": {},
     "output_type": "execute_result"
    }
   ],
   "source": [
    "\n",
    "LR = LogisticRegression(C=0.01,solver='liblinear').fit(X_train,y_train)\n",
    "LR.classes_\n",
    "LR.intercept_\n",
    "LR.coef_"
   ],
   "metadata": {
    "collapsed": false,
    "pycharm": {
     "name": "#%%\n"
    }
   }
  },
  {
   "cell_type": "code",
   "execution_count": 113,
   "outputs": [
    {
     "data": {
      "text/plain": "array([  0,   0,   0,   0,   0,   0, 224])"
     },
     "execution_count": 113,
     "metadata": {},
     "output_type": "execute_result"
    }
   ],
   "source": [
    "y_pred = LR.predict(X_test)\n",
    "y_pred"
   ],
   "metadata": {
    "collapsed": false,
    "pycharm": {
     "name": "#%%\n"
    }
   }
  },
  {
   "cell_type": "code",
   "execution_count": 114,
   "outputs": [
    {
     "data": {
      "text/plain": "array([[0.05600349, 0.05587169, 0.05535003, 0.05536922, 0.05536651,\n        0.0553871 , 0.05537338, 0.0553939 , 0.0554096 , 0.05541871,\n        0.05542412, 0.0554105 , 0.05543374, 0.05551355, 0.05575514,\n        0.05593262, 0.05578483, 0.05580187],\n       [0.05618698, 0.05572383, 0.05542321, 0.05537428, 0.05544144,\n        0.0554221 , 0.05543499, 0.05534546, 0.05524359, 0.05548512,\n        0.05536483, 0.05551813, 0.0553895 , 0.05564613, 0.05560449,\n        0.05596914, 0.05577063, 0.05565614],\n       [0.05714662, 0.05665693, 0.05556407, 0.05553066, 0.05554753,\n        0.05551839, 0.05553782, 0.05549456, 0.05545472, 0.05549234,\n        0.05546142, 0.05550907, 0.0554546 , 0.05540854, 0.05510402,\n        0.05496026, 0.05510122, 0.0550572 ],\n       [0.05786393, 0.05635091, 0.05581136, 0.05557103, 0.05579461,\n        0.05564121, 0.05574347, 0.05536936, 0.05497834, 0.05569743,\n        0.05529456, 0.05583829, 0.05532893, 0.05577781, 0.05456199,\n        0.0549113 , 0.05495081, 0.05451466],\n       [0.05758672, 0.0564952 , 0.0557121 , 0.05555742, 0.05569476,\n        0.05559243, 0.05566065, 0.0554239 , 0.05517887, 0.05561299,\n        0.05536526, 0.05570232, 0.05538203, 0.05562088, 0.05477581,\n        0.05491198, 0.0549999 , 0.05472679],\n       [0.05685091, 0.05656462, 0.05549307, 0.05549738, 0.05548222,\n        0.05547885, 0.0554811 , 0.05549468, 0.0555131 , 0.05545128,\n        0.05547819, 0.05544652, 0.05546847, 0.05537536, 0.05529094,\n        0.05513377, 0.05523933, 0.05526023],\n       [0.05528868, 0.0549899 , 0.05527118, 0.05523813, 0.05531838,\n        0.05532451, 0.05532043, 0.05523843, 0.05513384, 0.05545025,\n        0.05530733, 0.05547953, 0.05535249, 0.05579234, 0.05609704,\n        0.05681714, 0.05634944, 0.05623093]])"
     },
     "execution_count": 114,
     "metadata": {},
     "output_type": "execute_result"
    }
   ],
   "source": [
    "ypred_prob = LR.predict_proba(X_test)\n",
    "ypred_prob\n"
   ],
   "metadata": {
    "collapsed": false,
    "pycharm": {
     "name": "#%%\n"
    }
   }
  },
  {
   "cell_type": "markdown",
   "source": [
    "c)\tCalculate accuracy of the model and F1 for Logistic Regression. (5 marks)"
   ],
   "metadata": {
    "collapsed": false,
    "pycharm": {
     "name": "#%% md\n"
    }
   }
  },
  {
   "cell_type": "code",
   "execution_count": 115,
   "outputs": [
    {
     "name": "stdout",
     "output_type": "stream",
     "text": [
      "Accuracy: 0.0\n"
     ]
    },
    {
     "data": {
      "text/plain": "0.0"
     },
     "execution_count": 115,
     "metadata": {},
     "output_type": "execute_result"
    }
   ],
   "source": [
    "print(\"Accuracy:\",metrics.accuracy_score(y_test, y_pred))\n",
    "from sklearn.metrics import f1_score\n",
    "f1_score(y_test, y_pred, average='weighted')"
   ],
   "metadata": {
    "collapsed": false,
    "pycharm": {
     "name": "#%%\n"
    }
   }
  },
  {
   "cell_type": "code",
   "execution_count": null,
   "outputs": [],
   "source": [],
   "metadata": {
    "collapsed": false,
    "pycharm": {
     "name": "#%%\n"
    }
   }
  }
 ],
 "metadata": {
  "kernelspec": {
   "display_name": "Python 3",
   "language": "python",
   "name": "python3"
  },
  "language_info": {
   "codemirror_mode": {
    "name": "ipython",
    "version": 2
   },
   "file_extension": ".py",
   "mimetype": "text/x-python",
   "name": "python",
   "nbconvert_exporter": "python",
   "pygments_lexer": "ipython2",
   "version": "2.7.6"
  }
 },
 "nbformat": 4,
 "nbformat_minor": 0
}