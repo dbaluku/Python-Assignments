{
 "cells": [
  {
   "cell_type": "markdown",
   "source": [
    "REG NO MAY22/MCOMP/1616U"
   ],
   "metadata": {
    "collapsed": false,
    "pycharm": {
     "name": "#%% md\n"
    }
   }
  },
  {
   "cell_type": "markdown",
   "source": [
    "a)\tImport the necessary python libraries (2 marks)"
   ],
   "metadata": {
    "collapsed": false,
    "pycharm": {
     "name": "#%% md\n"
    }
   }
  },
  {
   "cell_type": "code",
   "execution_count": 2,
   "outputs": [],
   "source": [
    "import requests\n",
    "import lxml.html as lh\n",
    "import pandas as pd\n",
    "import numpy as np"
   ],
   "metadata": {
    "collapsed": false,
    "pycharm": {
     "name": "#%%\n"
    }
   }
  },
  {
   "cell_type": "markdown",
   "source": [
    "b)\tRemove the Website and put the table in Notebook (4 marks)"
   ],
   "metadata": {
    "collapsed": false,
    "pycharm": {
     "name": "#%% md\n"
    }
   }
  },
  {
   "cell_type": "code",
   "execution_count": 3,
   "outputs": [
    {
     "name": "stdout",
     "output_type": "stream",
     "text": [
      "1:Year\n",
      "2:Country\n",
      "3:EVD\n",
      "4:Cases\n",
      "5:Deaths\n",
      "6:Case fatality \n"
     ]
    }
   ],
   "source": [
    "url = 'https://www.who.int/news-room/fact-sheets/detail/ebola-virus-disease'\n",
    "whole_page = requests.get(url)\n",
    "doc = lh.fromstring(whole_page.content)\n",
    "tr_elements = doc.xpath('//tr')\n",
    "[len(T) for T in tr_elements[:6]]\n",
    "\n",
    "tr_elements = doc.xpath('//tr')\n",
    "\n",
    "cols = []\n",
    "i = 0\n",
    "\n",
    "for t in tr_elements[0]:\n",
    "    i+=1\n",
    "    name=t.text_content()\n",
    "    print(\"%d:%s\" % (i,name))\n",
    "    cols.append((name,[]))"
   ],
   "metadata": {
    "collapsed": false,
    "pycharm": {
     "name": "#%%\n"
    }
   }
  },
  {
   "cell_type": "code",
   "execution_count": 4,
   "outputs": [
    {
     "data": {
      "text/plain": "         Year                            Country     EVD Cases Deaths  \\\ncount      41                                 41      41    41     41   \nunique     28                                 20       7    33     31   \ntop     2014   Democratic Republic of the Congo   Zaire     1      0    \nfreq        6                                  9      25     8      5   \n\n       Case fatality   \ncount              41  \nunique             27  \ntop               0%   \nfreq                5  ",
      "text/html": "<div>\n<style scoped>\n    .dataframe tbody tr th:only-of-type {\n        vertical-align: middle;\n    }\n\n    .dataframe tbody tr th {\n        vertical-align: top;\n    }\n\n    .dataframe thead th {\n        text-align: right;\n    }\n</style>\n<table border=\"1\" class=\"dataframe\">\n  <thead>\n    <tr style=\"text-align: right;\">\n      <th></th>\n      <th>Year</th>\n      <th>Country</th>\n      <th>EVD</th>\n      <th>Cases</th>\n      <th>Deaths</th>\n      <th>Case fatality</th>\n    </tr>\n  </thead>\n  <tbody>\n    <tr>\n      <th>count</th>\n      <td>41</td>\n      <td>41</td>\n      <td>41</td>\n      <td>41</td>\n      <td>41</td>\n      <td>41</td>\n    </tr>\n    <tr>\n      <th>unique</th>\n      <td>28</td>\n      <td>20</td>\n      <td>7</td>\n      <td>33</td>\n      <td>31</td>\n      <td>27</td>\n    </tr>\n    <tr>\n      <th>top</th>\n      <td>2014</td>\n      <td>Democratic Republic of the Congo</td>\n      <td>Zaire</td>\n      <td>1</td>\n      <td>0</td>\n      <td>0%</td>\n    </tr>\n    <tr>\n      <th>freq</th>\n      <td>6</td>\n      <td>9</td>\n      <td>25</td>\n      <td>8</td>\n      <td>5</td>\n      <td>5</td>\n    </tr>\n  </tbody>\n</table>\n</div>"
     },
     "execution_count": 4,
     "metadata": {},
     "output_type": "execute_result"
    }
   ],
   "source": [
    "for j in range(1,len(tr_elements)): # Because header is the first row, data would be store in the subsequent rows.\n",
    "    T = tr_elements[j] #T is j'th row\n",
    "\n",
    "    if len(T)!=6: #if row is not size 3, //tr data is not from the table.\n",
    "        break\n",
    "\n",
    "    i = 0 #i is the index of the first column\n",
    "\n",
    "    for t in T.iterchildren(): #iterate through each element of the row\n",
    "        data=t.text_content()\n",
    "\n",
    "        cols[i][1].append(data) #append the data to the empty list of the i'th column\n",
    "\n",
    "        i+=1\n",
    "\n",
    "\n",
    "[len(C) for (title,C) in cols]\n",
    "Dict = {title:column for (title,column) in cols}\n",
    "df = pd.DataFrame(Dict)\n",
    "df.describe()"
   ],
   "metadata": {
    "collapsed": false,
    "pycharm": {
     "name": "#%%\n"
    }
   }
  },
  {
   "cell_type": "markdown",
   "source": [
    "a.\tFirst 10 records (2 marks)"
   ],
   "metadata": {
    "collapsed": false,
    "pycharm": {
     "name": "#%% md\n"
    }
   }
  },
  {
   "cell_type": "code",
   "execution_count": 5,
   "outputs": [
    {
     "data": {
      "text/plain": "         Year                             Country      EVD    Cases Deaths  \\\n0        2021                              Guinea    Zaire  Ongoing          \n1        2021    Democratic Republic of the Congo    Zaire  Ongoing          \n2        2020    Democratic Republic of the Congo    Zaire      130     55   \n3  2018-2020    Democratic Republic of the Congo    Zaire     3481   2299    \n4       2018    Democratic Republic of the Congo   Zaire       54     33     \n5       2017   Democratic Republic of the Congo    Zaire        8      4     \n6       2015                               Italy    Zaire        1      0    \n7       2014                               Spain    Zaire        1      0    \n8       2014                                  UK    Zaire        1      0    \n9       2014                                 USA    Zaire        4      1    \n\n  Case fatality   \n0                 \n1                 \n2            42%  \n3           66%   \n4          61%    \n5          50%    \n6            0%   \n7            0%   \n8            0%   \n9           25%   ",
      "text/html": "<div>\n<style scoped>\n    .dataframe tbody tr th:only-of-type {\n        vertical-align: middle;\n    }\n\n    .dataframe tbody tr th {\n        vertical-align: top;\n    }\n\n    .dataframe thead th {\n        text-align: right;\n    }\n</style>\n<table border=\"1\" class=\"dataframe\">\n  <thead>\n    <tr style=\"text-align: right;\">\n      <th></th>\n      <th>Year</th>\n      <th>Country</th>\n      <th>EVD</th>\n      <th>Cases</th>\n      <th>Deaths</th>\n      <th>Case fatality</th>\n    </tr>\n  </thead>\n  <tbody>\n    <tr>\n      <th>0</th>\n      <td>2021</td>\n      <td>Guinea</td>\n      <td>Zaire</td>\n      <td>Ongoing</td>\n      <td></td>\n      <td></td>\n    </tr>\n    <tr>\n      <th>1</th>\n      <td>2021</td>\n      <td>Democratic Republic of the Congo</td>\n      <td>Zaire</td>\n      <td>Ongoing</td>\n      <td></td>\n      <td></td>\n    </tr>\n    <tr>\n      <th>2</th>\n      <td>2020</td>\n      <td>Democratic Republic of the Congo</td>\n      <td>Zaire</td>\n      <td>130</td>\n      <td>55</td>\n      <td>42%</td>\n    </tr>\n    <tr>\n      <th>3</th>\n      <td>2018-2020</td>\n      <td>Democratic Republic of the Congo</td>\n      <td>Zaire</td>\n      <td>3481</td>\n      <td>2299</td>\n      <td>66%</td>\n    </tr>\n    <tr>\n      <th>4</th>\n      <td>2018</td>\n      <td>Democratic Republic of the Congo</td>\n      <td>Zaire</td>\n      <td>54</td>\n      <td>33</td>\n      <td>61%</td>\n    </tr>\n    <tr>\n      <th>5</th>\n      <td>2017</td>\n      <td>Democratic Republic of the Congo</td>\n      <td>Zaire</td>\n      <td>8</td>\n      <td>4</td>\n      <td>50%</td>\n    </tr>\n    <tr>\n      <th>6</th>\n      <td>2015</td>\n      <td>Italy</td>\n      <td>Zaire</td>\n      <td>1</td>\n      <td>0</td>\n      <td>0%</td>\n    </tr>\n    <tr>\n      <th>7</th>\n      <td>2014</td>\n      <td>Spain</td>\n      <td>Zaire</td>\n      <td>1</td>\n      <td>0</td>\n      <td>0%</td>\n    </tr>\n    <tr>\n      <th>8</th>\n      <td>2014</td>\n      <td>UK</td>\n      <td>Zaire</td>\n      <td>1</td>\n      <td>0</td>\n      <td>0%</td>\n    </tr>\n    <tr>\n      <th>9</th>\n      <td>2014</td>\n      <td>USA</td>\n      <td>Zaire</td>\n      <td>4</td>\n      <td>1</td>\n      <td>25%</td>\n    </tr>\n  </tbody>\n</table>\n</div>"
     },
     "execution_count": 5,
     "metadata": {},
     "output_type": "execute_result"
    }
   ],
   "source": [
    "df.head(10)"
   ],
   "metadata": {
    "collapsed": false,
    "pycharm": {
     "name": "#%%\n"
    }
   }
  },
  {
   "cell_type": "markdown",
   "source": [
    "b.\tLast 10 records (2 marks)"
   ],
   "metadata": {
    "collapsed": false,
    "pycharm": {
     "name": "#%% md\n"
    }
   }
  },
  {
   "cell_type": "code",
   "execution_count": 6,
   "outputs": [
    {
     "data": {
      "text/plain": "               Year                            Country          EVD Cases  \\\n31            1996            South Africa (ex-Gabon)        Zaire     1    \n32  1996 (Jul-Dec)                              Gabon        Zaire    60    \n33  1996 (Jan-Apr)                              Gabon        Zaire    31    \n34            1995   Democratic Republic of the Congo        Zaire   315    \n35            1994                      Côte d'Ivoire   Taï Forest     1    \n36            1994                              Gabon        Zaire    52    \n37            1979                              Sudan        Sudan    34    \n38            1977   Democratic Republic of the Congo        Zaire     1    \n39            1976                              Sudan        Sudan   284    \n40             1976  Democratic Republic of the Congo        Zaire   318    \n\n   Deaths Case fatality   \n31     1           100%   \n32    45            75%   \n33    21            68%   \n34   254            81%   \n35     0             0%   \n36    31            60%   \n37    22            65%   \n38     1           100%   \n39   151            53%   \n40   280             88%  ",
      "text/html": "<div>\n<style scoped>\n    .dataframe tbody tr th:only-of-type {\n        vertical-align: middle;\n    }\n\n    .dataframe tbody tr th {\n        vertical-align: top;\n    }\n\n    .dataframe thead th {\n        text-align: right;\n    }\n</style>\n<table border=\"1\" class=\"dataframe\">\n  <thead>\n    <tr style=\"text-align: right;\">\n      <th></th>\n      <th>Year</th>\n      <th>Country</th>\n      <th>EVD</th>\n      <th>Cases</th>\n      <th>Deaths</th>\n      <th>Case fatality</th>\n    </tr>\n  </thead>\n  <tbody>\n    <tr>\n      <th>31</th>\n      <td>1996</td>\n      <td>South Africa (ex-Gabon)</td>\n      <td>Zaire</td>\n      <td>1</td>\n      <td>1</td>\n      <td>100%</td>\n    </tr>\n    <tr>\n      <th>32</th>\n      <td>1996 (Jul-Dec)</td>\n      <td>Gabon</td>\n      <td>Zaire</td>\n      <td>60</td>\n      <td>45</td>\n      <td>75%</td>\n    </tr>\n    <tr>\n      <th>33</th>\n      <td>1996 (Jan-Apr)</td>\n      <td>Gabon</td>\n      <td>Zaire</td>\n      <td>31</td>\n      <td>21</td>\n      <td>68%</td>\n    </tr>\n    <tr>\n      <th>34</th>\n      <td>1995</td>\n      <td>Democratic Republic of the Congo</td>\n      <td>Zaire</td>\n      <td>315</td>\n      <td>254</td>\n      <td>81%</td>\n    </tr>\n    <tr>\n      <th>35</th>\n      <td>1994</td>\n      <td>Côte d'Ivoire</td>\n      <td>Taï Forest</td>\n      <td>1</td>\n      <td>0</td>\n      <td>0%</td>\n    </tr>\n    <tr>\n      <th>36</th>\n      <td>1994</td>\n      <td>Gabon</td>\n      <td>Zaire</td>\n      <td>52</td>\n      <td>31</td>\n      <td>60%</td>\n    </tr>\n    <tr>\n      <th>37</th>\n      <td>1979</td>\n      <td>Sudan</td>\n      <td>Sudan</td>\n      <td>34</td>\n      <td>22</td>\n      <td>65%</td>\n    </tr>\n    <tr>\n      <th>38</th>\n      <td>1977</td>\n      <td>Democratic Republic of the Congo</td>\n      <td>Zaire</td>\n      <td>1</td>\n      <td>1</td>\n      <td>100%</td>\n    </tr>\n    <tr>\n      <th>39</th>\n      <td>1976</td>\n      <td>Sudan</td>\n      <td>Sudan</td>\n      <td>284</td>\n      <td>151</td>\n      <td>53%</td>\n    </tr>\n    <tr>\n      <th>40</th>\n      <td>1976</td>\n      <td>Democratic Republic of the Congo</td>\n      <td>Zaire</td>\n      <td>318</td>\n      <td>280</td>\n      <td>88%</td>\n    </tr>\n  </tbody>\n</table>\n</div>"
     },
     "execution_count": 6,
     "metadata": {},
     "output_type": "execute_result"
    }
   ],
   "source": [
    "df.tail(10)"
   ],
   "metadata": {
    "collapsed": false,
    "pycharm": {
     "name": "#%%\n"
    }
   }
  },
  {
   "cell_type": "markdown",
   "source": [
    "d)\tClean the data set (8 marks)"
   ],
   "metadata": {
    "collapsed": false,
    "pycharm": {
     "name": "#%% md\n"
    }
   }
  },
  {
   "cell_type": "code",
   "execution_count": null,
   "outputs": [],
   "source": [
    "# clean dataset\n",
    "df = df.drop([0,1,3,13,14,15,16,28,29])\n",
    "df['Cases'] = df['Cases'].str.strip()\n",
    "df['Deaths'] = df['Deaths'].str.strip()\n",
    "df.iloc[:,5] =df.iloc[:,5].str.strip()\n",
    "df['Year'] = df['Year'].str.strip()\n",
    "df['Year'] = df['Year'].str.replace(r\"\\(.*\\)\",\"\")\n",
    "df.iloc[:,5] =df.iloc[:,5].str.replace(r\"%\",\"\")\n",
    "\n",
    "df1 =df\n",
    "\n",
    "df['Year'] = pd.to_numeric(df['Year'])\n",
    "df['Cases'] = pd.to_numeric(df['Cases'])\n",
    "df['Deaths'] = pd.to_numeric(df['Deaths'])\n",
    "df.iloc[:,5] =pd.to_numeric(df.iloc[:,5])\n",
    "df"
   ],
   "metadata": {
    "collapsed": false,
    "pycharm": {
     "name": "#%%\n"
    }
   }
  },
  {
   "cell_type": "markdown",
   "source": [
    "e)\tProduce the descriptive statistical table values. (2 marks)"
   ],
   "metadata": {
    "collapsed": false,
    "pycharm": {
     "name": "#%% md\n"
    }
   }
  },
  {
   "cell_type": "code",
   "execution_count": null,
   "outputs": [],
   "source": [
    "df.dtypes"
   ],
   "metadata": {
    "collapsed": false,
    "pycharm": {
     "name": "#%%\n"
    }
   }
  },
  {
   "cell_type": "code",
   "execution_count": null,
   "outputs": [],
   "source": [
    "\n",
    "df.describe()"
   ],
   "metadata": {
    "collapsed": false,
    "pycharm": {
     "name": "#%%\n"
    }
   }
  },
  {
   "cell_type": "markdown",
   "source": [
    "f)\tCheck the correlations between the features (2 marks)"
   ],
   "metadata": {
    "collapsed": false,
    "pycharm": {
     "name": "#%% md\n"
    }
   }
  },
  {
   "cell_type": "code",
   "execution_count": null,
   "outputs": [],
   "source": [
    "df.corr()"
   ],
   "metadata": {
    "collapsed": false,
    "pycharm": {
     "name": "#%%\n"
    }
   }
  },
  {
   "cell_type": "markdown",
   "source": [
    "g)\tGenerate the regression plots between variables.  (2 marks)"
   ],
   "metadata": {
    "collapsed": false,
    "pycharm": {
     "name": "#%% md\n"
    }
   }
  },
  {
   "cell_type": "code",
   "execution_count": null,
   "outputs": [],
   "source": [
    "import seaborn as sns"
   ],
   "metadata": {
    "collapsed": false,
    "pycharm": {
     "name": "#%%\n"
    }
   }
  },
  {
   "cell_type": "code",
   "execution_count": null,
   "outputs": [],
   "source": [
    "# getting numeric columns to use\n",
    "year = df.Year\n",
    "cases = df.Cases\n",
    "deaths = df.Deaths\n",
    "cases_fatality = df.iloc[:,5]"
   ],
   "metadata": {
    "collapsed": false,
    "pycharm": {
     "name": "#%%\n"
    }
   }
  },
  {
   "cell_type": "code",
   "execution_count": null,
   "outputs": [],
   "source": [
    "sns.set_theme(color_codes=True)\n",
    "\n",
    "sns.regplot(x=year, y=cases);\n"
   ],
   "metadata": {
    "collapsed": false,
    "pycharm": {
     "name": "#%%\n"
    }
   }
  },
  {
   "cell_type": "code",
   "execution_count": null,
   "outputs": [],
   "source": [
    "sns.lmplot(x=\"Year\", y=\"Deaths\",data=df)"
   ],
   "metadata": {
    "collapsed": false,
    "pycharm": {
     "name": "#%%\n"
    }
   }
  },
  {
   "cell_type": "markdown",
   "source": [
    "h)\tGenerate a heatmap for the correlations of features. (4 marks)"
   ],
   "metadata": {
    "collapsed": false,
    "pycharm": {
     "name": "#%% md\n"
    }
   }
  },
  {
   "cell_type": "code",
   "execution_count": null,
   "outputs": [],
   "source": [
    "sns.heatmap(df.corr(),annot=True)"
   ],
   "metadata": {
    "collapsed": false,
    "pycharm": {
     "name": "#%%\n"
    }
   }
  },
  {
   "cell_type": "markdown",
   "source": [
    "i)\tProduce Simple Linear Regression model to show relationship between the two features that are strongly correlated. (4 marks)"
   ],
   "metadata": {
    "collapsed": false,
    "pycharm": {
     "name": "#%% md\n"
    }
   }
  },
  {
   "cell_type": "code",
   "execution_count": null,
   "outputs": [],
   "source": [
    "from sklearn.linear_model import LinearRegression\n",
    "from sklearn.model_selection import train_test_split\n",
    "\n",
    "X= pd.DataFrame(df['Cases'])\n",
    "y =pd.DataFrame(df['Deaths'])\n",
    "\n",
    "X_train, X_test, y_train, y_test = train_test_split(X, y, train_size = 0.7,\n",
    "                                                    test_size = 0.3, random_state = 100)\n",
    "regr = LinearRegression()\n",
    "\n",
    "regr.fit(X_train, y_train)\n",
    "print(regr.score(X_test, y_test))"
   ],
   "metadata": {
    "collapsed": false,
    "pycharm": {
     "name": "#%%\n"
    }
   }
  },
  {
   "cell_type": "markdown",
   "source": [
    "Compute the slope and the intercept of your graph and deduce your model in the form\n",
    "y=mx+c  (4 marks)\n"
   ],
   "metadata": {
    "collapsed": false,
    "pycharm": {
     "name": "#%% md\n"
    }
   }
  },
  {
   "cell_type": "code",
   "execution_count": null,
   "outputs": [],
   "source": [
    "\n",
    "y_pred = regr.predict(X_test)\n"
   ],
   "metadata": {
    "collapsed": false,
    "pycharm": {
     "name": "#%%\n"
    }
   }
  },
  {
   "cell_type": "code",
   "execution_count": null,
   "outputs": [],
   "source": [
    "# Slope\n",
    "print(regr.coef_)"
   ],
   "metadata": {
    "collapsed": false,
    "pycharm": {
     "name": "#%%\n"
    }
   }
  },
  {
   "cell_type": "code",
   "execution_count": null,
   "outputs": [],
   "source": [
    "# intercept\n",
    "print (regr.intercept_)"
   ],
   "metadata": {
    "collapsed": false,
    "pycharm": {
     "name": "#%%\n"
    }
   }
  },
  {
   "cell_type": "markdown",
   "source": [
    "k)\tEvaluate your model and make a conclusion based on R-square and Mean Square Error values. (4 marks)"
   ],
   "metadata": {
    "collapsed": false,
    "pycharm": {
     "name": "#%% md\n"
    }
   }
  },
  {
   "cell_type": "code",
   "execution_count": null,
   "outputs": [],
   "source": [
    "from sklearn import metrics\n",
    "\n",
    "print('Mean Absolute Error:',metrics.mean_absolute_error(y_test,y_pred))\n",
    "print('Mean Squared Error:',metrics.mean_squared_error(y_test,y_pred))\n",
    "print('Root Mean Square Error:',np.sqrt(metrics.mean_squared_error(y_test,y_pred)))"
   ],
   "metadata": {
    "collapsed": false,
    "pycharm": {
     "name": "#%%\n"
    }
   }
  },
  {
   "cell_type": "markdown",
   "source": [
    "Section B"
   ],
   "metadata": {
    "collapsed": false,
    "pycharm": {
     "name": "#%% md\n"
    }
   }
  },
  {
   "cell_type": "markdown",
   "source": [
    " Question Four"
   ],
   "metadata": {
    "collapsed": false,
    "pycharm": {
     "name": "#%% md\n"
    }
   }
  },
  {
   "cell_type": "markdown",
   "source": [
    "a) Import necessary libraries for Support Vector Machine (SVM) algorithm. (5 marks)"
   ],
   "metadata": {
    "collapsed": false,
    "pycharm": {
     "name": "#%% md\n"
    }
   }
  },
  {
   "cell_type": "code",
   "execution_count": null,
   "outputs": [],
   "source": [
    "from sklearn import svm\n",
    "from sklearn.model_selection import train_test_split\n",
    "from sklearn import metrics\n",
    "%matplotlib inline\n",
    "import pandas as pd\n"
   ],
   "metadata": {
    "collapsed": false,
    "pycharm": {
     "name": "#%%\n"
    }
   }
  },
  {
   "cell_type": "markdown",
   "source": [
    "b)\tProduce the SVM model. (5 marks)"
   ],
   "metadata": {
    "collapsed": false,
    "pycharm": {
     "name": "#%% md\n"
    }
   }
  },
  {
   "cell_type": "code",
   "execution_count": null,
   "outputs": [],
   "source": [
    "feature_df= df[['Cases','Year']]\n",
    "X = np.asarray(feature_df)\n",
    "y = pd.DataFrame(df['Deaths']).astype('int')\n",
    "\n",
    "\n",
    "X_train, X_test, y_train, y_test = train_test_split(X, y, train_size = 0.7,test_size = 0.3)\n",
    "X_train"
   ],
   "metadata": {
    "collapsed": false,
    "pycharm": {
     "name": "#%%\n"
    }
   }
  },
  {
   "cell_type": "code",
   "execution_count": null,
   "outputs": [],
   "source": [
    "\n",
    "clf = svm.SVC(kernel='rbf')\n",
    "clf.fit(X_train, y_train)\n",
    "#Predict the response for test dataset\n",
    "y_pred = clf.predict(X_test)\n",
    "y_pred"
   ],
   "metadata": {
    "collapsed": false,
    "pycharm": {
     "name": "#%%\n"
    }
   }
  },
  {
   "cell_type": "markdown",
   "source": [
    "c)\tCalculate accuracy of the model and F1 for Support Vector Machine. (5 marks)"
   ],
   "metadata": {
    "collapsed": false,
    "pycharm": {
     "name": "#%% md\n"
    }
   }
  },
  {
   "cell_type": "code",
   "execution_count": null,
   "outputs": [],
   "source": [
    "# Model Accuracy:\n",
    "print(\"Accuracy:\",metrics.accuracy_score(y_test, y_pred))\n",
    "from sklearn.metrics import f1_score\n",
    "print(\"F1 score\",  f1_score(y_test, y_pred, average='weighted'))"
   ],
   "metadata": {
    "collapsed": false,
    "pycharm": {
     "name": "#%%\n"
    }
   }
  },
  {
   "cell_type": "markdown",
   "source": [
    "d)\tProduct the Jaccard index score value. (5 marks)"
   ],
   "metadata": {
    "collapsed": false,
    "pycharm": {
     "name": "#%% md\n"
    }
   }
  },
  {
   "cell_type": "code",
   "execution_count": null,
   "outputs": [],
   "source": [
    "from sklearn.metrics import jaccard_score\n",
    "print(\"Jacard score \",jaccard_score(y_test, y_pred, average='weighted'))"
   ],
   "metadata": {
    "collapsed": false,
    "pycharm": {
     "name": "#%%\n"
    }
   }
  },
  {
   "cell_type": "markdown",
   "source": [
    "Question Five"
   ],
   "metadata": {
    "collapsed": false,
    "pycharm": {
     "name": "#%% md\n"
    }
   }
  },
  {
   "cell_type": "markdown",
   "source": [
    "    a)\tImport necessary libraries for Logistic Regression algorithm. (5 marks)"
   ],
   "metadata": {
    "collapsed": false,
    "pycharm": {
     "name": "#%% md\n"
    }
   }
  },
  {
   "cell_type": "code",
   "execution_count": null,
   "outputs": [],
   "source": [
    "import pandas as pd\n",
    "from sklearn.linear_model import LogisticRegression\n",
    "import numpy as np\n",
    "from sklearn import preprocessing\n",
    "from sklearn.model_selection import train_test_split\n",
    "%matplotlib inline\n",
    "import matplotlib.pyplot as plt"
   ],
   "metadata": {
    "collapsed": false,
    "pycharm": {
     "name": "#%%\n"
    }
   }
  },
  {
   "cell_type": "markdown",
   "source": [
    "b)\tProduce the Logistic Regression model. (5 marks)"
   ],
   "metadata": {
    "collapsed": false,
    "pycharm": {
     "name": "#%% md\n"
    }
   }
  },
  {
   "cell_type": "code",
   "execution_count": null,
   "outputs": [],
   "source": [
    "X = np.asarray(df[['Year','Cases']])\n",
    "y =pd.DataFrame(df['Deaths'])\n",
    "\n",
    "X = preprocessing.StandardScaler().fit(X).transform(X)\n",
    "X[0:5]\n"
   ],
   "metadata": {
    "collapsed": false,
    "pycharm": {
     "name": "#%%\n"
    }
   }
  },
  {
   "cell_type": "code",
   "execution_count": null,
   "outputs": [],
   "source": [
    "X_train, X_test, y_train, y_test = train_test_split(X, y, test_size=0.2)\n",
    "print ('Train set:', X_train.shape, y_train.shape)\n",
    "print ('Test set:', X_test.shape, y_test.shape)"
   ],
   "metadata": {
    "collapsed": false,
    "pycharm": {
     "name": "#%%\n"
    }
   }
  },
  {
   "cell_type": "code",
   "execution_count": null,
   "outputs": [],
   "source": [
    "LR = LogisticRegression(C=0.01,solver='liblinear').fit(X_train,y_train)\n",
    "LR.classes_\n",
    "LR.intercept_\n",
    "LR.coef_"
   ],
   "metadata": {
    "collapsed": false,
    "pycharm": {
     "name": "#%%\n"
    }
   }
  },
  {
   "cell_type": "code",
   "execution_count": null,
   "outputs": [],
   "source": [
    "y_pred = LR.predict(X_test)\n",
    "y_pred"
   ],
   "metadata": {
    "collapsed": false,
    "pycharm": {
     "name": "#%%\n"
    }
   }
  },
  {
   "cell_type": "code",
   "execution_count": null,
   "outputs": [],
   "source": [
    "ypred_prob = LR.predict_proba(X_test)\n",
    "ypred_prob\n"
   ],
   "metadata": {
    "collapsed": false,
    "pycharm": {
     "name": "#%%\n"
    }
   }
  },
  {
   "cell_type": "markdown",
   "source": [
    "c)\tCalculate accuracy of the model and F1 for Logistic Regression. (5 marks)"
   ],
   "metadata": {
    "collapsed": false,
    "pycharm": {
     "name": "#%% md\n"
    }
   }
  },
  {
   "cell_type": "code",
   "execution_count": null,
   "outputs": [],
   "source": [
    "print(\"Accuracy:\",metrics.accuracy_score(y_test, y_pred))\n",
    "from sklearn.metrics import f1_score\n",
    "print (\"FI score\", f1_score(y_test, y_pred, average='macro'))"
   ],
   "metadata": {
    "collapsed": false,
    "pycharm": {
     "name": "#%%\n"
    }
   }
  },
  {
   "cell_type": "markdown",
   "source": [
    "d)\tProduct the Jaccard index score and Log loss values. (5 marks)"
   ],
   "metadata": {
    "collapsed": false,
    "pycharm": {
     "name": "#%% md\n"
    }
   }
  },
  {
   "cell_type": "code",
   "execution_count": null,
   "outputs": [],
   "source": [
    "print(\"Jacard score \", jaccard_score(y_test, y_pred, average='weighted'))"
   ],
   "metadata": {
    "collapsed": false,
    "pycharm": {
     "name": "#%%\n"
    }
   }
  },
  {
   "cell_type": "code",
   "execution_count": null,
   "outputs": [],
   "source": [],
   "metadata": {
    "collapsed": false,
    "pycharm": {
     "name": "#%%\n"
    }
   }
  },
  {
   "cell_type": "markdown",
   "source": [
    "Question Three"
   ],
   "metadata": {
    "collapsed": false,
    "pycharm": {
     "name": "#%% md\n"
    }
   }
  },
  {
   "cell_type": "markdown",
   "source": [
    "a)\tImport necessary libraries for Decision Trees algorithm. (4 marks)"
   ],
   "metadata": {
    "collapsed": false,
    "pycharm": {
     "name": "#%% md\n"
    }
   }
  },
  {
   "cell_type": "code",
   "execution_count": null,
   "outputs": [],
   "source": [
    "import pydotplus\n",
    "import matplotlib.image as mpimg\n",
    "from sklearn import tree\n",
    "%matplotlib inline\n",
    "from six import StringIO\n",
    "import matplotlib.image as mpimg\n",
    "from sklearn import tree\n",
    "from sklearn import preprocessing\n",
    "from sklearn.tree import DecisionTreeClassifier"
   ],
   "metadata": {
    "collapsed": false,
    "pycharm": {
     "name": "#%%\n"
    }
   }
  },
  {
   "cell_type": "markdown",
   "source": [
    "b)\tBuild an empty Decision Tree object with depth 5. (4 marks)"
   ],
   "metadata": {
    "collapsed": false,
    "pycharm": {
     "name": "#%% md\n"
    }
   }
  },
  {
   "cell_type": "code",
   "execution_count": null,
   "outputs": [],
   "source": [
    "TelecomTree = DecisionTreeClassifier(criterion=\"entropy\", max_depth = 5)\n",
    "TelecomTree # it shows the default parameters"
   ],
   "metadata": {
    "collapsed": false,
    "pycharm": {
     "name": "#%%\n"
    }
   }
  },
  {
   "cell_type": "markdown",
   "source": [
    "c)\tTrain the decision tree using the global X data set. (4 marks)"
   ],
   "metadata": {
    "collapsed": false,
    "pycharm": {
     "name": "#%% md\n"
    }
   }
  },
  {
   "cell_type": "code",
   "execution_count": null,
   "outputs": [],
   "source": [
    "X = np.asarray(df1[['Year','Cases']])\n",
    "y =pd.DataFrame(df1['Deaths'])\n",
    "\n",
    "X= preprocessing.StandardScaler().fit(X).transform(X)\n",
    "X[0:5]"
   ],
   "metadata": {
    "collapsed": false,
    "pycharm": {
     "name": "#%%\n"
    }
   }
  },
  {
   "cell_type": "code",
   "execution_count": 42,
   "outputs": [
    {
     "data": {
      "text/plain": "DecisionTreeClassifier(criterion='entropy', max_depth=5)"
     },
     "execution_count": 42,
     "metadata": {},
     "output_type": "execute_result"
    }
   ],
   "source": [
    "TelecomTree.fit(X, y)"
   ],
   "metadata": {
    "collapsed": false,
    "pycharm": {
     "name": "#%%\n"
    }
   }
  },
  {
   "cell_type": "code",
   "execution_count": 43,
   "outputs": [
    {
     "name": "stdout",
     "output_type": "stream",
     "text": [
      "[ 29   1 187   0   1]\n",
      "    Deaths\n",
      "17      29\n",
      "31       1\n",
      "23     187\n",
      "6        0\n",
      "9        1\n"
     ]
    }
   ],
   "source": [
    "predTree = TelecomTree.predict(X_test)\n",
    "print (predTree [0:5])\n",
    "print (y_test [0:5])"
   ],
   "metadata": {
    "collapsed": false,
    "pycharm": {
     "name": "#%%\n"
    }
   }
  },
  {
   "cell_type": "markdown",
   "source": [
    "d)\tPrint the Decision Tree to appear similar to the figure below. (4 marks)"
   ],
   "metadata": {
    "collapsed": false,
    "pycharm": {
     "name": "#%% md\n"
    }
   }
  },
  {
   "cell_type": "code",
   "execution_count": 44,
   "outputs": [
    {
     "data": {
      "text/plain": "['Cases', 'Years']"
     },
     "execution_count": 44,
     "metadata": {},
     "output_type": "execute_result"
    }
   ],
   "source": [
    "dot_data = StringIO()\n",
    "filename = \"ebolatree.png\"\n",
    "featureNames = ['Cases', 'Years']\n",
    "targetNames = df[\"Deaths\"].unique().tolist()\n",
    "featureNames"
   ],
   "metadata": {
    "collapsed": false,
    "pycharm": {
     "name": "#%%\n"
    }
   }
  },
  {
   "cell_type": "code",
   "execution_count": 45,
   "outputs": [
    {
     "ename": "TypeError",
     "evalue": "can only concatenate str (not \"numpy.int64\") to str",
     "output_type": "error",
     "traceback": [
      "\u001B[0;31m---------------------------------------------------------------------------\u001B[0m",
      "\u001B[0;31mTypeError\u001B[0m                                 Traceback (most recent call last)",
      "Input \u001B[0;32mIn [45]\u001B[0m, in \u001B[0;36m<cell line: 1>\u001B[0;34m()\u001B[0m\n\u001B[0;32m----> 1\u001B[0m out\u001B[38;5;241m=\u001B[39m\u001B[43mtree\u001B[49m\u001B[38;5;241;43m.\u001B[39;49m\u001B[43mexport_graphviz\u001B[49m\u001B[43m(\u001B[49m\u001B[43mTelecomTree\u001B[49m\u001B[43m,\u001B[49m\u001B[43mfeature_names\u001B[49m\u001B[38;5;241;43m=\u001B[39;49m\u001B[43mfeatureNames\u001B[49m\u001B[43m,\u001B[49m\u001B[43mout_file\u001B[49m\u001B[38;5;241;43m=\u001B[39;49m\u001B[43mdot_data\u001B[49m\u001B[43m,\u001B[49m\u001B[43m \u001B[49m\u001B[43mclass_names\u001B[49m\u001B[38;5;241;43m=\u001B[39;49m\u001B[43m \u001B[49m\u001B[43mnp\u001B[49m\u001B[38;5;241;43m.\u001B[39;49m\u001B[43munique\u001B[49m\u001B[43m(\u001B[49m\u001B[43my_train\u001B[49m\u001B[43m)\u001B[49m\u001B[43m,\u001B[49m\u001B[43m \u001B[49m\u001B[43mfilled\u001B[49m\u001B[38;5;241;43m=\u001B[39;49m\u001B[38;5;28;43;01mTrue\u001B[39;49;00m\u001B[43m,\u001B[49m\u001B[43mspecial_characters\u001B[49m\u001B[38;5;241;43m=\u001B[39;49m\u001B[38;5;28;43;01mTrue\u001B[39;49;00m\u001B[43m,\u001B[49m\u001B[43mrotate\u001B[49m\u001B[38;5;241;43m=\u001B[39;49m\u001B[38;5;28;43;01mFalse\u001B[39;49;00m\u001B[43m)\u001B[49m\n\u001B[1;32m      2\u001B[0m graph \u001B[38;5;241m=\u001B[39m pydotplus\u001B[38;5;241m.\u001B[39mgraph_from_dot_data(dot_data\u001B[38;5;241m.\u001B[39mgetvalue())\n\u001B[1;32m      3\u001B[0m graph\u001B[38;5;241m.\u001B[39mwrite_png(filename)\n",
      "File \u001B[0;32m~/opt/anaconda3/lib/python3.9/site-packages/sklearn/tree/_export.py:889\u001B[0m, in \u001B[0;36mexport_graphviz\u001B[0;34m(decision_tree, out_file, max_depth, feature_names, class_names, label, filled, leaves_parallel, impurity, node_ids, proportion, rotate, rounded, special_characters, precision, fontname)\u001B[0m\n\u001B[1;32m    870\u001B[0m     out_file \u001B[38;5;241m=\u001B[39m StringIO()\n\u001B[1;32m    872\u001B[0m exporter \u001B[38;5;241m=\u001B[39m _DOTTreeExporter(\n\u001B[1;32m    873\u001B[0m     out_file\u001B[38;5;241m=\u001B[39mout_file,\n\u001B[1;32m    874\u001B[0m     max_depth\u001B[38;5;241m=\u001B[39mmax_depth,\n\u001B[0;32m   (...)\u001B[0m\n\u001B[1;32m    887\u001B[0m     fontname\u001B[38;5;241m=\u001B[39mfontname,\n\u001B[1;32m    888\u001B[0m )\n\u001B[0;32m--> 889\u001B[0m \u001B[43mexporter\u001B[49m\u001B[38;5;241;43m.\u001B[39;49m\u001B[43mexport\u001B[49m\u001B[43m(\u001B[49m\u001B[43mdecision_tree\u001B[49m\u001B[43m)\u001B[49m\n\u001B[1;32m    891\u001B[0m \u001B[38;5;28;01mif\u001B[39;00m return_string:\n\u001B[1;32m    892\u001B[0m     \u001B[38;5;28;01mreturn\u001B[39;00m exporter\u001B[38;5;241m.\u001B[39mout_file\u001B[38;5;241m.\u001B[39mgetvalue()\n",
      "File \u001B[0;32m~/opt/anaconda3/lib/python3.9/site-packages/sklearn/tree/_export.py:462\u001B[0m, in \u001B[0;36m_DOTTreeExporter.export\u001B[0;34m(self, decision_tree)\u001B[0m\n\u001B[1;32m    460\u001B[0m     \u001B[38;5;28mself\u001B[39m\u001B[38;5;241m.\u001B[39mrecurse(decision_tree, \u001B[38;5;241m0\u001B[39m, criterion\u001B[38;5;241m=\u001B[39m\u001B[38;5;124m\"\u001B[39m\u001B[38;5;124mimpurity\u001B[39m\u001B[38;5;124m\"\u001B[39m)\n\u001B[1;32m    461\u001B[0m \u001B[38;5;28;01melse\u001B[39;00m:\n\u001B[0;32m--> 462\u001B[0m     \u001B[38;5;28;43mself\u001B[39;49m\u001B[38;5;241;43m.\u001B[39;49m\u001B[43mrecurse\u001B[49m\u001B[43m(\u001B[49m\u001B[43mdecision_tree\u001B[49m\u001B[38;5;241;43m.\u001B[39;49m\u001B[43mtree_\u001B[49m\u001B[43m,\u001B[49m\u001B[43m \u001B[49m\u001B[38;5;241;43m0\u001B[39;49m\u001B[43m,\u001B[49m\u001B[43m \u001B[49m\u001B[43mcriterion\u001B[49m\u001B[38;5;241;43m=\u001B[39;49m\u001B[43mdecision_tree\u001B[49m\u001B[38;5;241;43m.\u001B[39;49m\u001B[43mcriterion\u001B[49m\u001B[43m)\u001B[49m\n\u001B[1;32m    464\u001B[0m \u001B[38;5;28mself\u001B[39m\u001B[38;5;241m.\u001B[39mtail()\n",
      "File \u001B[0;32m~/opt/anaconda3/lib/python3.9/site-packages/sklearn/tree/_export.py:521\u001B[0m, in \u001B[0;36m_DOTTreeExporter.recurse\u001B[0;34m(self, tree, node_id, criterion, parent, depth)\u001B[0m\n\u001B[1;32m    517\u001B[0m \u001B[38;5;28;01melse\u001B[39;00m:\n\u001B[1;32m    518\u001B[0m     \u001B[38;5;28mself\u001B[39m\u001B[38;5;241m.\u001B[39mranks[\u001B[38;5;28mstr\u001B[39m(depth)]\u001B[38;5;241m.\u001B[39mappend(\u001B[38;5;28mstr\u001B[39m(node_id))\n\u001B[1;32m    520\u001B[0m \u001B[38;5;28mself\u001B[39m\u001B[38;5;241m.\u001B[39mout_file\u001B[38;5;241m.\u001B[39mwrite(\n\u001B[0;32m--> 521\u001B[0m     \u001B[38;5;124m\"\u001B[39m\u001B[38;5;132;01m%d\u001B[39;00m\u001B[38;5;124m [label=\u001B[39m\u001B[38;5;132;01m%s\u001B[39;00m\u001B[38;5;124m\"\u001B[39m \u001B[38;5;241m%\u001B[39m (node_id, \u001B[38;5;28;43mself\u001B[39;49m\u001B[38;5;241;43m.\u001B[39;49m\u001B[43mnode_to_str\u001B[49m\u001B[43m(\u001B[49m\u001B[43mtree\u001B[49m\u001B[43m,\u001B[49m\u001B[43m \u001B[49m\u001B[43mnode_id\u001B[49m\u001B[43m,\u001B[49m\u001B[43m \u001B[49m\u001B[43mcriterion\u001B[49m\u001B[43m)\u001B[49m)\n\u001B[1;32m    522\u001B[0m )\n\u001B[1;32m    524\u001B[0m \u001B[38;5;28;01mif\u001B[39;00m \u001B[38;5;28mself\u001B[39m\u001B[38;5;241m.\u001B[39mfilled:\n\u001B[1;32m    525\u001B[0m     \u001B[38;5;28mself\u001B[39m\u001B[38;5;241m.\u001B[39mout_file\u001B[38;5;241m.\u001B[39mwrite(\n\u001B[1;32m    526\u001B[0m         \u001B[38;5;124m'\u001B[39m\u001B[38;5;124m, fillcolor=\u001B[39m\u001B[38;5;124m\"\u001B[39m\u001B[38;5;132;01m%s\u001B[39;00m\u001B[38;5;124m\"\u001B[39m\u001B[38;5;124m'\u001B[39m \u001B[38;5;241m%\u001B[39m \u001B[38;5;28mself\u001B[39m\u001B[38;5;241m.\u001B[39mget_fill_color(tree, node_id)\n\u001B[1;32m    527\u001B[0m     )\n",
      "File \u001B[0;32m~/opt/anaconda3/lib/python3.9/site-packages/sklearn/tree/_export.py:374\u001B[0m, in \u001B[0;36m_BaseTreeExporter.node_to_str\u001B[0;34m(self, tree, node_id, criterion)\u001B[0m\n\u001B[1;32m    368\u001B[0m     \u001B[38;5;28;01melse\u001B[39;00m:\n\u001B[1;32m    369\u001B[0m         class_name \u001B[38;5;241m=\u001B[39m \u001B[38;5;124m\"\u001B[39m\u001B[38;5;124my\u001B[39m\u001B[38;5;132;01m%s\u001B[39;00m\u001B[38;5;132;01m%s\u001B[39;00m\u001B[38;5;132;01m%s\u001B[39;00m\u001B[38;5;124m\"\u001B[39m \u001B[38;5;241m%\u001B[39m (\n\u001B[1;32m    370\u001B[0m             characters[\u001B[38;5;241m1\u001B[39m],\n\u001B[1;32m    371\u001B[0m             np\u001B[38;5;241m.\u001B[39margmax(value),\n\u001B[1;32m    372\u001B[0m             characters[\u001B[38;5;241m2\u001B[39m],\n\u001B[1;32m    373\u001B[0m         )\n\u001B[0;32m--> 374\u001B[0m     node_string \u001B[38;5;241m+\u001B[39m\u001B[38;5;241m=\u001B[39m class_name\n\u001B[1;32m    376\u001B[0m \u001B[38;5;66;03m# Clean up any trailing newlines\u001B[39;00m\n\u001B[1;32m    377\u001B[0m \u001B[38;5;28;01mif\u001B[39;00m node_string\u001B[38;5;241m.\u001B[39mendswith(characters[\u001B[38;5;241m4\u001B[39m]):\n",
      "\u001B[0;31mTypeError\u001B[0m: can only concatenate str (not \"numpy.int64\") to str"
     ]
    }
   ],
   "source": [
    "out=tree.export_graphviz(TelecomTree,feature_names=featureNames,out_file=dot_data, class_names= np.unique(y_train), filled=True,special_characters=True,rotate=False)\n",
    "graph = pydotplus.graph_from_dot_data(dot_data.getvalue())\n",
    "graph.write_png(filename)\n",
    "img = mpimg.imread(filename)\n",
    "plt.figure(figsize=(100, 200))\n",
    "plt.imshow(img,interpolation='nearest')"
   ],
   "metadata": {
    "collapsed": false,
    "pycharm": {
     "name": "#%%\n"
    }
   }
  },
  {
   "cell_type": "code",
   "execution_count": null,
   "outputs": [],
   "source": [],
   "metadata": {
    "collapsed": false,
    "pycharm": {
     "name": "#%%\n"
    }
   }
  }
 ],
 "metadata": {
  "kernelspec": {
   "display_name": "Python 3",
   "language": "python",
   "name": "python3"
  },
  "language_info": {
   "codemirror_mode": {
    "name": "ipython",
    "version": 2
   },
   "file_extension": ".py",
   "mimetype": "text/x-python",
   "name": "python",
   "nbconvert_exporter": "python",
   "pygments_lexer": "ipython2",
   "version": "2.7.6"
  }
 },
 "nbformat": 4,
 "nbformat_minor": 0
}