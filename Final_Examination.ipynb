{
 "cells": [
  {
   "cell_type": "markdown",
   "metadata": {
    "pycharm": {
     "name": "#%% md\n"
    }
   },
   "source": [
    "REG NO MAY22/MCOMP/1616U"
   ]
  },
  {
   "cell_type": "markdown",
   "metadata": {
    "pycharm": {
     "name": "#%% md\n"
    }
   },
   "source": [
    "a)\tImport the necessary python libraries (2 marks)"
   ]
  },
  {
   "cell_type": "code",
   "execution_count": 61,
   "metadata": {
    "pycharm": {
     "name": "#%%\n"
    }
   },
   "outputs": [],
   "source": [
    "import requests\n",
    "import lxml.html as lh\n",
    "import pandas as pd\n",
    "import numpy as np"
   ]
  },
  {
   "cell_type": "markdown",
   "metadata": {
    "pycharm": {
     "name": "#%% md\n"
    }
   },
   "source": [
    "b)\tRemove the Website and put the table in Notebook (4 marks)"
   ]
  },
  {
   "cell_type": "code",
   "execution_count": 62,
   "metadata": {
    "pycharm": {
     "name": "#%%\n"
    }
   },
   "outputs": [
    {
     "name": "stdout",
     "output_type": "stream",
     "text": [
      "1:Year\n",
      "2:Country\n",
      "3:EVD\n",
      "4:Cases\n",
      "5:Deaths\n",
      "6:Case fatality \n"
     ]
    }
   ],
   "source": [
    "url = 'https://www.who.int/news-room/fact-sheets/detail/ebola-virus-disease'\n",
    "whole_page = requests.get(url)\n",
    "doc = lh.fromstring(whole_page.content)\n",
    "tr_elements = doc.xpath('//tr')\n",
    "[len(T) for T in tr_elements[:6]]\n",
    "\n",
    "tr_elements = doc.xpath('//tr')\n",
    "\n",
    "cols = []\n",
    "i = 0\n",
    "\n",
    "for t in tr_elements[0]:\n",
    "    i+=1\n",
    "    name=t.text_content()\n",
    "    print(\"%d:%s\" % (i,name))\n",
    "    cols.append((name,[]))"
   ]
  },
  {
   "cell_type": "code",
   "execution_count": 63,
   "metadata": {
    "pycharm": {
     "name": "#%%\n"
    }
   },
   "outputs": [
    {
     "data": {
      "text/html": [
       "<div>\n",
       "<style scoped>\n",
       "    .dataframe tbody tr th:only-of-type {\n",
       "        vertical-align: middle;\n",
       "    }\n",
       "\n",
       "    .dataframe tbody tr th {\n",
       "        vertical-align: top;\n",
       "    }\n",
       "\n",
       "    .dataframe thead th {\n",
       "        text-align: right;\n",
       "    }\n",
       "</style>\n",
       "<table border=\"1\" class=\"dataframe\">\n",
       "  <thead>\n",
       "    <tr style=\"text-align: right;\">\n",
       "      <th></th>\n",
       "      <th>Year</th>\n",
       "      <th>Country</th>\n",
       "      <th>EVD</th>\n",
       "      <th>Cases</th>\n",
       "      <th>Deaths</th>\n",
       "      <th>Case fatality</th>\n",
       "    </tr>\n",
       "  </thead>\n",
       "  <tbody>\n",
       "    <tr>\n",
       "      <th>count</th>\n",
       "      <td>41</td>\n",
       "      <td>41</td>\n",
       "      <td>41</td>\n",
       "      <td>41</td>\n",
       "      <td>41</td>\n",
       "      <td>41</td>\n",
       "    </tr>\n",
       "    <tr>\n",
       "      <th>unique</th>\n",
       "      <td>28</td>\n",
       "      <td>20</td>\n",
       "      <td>7</td>\n",
       "      <td>33</td>\n",
       "      <td>31</td>\n",
       "      <td>27</td>\n",
       "    </tr>\n",
       "    <tr>\n",
       "      <th>top</th>\n",
       "      <td>2014</td>\n",
       "      <td>Democratic Republic of the Congo</td>\n",
       "      <td>Zaire</td>\n",
       "      <td>1</td>\n",
       "      <td>0</td>\n",
       "      <td>0%</td>\n",
       "    </tr>\n",
       "    <tr>\n",
       "      <th>freq</th>\n",
       "      <td>6</td>\n",
       "      <td>9</td>\n",
       "      <td>25</td>\n",
       "      <td>8</td>\n",
       "      <td>5</td>\n",
       "      <td>5</td>\n",
       "    </tr>\n",
       "  </tbody>\n",
       "</table>\n",
       "</div>"
      ],
      "text/plain": [
       "         Year                            Country     EVD Cases Deaths  \\\n",
       "count      41                                 41      41    41     41   \n",
       "unique     28                                 20       7    33     31   \n",
       "top     2014   Democratic Republic of the Congo   Zaire     1      0    \n",
       "freq        6                                  9      25     8      5   \n",
       "\n",
       "       Case fatality   \n",
       "count              41  \n",
       "unique             27  \n",
       "top               0%   \n",
       "freq                5  "
      ]
     },
     "execution_count": 63,
     "metadata": {},
     "output_type": "execute_result"
    }
   ],
   "source": [
    "for j in range(1,len(tr_elements)): # Because header is the first row, data would be store in the subsequent rows.\n",
    "    T = tr_elements[j] #T is j'th row\n",
    "\n",
    "    if len(T)!=6: #if row is not size 3, //tr data is not from the table.\n",
    "        break\n",
    "\n",
    "    i = 0 #i is the index of the first column\n",
    "\n",
    "    for t in T.iterchildren(): #iterate through each element of the row\n",
    "        data=t.text_content()\n",
    "\n",
    "        cols[i][1].append(data) #append the data to the empty list of the i'th column\n",
    "\n",
    "        i+=1\n",
    "\n",
    "\n",
    "[len(C) for (title,C) in cols]\n",
    "Dict = {title:column for (title,column) in cols}\n",
    "df = pd.DataFrame(Dict)\n",
    "df.describe()"
   ]
  },
  {
   "cell_type": "markdown",
   "metadata": {
    "pycharm": {
     "name": "#%% md\n"
    }
   },
   "source": [
    "a.\tFirst 10 records (2 marks)"
   ]
  },
  {
   "cell_type": "code",
   "execution_count": 64,
   "metadata": {
    "pycharm": {
     "name": "#%%\n"
    }
   },
   "outputs": [
    {
     "data": {
      "text/html": [
       "<div>\n",
       "<style scoped>\n",
       "    .dataframe tbody tr th:only-of-type {\n",
       "        vertical-align: middle;\n",
       "    }\n",
       "\n",
       "    .dataframe tbody tr th {\n",
       "        vertical-align: top;\n",
       "    }\n",
       "\n",
       "    .dataframe thead th {\n",
       "        text-align: right;\n",
       "    }\n",
       "</style>\n",
       "<table border=\"1\" class=\"dataframe\">\n",
       "  <thead>\n",
       "    <tr style=\"text-align: right;\">\n",
       "      <th></th>\n",
       "      <th>Year</th>\n",
       "      <th>Country</th>\n",
       "      <th>EVD</th>\n",
       "      <th>Cases</th>\n",
       "      <th>Deaths</th>\n",
       "      <th>Case fatality</th>\n",
       "    </tr>\n",
       "  </thead>\n",
       "  <tbody>\n",
       "    <tr>\n",
       "      <th>0</th>\n",
       "      <td>2021</td>\n",
       "      <td>Guinea</td>\n",
       "      <td>Zaire</td>\n",
       "      <td>Ongoing</td>\n",
       "      <td></td>\n",
       "      <td></td>\n",
       "    </tr>\n",
       "    <tr>\n",
       "      <th>1</th>\n",
       "      <td>2021</td>\n",
       "      <td>Democratic Republic of the Congo</td>\n",
       "      <td>Zaire</td>\n",
       "      <td>Ongoing</td>\n",
       "      <td></td>\n",
       "      <td></td>\n",
       "    </tr>\n",
       "    <tr>\n",
       "      <th>2</th>\n",
       "      <td>2020</td>\n",
       "      <td>Democratic Republic of the Congo</td>\n",
       "      <td>Zaire</td>\n",
       "      <td>130</td>\n",
       "      <td>55</td>\n",
       "      <td>42%</td>\n",
       "    </tr>\n",
       "    <tr>\n",
       "      <th>3</th>\n",
       "      <td>2018-2020</td>\n",
       "      <td>Democratic Republic of the Congo</td>\n",
       "      <td>Zaire</td>\n",
       "      <td>3481</td>\n",
       "      <td>2299</td>\n",
       "      <td>66%</td>\n",
       "    </tr>\n",
       "    <tr>\n",
       "      <th>4</th>\n",
       "      <td>2018</td>\n",
       "      <td>Democratic Republic of the Congo</td>\n",
       "      <td>Zaire</td>\n",
       "      <td>54</td>\n",
       "      <td>33</td>\n",
       "      <td>61%</td>\n",
       "    </tr>\n",
       "    <tr>\n",
       "      <th>5</th>\n",
       "      <td>2017</td>\n",
       "      <td>Democratic Republic of the Congo</td>\n",
       "      <td>Zaire</td>\n",
       "      <td>8</td>\n",
       "      <td>4</td>\n",
       "      <td>50%</td>\n",
       "    </tr>\n",
       "    <tr>\n",
       "      <th>6</th>\n",
       "      <td>2015</td>\n",
       "      <td>Italy</td>\n",
       "      <td>Zaire</td>\n",
       "      <td>1</td>\n",
       "      <td>0</td>\n",
       "      <td>0%</td>\n",
       "    </tr>\n",
       "    <tr>\n",
       "      <th>7</th>\n",
       "      <td>2014</td>\n",
       "      <td>Spain</td>\n",
       "      <td>Zaire</td>\n",
       "      <td>1</td>\n",
       "      <td>0</td>\n",
       "      <td>0%</td>\n",
       "    </tr>\n",
       "    <tr>\n",
       "      <th>8</th>\n",
       "      <td>2014</td>\n",
       "      <td>UK</td>\n",
       "      <td>Zaire</td>\n",
       "      <td>1</td>\n",
       "      <td>0</td>\n",
       "      <td>0%</td>\n",
       "    </tr>\n",
       "    <tr>\n",
       "      <th>9</th>\n",
       "      <td>2014</td>\n",
       "      <td>USA</td>\n",
       "      <td>Zaire</td>\n",
       "      <td>4</td>\n",
       "      <td>1</td>\n",
       "      <td>25%</td>\n",
       "    </tr>\n",
       "  </tbody>\n",
       "</table>\n",
       "</div>"
      ],
      "text/plain": [
       "         Year                             Country      EVD    Cases Deaths  \\\n",
       "0        2021                              Guinea    Zaire  Ongoing          \n",
       "1        2021    Democratic Republic of the Congo    Zaire  Ongoing          \n",
       "2        2020    Democratic Republic of the Congo    Zaire      130     55   \n",
       "3  2018-2020    Democratic Republic of the Congo    Zaire     3481   2299    \n",
       "4       2018    Democratic Republic of the Congo   Zaire       54     33     \n",
       "5       2017   Democratic Republic of the Congo    Zaire        8      4     \n",
       "6       2015                               Italy    Zaire        1      0    \n",
       "7       2014                               Spain    Zaire        1      0    \n",
       "8       2014                                  UK    Zaire        1      0    \n",
       "9       2014                                 USA    Zaire        4      1    \n",
       "\n",
       "  Case fatality   \n",
       "0                 \n",
       "1                 \n",
       "2            42%  \n",
       "3           66%   \n",
       "4          61%    \n",
       "5          50%    \n",
       "6            0%   \n",
       "7            0%   \n",
       "8            0%   \n",
       "9           25%   "
      ]
     },
     "execution_count": 64,
     "metadata": {},
     "output_type": "execute_result"
    }
   ],
   "source": [
    "df.head(10)"
   ]
  },
  {
   "cell_type": "markdown",
   "metadata": {
    "pycharm": {
     "name": "#%% md\n"
    }
   },
   "source": [
    "b.\tLast 10 records (2 marks)"
   ]
  },
  {
   "cell_type": "code",
   "execution_count": 65,
   "metadata": {
    "pycharm": {
     "name": "#%%\n"
    }
   },
   "outputs": [
    {
     "data": {
      "text/html": [
       "<div>\n",
       "<style scoped>\n",
       "    .dataframe tbody tr th:only-of-type {\n",
       "        vertical-align: middle;\n",
       "    }\n",
       "\n",
       "    .dataframe tbody tr th {\n",
       "        vertical-align: top;\n",
       "    }\n",
       "\n",
       "    .dataframe thead th {\n",
       "        text-align: right;\n",
       "    }\n",
       "</style>\n",
       "<table border=\"1\" class=\"dataframe\">\n",
       "  <thead>\n",
       "    <tr style=\"text-align: right;\">\n",
       "      <th></th>\n",
       "      <th>Year</th>\n",
       "      <th>Country</th>\n",
       "      <th>EVD</th>\n",
       "      <th>Cases</th>\n",
       "      <th>Deaths</th>\n",
       "      <th>Case fatality</th>\n",
       "    </tr>\n",
       "  </thead>\n",
       "  <tbody>\n",
       "    <tr>\n",
       "      <th>31</th>\n",
       "      <td>1996</td>\n",
       "      <td>South Africa (ex-Gabon)</td>\n",
       "      <td>Zaire</td>\n",
       "      <td>1</td>\n",
       "      <td>1</td>\n",
       "      <td>100%</td>\n",
       "    </tr>\n",
       "    <tr>\n",
       "      <th>32</th>\n",
       "      <td>1996 (Jul-Dec)</td>\n",
       "      <td>Gabon</td>\n",
       "      <td>Zaire</td>\n",
       "      <td>60</td>\n",
       "      <td>45</td>\n",
       "      <td>75%</td>\n",
       "    </tr>\n",
       "    <tr>\n",
       "      <th>33</th>\n",
       "      <td>1996 (Jan-Apr)</td>\n",
       "      <td>Gabon</td>\n",
       "      <td>Zaire</td>\n",
       "      <td>31</td>\n",
       "      <td>21</td>\n",
       "      <td>68%</td>\n",
       "    </tr>\n",
       "    <tr>\n",
       "      <th>34</th>\n",
       "      <td>1995</td>\n",
       "      <td>Democratic Republic of the Congo</td>\n",
       "      <td>Zaire</td>\n",
       "      <td>315</td>\n",
       "      <td>254</td>\n",
       "      <td>81%</td>\n",
       "    </tr>\n",
       "    <tr>\n",
       "      <th>35</th>\n",
       "      <td>1994</td>\n",
       "      <td>Côte d'Ivoire</td>\n",
       "      <td>Taï Forest</td>\n",
       "      <td>1</td>\n",
       "      <td>0</td>\n",
       "      <td>0%</td>\n",
       "    </tr>\n",
       "    <tr>\n",
       "      <th>36</th>\n",
       "      <td>1994</td>\n",
       "      <td>Gabon</td>\n",
       "      <td>Zaire</td>\n",
       "      <td>52</td>\n",
       "      <td>31</td>\n",
       "      <td>60%</td>\n",
       "    </tr>\n",
       "    <tr>\n",
       "      <th>37</th>\n",
       "      <td>1979</td>\n",
       "      <td>Sudan</td>\n",
       "      <td>Sudan</td>\n",
       "      <td>34</td>\n",
       "      <td>22</td>\n",
       "      <td>65%</td>\n",
       "    </tr>\n",
       "    <tr>\n",
       "      <th>38</th>\n",
       "      <td>1977</td>\n",
       "      <td>Democratic Republic of the Congo</td>\n",
       "      <td>Zaire</td>\n",
       "      <td>1</td>\n",
       "      <td>1</td>\n",
       "      <td>100%</td>\n",
       "    </tr>\n",
       "    <tr>\n",
       "      <th>39</th>\n",
       "      <td>1976</td>\n",
       "      <td>Sudan</td>\n",
       "      <td>Sudan</td>\n",
       "      <td>284</td>\n",
       "      <td>151</td>\n",
       "      <td>53%</td>\n",
       "    </tr>\n",
       "    <tr>\n",
       "      <th>40</th>\n",
       "      <td>1976</td>\n",
       "      <td>Democratic Republic of the Congo</td>\n",
       "      <td>Zaire</td>\n",
       "      <td>318</td>\n",
       "      <td>280</td>\n",
       "      <td>88%</td>\n",
       "    </tr>\n",
       "  </tbody>\n",
       "</table>\n",
       "</div>"
      ],
      "text/plain": [
       "               Year                            Country          EVD Cases  \\\n",
       "31            1996            South Africa (ex-Gabon)        Zaire     1    \n",
       "32  1996 (Jul-Dec)                              Gabon        Zaire    60    \n",
       "33  1996 (Jan-Apr)                              Gabon        Zaire    31    \n",
       "34            1995   Democratic Republic of the Congo        Zaire   315    \n",
       "35            1994                      Côte d'Ivoire   Taï Forest     1    \n",
       "36            1994                              Gabon        Zaire    52    \n",
       "37            1979                              Sudan        Sudan    34    \n",
       "38            1977   Democratic Republic of the Congo        Zaire     1    \n",
       "39            1976                              Sudan        Sudan   284    \n",
       "40             1976  Democratic Republic of the Congo        Zaire   318    \n",
       "\n",
       "   Deaths Case fatality   \n",
       "31     1           100%   \n",
       "32    45            75%   \n",
       "33    21            68%   \n",
       "34   254            81%   \n",
       "35     0             0%   \n",
       "36    31            60%   \n",
       "37    22            65%   \n",
       "38     1           100%   \n",
       "39   151            53%   \n",
       "40   280             88%  "
      ]
     },
     "execution_count": 65,
     "metadata": {},
     "output_type": "execute_result"
    }
   ],
   "source": [
    "df.tail(10)"
   ]
  },
  {
   "cell_type": "markdown",
   "metadata": {
    "pycharm": {
     "name": "#%% md\n"
    }
   },
   "source": [
    "d)\tClean the data set (8 marks)"
   ]
  },
  {
   "cell_type": "code",
   "execution_count": 66,
   "metadata": {
    "pycharm": {
     "name": "#%%\n"
    }
   },
   "outputs": [
    {
     "name": "stderr",
     "output_type": "stream",
     "text": [
      "/var/folders/hs/n89pb8xs1hn99hclj9gwq50m0000gn/T/ipykernel_79985/1098572706.py:7: FutureWarning: The default value of regex will change from True to False in a future version.\n",
      "  df['Year'] = df['Year'].str.replace(r\"\\(.*\\)\",\"\")\n"
     ]
    },
    {
     "data": {
      "text/html": [
       "<div>\n",
       "<style scoped>\n",
       "    .dataframe tbody tr th:only-of-type {\n",
       "        vertical-align: middle;\n",
       "    }\n",
       "\n",
       "    .dataframe tbody tr th {\n",
       "        vertical-align: top;\n",
       "    }\n",
       "\n",
       "    .dataframe thead th {\n",
       "        text-align: right;\n",
       "    }\n",
       "</style>\n",
       "<table border=\"1\" class=\"dataframe\">\n",
       "  <thead>\n",
       "    <tr style=\"text-align: right;\">\n",
       "      <th></th>\n",
       "      <th>Year</th>\n",
       "      <th>Country</th>\n",
       "      <th>EVD</th>\n",
       "      <th>Cases</th>\n",
       "      <th>Deaths</th>\n",
       "      <th>Case fatality</th>\n",
       "    </tr>\n",
       "  </thead>\n",
       "  <tbody>\n",
       "    <tr>\n",
       "      <th>2</th>\n",
       "      <td>2020</td>\n",
       "      <td>Democratic Republic of the Congo</td>\n",
       "      <td>Zaire</td>\n",
       "      <td>130</td>\n",
       "      <td>55</td>\n",
       "      <td>42</td>\n",
       "    </tr>\n",
       "    <tr>\n",
       "      <th>4</th>\n",
       "      <td>2018</td>\n",
       "      <td>Democratic Republic of the Congo</td>\n",
       "      <td>Zaire</td>\n",
       "      <td>54</td>\n",
       "      <td>33</td>\n",
       "      <td>61</td>\n",
       "    </tr>\n",
       "    <tr>\n",
       "      <th>5</th>\n",
       "      <td>2017</td>\n",
       "      <td>Democratic Republic of the Congo</td>\n",
       "      <td>Zaire</td>\n",
       "      <td>8</td>\n",
       "      <td>4</td>\n",
       "      <td>50</td>\n",
       "    </tr>\n",
       "    <tr>\n",
       "      <th>6</th>\n",
       "      <td>2015</td>\n",
       "      <td>Italy</td>\n",
       "      <td>Zaire</td>\n",
       "      <td>1</td>\n",
       "      <td>0</td>\n",
       "      <td>0</td>\n",
       "    </tr>\n",
       "    <tr>\n",
       "      <th>7</th>\n",
       "      <td>2014</td>\n",
       "      <td>Spain</td>\n",
       "      <td>Zaire</td>\n",
       "      <td>1</td>\n",
       "      <td>0</td>\n",
       "      <td>0</td>\n",
       "    </tr>\n",
       "    <tr>\n",
       "      <th>8</th>\n",
       "      <td>2014</td>\n",
       "      <td>UK</td>\n",
       "      <td>Zaire</td>\n",
       "      <td>1</td>\n",
       "      <td>0</td>\n",
       "      <td>0</td>\n",
       "    </tr>\n",
       "    <tr>\n",
       "      <th>9</th>\n",
       "      <td>2014</td>\n",
       "      <td>USA</td>\n",
       "      <td>Zaire</td>\n",
       "      <td>4</td>\n",
       "      <td>1</td>\n",
       "      <td>25</td>\n",
       "    </tr>\n",
       "    <tr>\n",
       "      <th>10</th>\n",
       "      <td>2014</td>\n",
       "      <td>Senegal</td>\n",
       "      <td>Zaire</td>\n",
       "      <td>1</td>\n",
       "      <td>0</td>\n",
       "      <td>0</td>\n",
       "    </tr>\n",
       "    <tr>\n",
       "      <th>11</th>\n",
       "      <td>2014</td>\n",
       "      <td>Mali</td>\n",
       "      <td>Zaire</td>\n",
       "      <td>8</td>\n",
       "      <td>6</td>\n",
       "      <td>75</td>\n",
       "    </tr>\n",
       "    <tr>\n",
       "      <th>12</th>\n",
       "      <td>2014</td>\n",
       "      <td>Nigeria</td>\n",
       "      <td>Zaire</td>\n",
       "      <td>20</td>\n",
       "      <td>8</td>\n",
       "      <td>40</td>\n",
       "    </tr>\n",
       "    <tr>\n",
       "      <th>17</th>\n",
       "      <td>2012</td>\n",
       "      <td>Democratic Republic of the Congo</td>\n",
       "      <td>Bundibugyo</td>\n",
       "      <td>57</td>\n",
       "      <td>29</td>\n",
       "      <td>51</td>\n",
       "    </tr>\n",
       "    <tr>\n",
       "      <th>18</th>\n",
       "      <td>2012</td>\n",
       "      <td>Uganda</td>\n",
       "      <td>Sudan</td>\n",
       "      <td>7</td>\n",
       "      <td>4</td>\n",
       "      <td>57</td>\n",
       "    </tr>\n",
       "    <tr>\n",
       "      <th>19</th>\n",
       "      <td>2012</td>\n",
       "      <td>Uganda</td>\n",
       "      <td>Sudan</td>\n",
       "      <td>24</td>\n",
       "      <td>17</td>\n",
       "      <td>71</td>\n",
       "    </tr>\n",
       "    <tr>\n",
       "      <th>20</th>\n",
       "      <td>2011</td>\n",
       "      <td>Uganda</td>\n",
       "      <td>Sudan</td>\n",
       "      <td>1</td>\n",
       "      <td>1</td>\n",
       "      <td>100</td>\n",
       "    </tr>\n",
       "    <tr>\n",
       "      <th>21</th>\n",
       "      <td>2008</td>\n",
       "      <td>Democratic Republic of the Congo</td>\n",
       "      <td>Zaire</td>\n",
       "      <td>32</td>\n",
       "      <td>14</td>\n",
       "      <td>44</td>\n",
       "    </tr>\n",
       "    <tr>\n",
       "      <th>22</th>\n",
       "      <td>2007</td>\n",
       "      <td>Uganda</td>\n",
       "      <td>Bundibugyo</td>\n",
       "      <td>149</td>\n",
       "      <td>37</td>\n",
       "      <td>25</td>\n",
       "    </tr>\n",
       "    <tr>\n",
       "      <th>23</th>\n",
       "      <td>2007</td>\n",
       "      <td>Democratic Republic of the Congo</td>\n",
       "      <td>Zaire</td>\n",
       "      <td>264</td>\n",
       "      <td>187</td>\n",
       "      <td>71</td>\n",
       "    </tr>\n",
       "    <tr>\n",
       "      <th>24</th>\n",
       "      <td>2005</td>\n",
       "      <td>Congo</td>\n",
       "      <td>Zaire</td>\n",
       "      <td>12</td>\n",
       "      <td>10</td>\n",
       "      <td>83</td>\n",
       "    </tr>\n",
       "    <tr>\n",
       "      <th>25</th>\n",
       "      <td>2004</td>\n",
       "      <td>Sudan</td>\n",
       "      <td>Sudan</td>\n",
       "      <td>17</td>\n",
       "      <td>7</td>\n",
       "      <td>41</td>\n",
       "    </tr>\n",
       "    <tr>\n",
       "      <th>26</th>\n",
       "      <td>2003</td>\n",
       "      <td>Congo</td>\n",
       "      <td>Zaire</td>\n",
       "      <td>35</td>\n",
       "      <td>29</td>\n",
       "      <td>83</td>\n",
       "    </tr>\n",
       "    <tr>\n",
       "      <th>27</th>\n",
       "      <td>2003</td>\n",
       "      <td>Congo</td>\n",
       "      <td>Zaire</td>\n",
       "      <td>143</td>\n",
       "      <td>128</td>\n",
       "      <td>90</td>\n",
       "    </tr>\n",
       "    <tr>\n",
       "      <th>30</th>\n",
       "      <td>2000</td>\n",
       "      <td>Uganda</td>\n",
       "      <td>Sudan</td>\n",
       "      <td>425</td>\n",
       "      <td>224</td>\n",
       "      <td>53</td>\n",
       "    </tr>\n",
       "    <tr>\n",
       "      <th>31</th>\n",
       "      <td>1996</td>\n",
       "      <td>South Africa (ex-Gabon)</td>\n",
       "      <td>Zaire</td>\n",
       "      <td>1</td>\n",
       "      <td>1</td>\n",
       "      <td>100</td>\n",
       "    </tr>\n",
       "    <tr>\n",
       "      <th>32</th>\n",
       "      <td>1996</td>\n",
       "      <td>Gabon</td>\n",
       "      <td>Zaire</td>\n",
       "      <td>60</td>\n",
       "      <td>45</td>\n",
       "      <td>75</td>\n",
       "    </tr>\n",
       "    <tr>\n",
       "      <th>33</th>\n",
       "      <td>1996</td>\n",
       "      <td>Gabon</td>\n",
       "      <td>Zaire</td>\n",
       "      <td>31</td>\n",
       "      <td>21</td>\n",
       "      <td>68</td>\n",
       "    </tr>\n",
       "    <tr>\n",
       "      <th>34</th>\n",
       "      <td>1995</td>\n",
       "      <td>Democratic Republic of the Congo</td>\n",
       "      <td>Zaire</td>\n",
       "      <td>315</td>\n",
       "      <td>254</td>\n",
       "      <td>81</td>\n",
       "    </tr>\n",
       "    <tr>\n",
       "      <th>35</th>\n",
       "      <td>1994</td>\n",
       "      <td>Côte d'Ivoire</td>\n",
       "      <td>Taï Forest</td>\n",
       "      <td>1</td>\n",
       "      <td>0</td>\n",
       "      <td>0</td>\n",
       "    </tr>\n",
       "    <tr>\n",
       "      <th>36</th>\n",
       "      <td>1994</td>\n",
       "      <td>Gabon</td>\n",
       "      <td>Zaire</td>\n",
       "      <td>52</td>\n",
       "      <td>31</td>\n",
       "      <td>60</td>\n",
       "    </tr>\n",
       "    <tr>\n",
       "      <th>37</th>\n",
       "      <td>1979</td>\n",
       "      <td>Sudan</td>\n",
       "      <td>Sudan</td>\n",
       "      <td>34</td>\n",
       "      <td>22</td>\n",
       "      <td>65</td>\n",
       "    </tr>\n",
       "    <tr>\n",
       "      <th>38</th>\n",
       "      <td>1977</td>\n",
       "      <td>Democratic Republic of the Congo</td>\n",
       "      <td>Zaire</td>\n",
       "      <td>1</td>\n",
       "      <td>1</td>\n",
       "      <td>100</td>\n",
       "    </tr>\n",
       "    <tr>\n",
       "      <th>39</th>\n",
       "      <td>1976</td>\n",
       "      <td>Sudan</td>\n",
       "      <td>Sudan</td>\n",
       "      <td>284</td>\n",
       "      <td>151</td>\n",
       "      <td>53</td>\n",
       "    </tr>\n",
       "    <tr>\n",
       "      <th>40</th>\n",
       "      <td>1976</td>\n",
       "      <td>Democratic Republic of the Congo</td>\n",
       "      <td>Zaire</td>\n",
       "      <td>318</td>\n",
       "      <td>280</td>\n",
       "      <td>88</td>\n",
       "    </tr>\n",
       "  </tbody>\n",
       "</table>\n",
       "</div>"
      ],
      "text/plain": [
       "    Year                             Country          EVD  Cases  Deaths  \\\n",
       "2   2020    Democratic Republic of the Congo        Zaire    130      55   \n",
       "4   2018   Democratic Republic of the Congo       Zaire       54      33   \n",
       "5   2017  Democratic Republic of the Congo        Zaire        8       4   \n",
       "6   2015                              Italy        Zaire       1       0   \n",
       "7   2014                              Spain        Zaire       1       0   \n",
       "8   2014                                 UK        Zaire       1       0   \n",
       "9   2014                                USA        Zaire       4       1   \n",
       "10  2014                            Senegal        Zaire       1       0   \n",
       "11  2014                               Mali        Zaire       8       6   \n",
       "12  2014                            Nigeria        Zaire      20       8   \n",
       "17  2012   Democratic Republic of the Congo   Bundibugyo      57      29   \n",
       "18  2012                             Uganda        Sudan       7       4   \n",
       "19  2012                             Uganda        Sudan      24      17   \n",
       "20  2011                             Uganda        Sudan       1       1   \n",
       "21  2008   Democratic Republic of the Congo        Zaire      32      14   \n",
       "22  2007                             Uganda   Bundibugyo     149      37   \n",
       "23  2007   Democratic Republic of the Congo        Zaire     264     187   \n",
       "24  2005                              Congo        Zaire      12      10   \n",
       "25  2004                              Sudan        Sudan      17       7   \n",
       "26  2003                              Congo        Zaire      35      29   \n",
       "27  2003                              Congo        Zaire     143     128   \n",
       "30  2000                             Uganda        Sudan     425     224   \n",
       "31  1996            South Africa (ex-Gabon)        Zaire       1       1   \n",
       "32  1996                              Gabon        Zaire      60      45   \n",
       "33  1996                              Gabon        Zaire      31      21   \n",
       "34  1995   Democratic Republic of the Congo        Zaire     315     254   \n",
       "35  1994                      Côte d'Ivoire   Taï Forest       1       0   \n",
       "36  1994                              Gabon        Zaire      52      31   \n",
       "37  1979                              Sudan        Sudan      34      22   \n",
       "38  1977   Democratic Republic of the Congo        Zaire       1       1   \n",
       "39  1976                              Sudan        Sudan     284     151   \n",
       "40  1976   Democratic Republic of the Congo        Zaire     318     280   \n",
       "\n",
       "    Case fatality   \n",
       "2               42  \n",
       "4               61  \n",
       "5               50  \n",
       "6                0  \n",
       "7                0  \n",
       "8                0  \n",
       "9               25  \n",
       "10               0  \n",
       "11              75  \n",
       "12              40  \n",
       "17              51  \n",
       "18              57  \n",
       "19              71  \n",
       "20             100  \n",
       "21              44  \n",
       "22              25  \n",
       "23              71  \n",
       "24              83  \n",
       "25              41  \n",
       "26              83  \n",
       "27              90  \n",
       "30              53  \n",
       "31             100  \n",
       "32              75  \n",
       "33              68  \n",
       "34              81  \n",
       "35               0  \n",
       "36              60  \n",
       "37              65  \n",
       "38             100  \n",
       "39              53  \n",
       "40              88  "
      ]
     },
     "execution_count": 66,
     "metadata": {},
     "output_type": "execute_result"
    }
   ],
   "source": [
    "# clean dataset\n",
    "df = df.drop([0,1,3,13,14,15,16,28,29])\n",
    "df['Cases'] = df['Cases'].str.strip()\n",
    "df['Deaths'] = df['Deaths'].str.strip()\n",
    "df.iloc[:,5] =df.iloc[:,5].str.strip()\n",
    "df['Year'] = df['Year'].str.strip()\n",
    "df['Year'] = df['Year'].str.replace(r\"\\(.*\\)\",\"\")\n",
    "df.iloc[:,5] =df.iloc[:,5].str.replace(r\"%\",\"\")\n",
    "\n",
    "\n",
    "df['Year'] = pd.to_numeric(df['Year'])\n",
    "df['Cases'] = pd.to_numeric(df['Cases'])\n",
    "df['Deaths'] = pd.to_numeric(df['Deaths'])\n",
    "df.iloc[:,5] =pd.to_numeric(df.iloc[:,5])\n",
    "df"
   ]
  },
  {
   "cell_type": "markdown",
   "metadata": {
    "pycharm": {
     "name": "#%% md\n"
    }
   },
   "source": [
    "e)\tProduce the descriptive statistical table values. (2 marks)"
   ]
  },
  {
   "cell_type": "code",
   "execution_count": 67,
   "metadata": {
    "pycharm": {
     "name": "#%%\n"
    }
   },
   "outputs": [
    {
     "data": {
      "text/plain": [
       "Year               int64\n",
       "Country           object\n",
       "EVD               object\n",
       "Cases              int64\n",
       "Deaths             int64\n",
       "Case fatality      int64\n",
       "dtype: object"
      ]
     },
     "execution_count": 67,
     "metadata": {},
     "output_type": "execute_result"
    }
   ],
   "source": [
    "df.dtypes"
   ]
  },
  {
   "cell_type": "code",
   "execution_count": 68,
   "metadata": {
    "pycharm": {
     "name": "#%%\n"
    }
   },
   "outputs": [
    {
     "data": {
      "text/html": [
       "<div>\n",
       "<style scoped>\n",
       "    .dataframe tbody tr th:only-of-type {\n",
       "        vertical-align: middle;\n",
       "    }\n",
       "\n",
       "    .dataframe tbody tr th {\n",
       "        vertical-align: top;\n",
       "    }\n",
       "\n",
       "    .dataframe thead th {\n",
       "        text-align: right;\n",
       "    }\n",
       "</style>\n",
       "<table border=\"1\" class=\"dataframe\">\n",
       "  <thead>\n",
       "    <tr style=\"text-align: right;\">\n",
       "      <th></th>\n",
       "      <th>Year</th>\n",
       "      <th>Cases</th>\n",
       "      <th>Deaths</th>\n",
       "      <th>Case fatality</th>\n",
       "    </tr>\n",
       "  </thead>\n",
       "  <tbody>\n",
       "    <tr>\n",
       "      <th>count</th>\n",
       "      <td>32.000000</td>\n",
       "      <td>32.000000</td>\n",
       "      <td>32.000000</td>\n",
       "      <td>32.000000</td>\n",
       "    </tr>\n",
       "    <tr>\n",
       "      <th>mean</th>\n",
       "      <td>2003.656250</td>\n",
       "      <td>77.843750</td>\n",
       "      <td>50.000000</td>\n",
       "      <td>54.750000</td>\n",
       "    </tr>\n",
       "    <tr>\n",
       "      <th>std</th>\n",
       "      <td>12.734534</td>\n",
       "      <td>115.760071</td>\n",
       "      <td>80.139395</td>\n",
       "      <td>31.088843</td>\n",
       "    </tr>\n",
       "    <tr>\n",
       "      <th>min</th>\n",
       "      <td>1976.000000</td>\n",
       "      <td>1.000000</td>\n",
       "      <td>0.000000</td>\n",
       "      <td>0.000000</td>\n",
       "    </tr>\n",
       "    <tr>\n",
       "      <th>25%</th>\n",
       "      <td>1996.000000</td>\n",
       "      <td>3.250000</td>\n",
       "      <td>1.000000</td>\n",
       "      <td>40.750000</td>\n",
       "    </tr>\n",
       "    <tr>\n",
       "      <th>50%</th>\n",
       "      <td>2007.000000</td>\n",
       "      <td>27.500000</td>\n",
       "      <td>15.500000</td>\n",
       "      <td>58.500000</td>\n",
       "    </tr>\n",
       "    <tr>\n",
       "      <th>75%</th>\n",
       "      <td>2014.000000</td>\n",
       "      <td>77.500000</td>\n",
       "      <td>39.000000</td>\n",
       "      <td>76.500000</td>\n",
       "    </tr>\n",
       "    <tr>\n",
       "      <th>max</th>\n",
       "      <td>2020.000000</td>\n",
       "      <td>425.000000</td>\n",
       "      <td>280.000000</td>\n",
       "      <td>100.000000</td>\n",
       "    </tr>\n",
       "  </tbody>\n",
       "</table>\n",
       "</div>"
      ],
      "text/plain": [
       "              Year       Cases      Deaths  Case fatality \n",
       "count    32.000000   32.000000   32.000000       32.000000\n",
       "mean   2003.656250   77.843750   50.000000       54.750000\n",
       "std      12.734534  115.760071   80.139395       31.088843\n",
       "min    1976.000000    1.000000    0.000000        0.000000\n",
       "25%    1996.000000    3.250000    1.000000       40.750000\n",
       "50%    2007.000000   27.500000   15.500000       58.500000\n",
       "75%    2014.000000   77.500000   39.000000       76.500000\n",
       "max    2020.000000  425.000000  280.000000      100.000000"
      ]
     },
     "execution_count": 68,
     "metadata": {},
     "output_type": "execute_result"
    }
   ],
   "source": [
    "\n",
    "df.describe()"
   ]
  },
  {
   "cell_type": "markdown",
   "metadata": {
    "pycharm": {
     "name": "#%% md\n"
    }
   },
   "source": [
    "f)\tCheck the correlations between the features (2 marks)"
   ]
  },
  {
   "cell_type": "code",
   "execution_count": 69,
   "metadata": {
    "pycharm": {
     "name": "#%%\n"
    }
   },
   "outputs": [
    {
     "data": {
      "text/html": [
       "<div>\n",
       "<style scoped>\n",
       "    .dataframe tbody tr th:only-of-type {\n",
       "        vertical-align: middle;\n",
       "    }\n",
       "\n",
       "    .dataframe tbody tr th {\n",
       "        vertical-align: top;\n",
       "    }\n",
       "\n",
       "    .dataframe thead th {\n",
       "        text-align: right;\n",
       "    }\n",
       "</style>\n",
       "<table border=\"1\" class=\"dataframe\">\n",
       "  <thead>\n",
       "    <tr style=\"text-align: right;\">\n",
       "      <th></th>\n",
       "      <th>Year</th>\n",
       "      <th>Cases</th>\n",
       "      <th>Deaths</th>\n",
       "      <th>Case fatality</th>\n",
       "    </tr>\n",
       "  </thead>\n",
       "  <tbody>\n",
       "    <tr>\n",
       "      <th>Year</th>\n",
       "      <td>1.000000</td>\n",
       "      <td>-0.382171</td>\n",
       "      <td>-0.429596</td>\n",
       "      <td>-0.413409</td>\n",
       "    </tr>\n",
       "    <tr>\n",
       "      <th>Cases</th>\n",
       "      <td>-0.382171</td>\n",
       "      <td>1.000000</td>\n",
       "      <td>0.954326</td>\n",
       "      <td>0.214592</td>\n",
       "    </tr>\n",
       "    <tr>\n",
       "      <th>Deaths</th>\n",
       "      <td>-0.429596</td>\n",
       "      <td>0.954326</td>\n",
       "      <td>1.000000</td>\n",
       "      <td>0.310431</td>\n",
       "    </tr>\n",
       "    <tr>\n",
       "      <th>Case fatality</th>\n",
       "      <td>-0.413409</td>\n",
       "      <td>0.214592</td>\n",
       "      <td>0.310431</td>\n",
       "      <td>1.000000</td>\n",
       "    </tr>\n",
       "  </tbody>\n",
       "</table>\n",
       "</div>"
      ],
      "text/plain": [
       "                    Year     Cases    Deaths  Case fatality \n",
       "Year            1.000000 -0.382171 -0.429596       -0.413409\n",
       "Cases          -0.382171  1.000000  0.954326        0.214592\n",
       "Deaths         -0.429596  0.954326  1.000000        0.310431\n",
       "Case fatality  -0.413409  0.214592  0.310431        1.000000"
      ]
     },
     "execution_count": 69,
     "metadata": {},
     "output_type": "execute_result"
    }
   ],
   "source": [
    "df.corr()"
   ]
  },
  {
   "cell_type": "markdown",
   "metadata": {
    "pycharm": {
     "name": "#%% md\n"
    }
   },
   "source": [
    "g)\tGenerate the regression plots between variables.  (2 marks)"
   ]
  },
  {
   "cell_type": "code",
   "execution_count": 70,
   "metadata": {
    "pycharm": {
     "name": "#%%\n"
    }
   },
   "outputs": [],
   "source": [
    "import seaborn as sns"
   ]
  },
  {
   "cell_type": "code",
   "execution_count": 71,
   "metadata": {
    "pycharm": {
     "name": "#%%\n"
    }
   },
   "outputs": [],
   "source": [
    "# getting numeric columns to use\n",
    "year = df.Year\n",
    "cases = df.Cases\n",
    "deaths = df.Deaths\n",
    "cases_fatality = df.iloc[:,5]"
   ]
  },
  {
   "cell_type": "code",
   "execution_count": 72,
   "metadata": {
    "pycharm": {
     "name": "#%%\n"
    }
   },
   "outputs": [
    {
     "data": {
      "image/png": "[encoded data removed]",
      "text/plain": [
       "<Figure size 432x288 with 1 Axes>"
      ]
     },
     "metadata": {},
     "output_type": "display_data"
    }
   ],
   "source": [
    "sns.set_theme(color_codes=True)\n",
    "\n",
    "sns.regplot(x=year, y=cases);\n"
   ]
  },
  {
   "cell_type": "code",
   "execution_count": 73,
   "metadata": {
    "pycharm": {
     "name": "#%%\n"
    }
   },
   "outputs": [
    {
     "data": {
      "text/plain": [
       "<seaborn.axisgrid.FacetGrid at 0x7f91e82649d0>"
      ]
     },
     "execution_count": 73,
     "metadata": {},
     "output_type": "execute_result"
    },
    {
     "data": {
      "image/png": "[encoded data removed]",
      "text/plain": [
       "<Figure size 360x360 with 1 Axes>"
      ]
     },
     "metadata": {},
     "output_type": "display_data"
    }
   ],
   "source": [
    "sns.lmplot(x=\"Year\", y=\"Deaths\",data=df)"
   ]
  },
  {
   "cell_type": "markdown",
   "metadata": {
    "pycharm": {
     "name": "#%% md\n"
    }
   },
   "source": [
    "h)\tGenerate a heatmap for the correlations of features. (4 marks)"
   ]
  },
  {
   "cell_type": "code",
   "execution_count": 74,
   "metadata": {
    "pycharm": {
     "name": "#%%\n"
    }
   },
   "outputs": [
    {
     "data": {
      "text/plain": [
       "<AxesSubplot:>"
      ]
     },
     "execution_count": 74,
     "metadata": {},
     "output_type": "execute_result"
    },
    {
     "data": {
      "image/png": "[encoded data removed]",
      "text/plain": [
       "<Figure size 432x288 with 2 Axes>"
      ]
     },
     "metadata": {},
     "output_type": "display_data"
    }
   ],
   "source": [
    "sns.heatmap(df.corr(),annot=True)"
   ]
  },
  {
   "cell_type": "markdown",
   "metadata": {
    "pycharm": {
     "name": "#%% md\n"
    }
   },
   "source": [
    "i)\tProduce Simple Linear Regression model to show relationship between the two features that are strongly correlated. (4 marks)"
   ]
  },
  {
   "cell_type": "code",
   "execution_count": 75,
   "metadata": {
    "pycharm": {
     "name": "#%%\n"
    }
   },
   "outputs": [
    {
     "name": "stdout",
     "output_type": "stream",
     "text": [
      "0.9589036783600119\n"
     ]
    },
    {
     "name": "stderr",
     "output_type": "stream",
     "text": [
      "/Users/dbaluku/opt/anaconda3/lib/python3.9/site-packages/sklearn/utils/validation.py:1688: FutureWarning: Feature names only support names that are all strings. Got feature names with dtypes: ['_ElementUnicodeResult']. An error will be raised in 1.2.\n",
      "  warnings.warn(\n",
      "/Users/dbaluku/opt/anaconda3/lib/python3.9/site-packages/sklearn/utils/validation.py:1688: FutureWarning: Feature names only support names that are all strings. Got feature names with dtypes: ['_ElementUnicodeResult']. An error will be raised in 1.2.\n",
      "  warnings.warn(\n"
     ]
    }
   ],
   "source": [
    "from sklearn.linear_model import LinearRegression\n",
    "from sklearn.model_selection import train_test_split\n",
    "\n",
    "X= pd.DataFrame(df['Cases'])\n",
    "y =pd.DataFrame(df['Deaths'])\n",
    "\n",
    "X_train, X_test, y_train, y_test = train_test_split(X, y, train_size = 0.7,\n",
    "                                                    test_size = 0.3, random_state = 100)\n",
    "regr = LinearRegression()\n",
    "\n",
    "regr.fit(X_train, y_train)\n",
    "print(regr.score(X_test, y_test))"
   ]
  },
  {
   "cell_type": "markdown",
   "metadata": {
    "pycharm": {
     "name": "#%% md\n"
    }
   },
   "source": [
    "Compute the slope and the intercept of your graph and deduce your model in the form\n",
    "y=mx+c  (4 marks)\n"
   ]
  },
  {
   "cell_type": "code",
   "execution_count": 76,
   "metadata": {
    "pycharm": {
     "name": "#%%\n"
    }
   },
   "outputs": [
    {
     "name": "stderr",
     "output_type": "stream",
     "text": [
      "/Users/dbaluku/opt/anaconda3/lib/python3.9/site-packages/sklearn/utils/validation.py:1688: FutureWarning: Feature names only support names that are all strings. Got feature names with dtypes: ['_ElementUnicodeResult']. An error will be raised in 1.2.\n",
      "  warnings.warn(\n"
     ]
    }
   ],
   "source": [
    "\n",
    "y_pred = regr.predict(X_test)\n"
   ]
  },
  {
   "cell_type": "code",
   "execution_count": 77,
   "metadata": {
    "pycharm": {
     "name": "#%%\n"
    }
   },
   "outputs": [
    {
     "name": "stdout",
     "output_type": "stream",
     "text": [
      "[[0.66143342]]\n"
     ]
    }
   ],
   "source": [
    "# Slope\n",
    "print(regr.coef_)"
   ]
  },
  {
   "cell_type": "code",
   "execution_count": 78,
   "metadata": {
    "pycharm": {
     "name": "#%%\n"
    }
   },
   "outputs": [
    {
     "name": "stdout",
     "output_type": "stream",
     "text": [
      "[-1.57830929]\n"
     ]
    }
   ],
   "source": [
    "# intercept\n",
    "print (regr.intercept_)"
   ]
  },
  {
   "cell_type": "markdown",
   "metadata": {
    "pycharm": {
     "name": "#%% md\n"
    }
   },
   "source": [
    "k)\tEvaluate your model and make a conclusion based on R-square and Mean Square Error values. (4 marks)"
   ]
  },
  {
   "cell_type": "code",
   "execution_count": 79,
   "metadata": {
    "pycharm": {
     "name": "#%%\n"
    }
   },
   "outputs": [
    {
     "name": "stdout",
     "output_type": "stream",
     "text": [
      "Mean Absolute Error: 1.7921122505388176\n",
      "Mean Squared Error: 4.521006343615094\n",
      "Root Mean Square Error: 2.1262658214849557\n"
     ]
    }
   ],
   "source": [
    "from sklearn import metrics\n",
    "\n",
    "print('Mean Absolute Error:',metrics.mean_absolute_error(y_test,y_pred))\n",
    "print('Mean Squared Error:',metrics.mean_squared_error(y_test,y_pred))\n",
    "print('Root Mean Square Error:',np.sqrt(metrics.mean_squared_error(y_test,y_pred)))"
   ]
  },
  {
   "cell_type": "markdown",
   "metadata": {
    "pycharm": {
     "name": "#%% md\n"
    }
   },
   "source": [
    "Section B"
   ]
  },
  {
   "cell_type": "markdown",
   "metadata": {
    "pycharm": {
     "name": "#%% md\n"
    }
   },
   "source": [
    " Question Four"
   ]
  },
  {
   "cell_type": "markdown",
   "metadata": {
    "pycharm": {
     "name": "#%% md\n"
    }
   },
   "source": [
    "a) Import necessary libraries for Support Vector Machine (SVM) algorithm. (5 marks)"
   ]
  },
  {
   "cell_type": "code",
   "execution_count": 80,
   "metadata": {
    "pycharm": {
     "name": "#%%\n"
    }
   },
   "outputs": [],
   "source": [
    "from sklearn import svm\n",
    "from sklearn.model_selection import train_test_split\n",
    "from sklearn import metrics\n",
    "%matplotlib inline\n",
    "import pandas as pd\n"
   ]
  },
  {
   "cell_type": "markdown",
   "metadata": {
    "pycharm": {
     "name": "#%% md\n"
    }
   },
   "source": [
    "b)\tProduce the SVM model. (5 marks)"
   ]
  },
  {
   "cell_type": "code",
   "execution_count": 81,
   "metadata": {
    "pycharm": {
     "name": "#%%\n"
    }
   },
   "outputs": [
    {
     "data": {
      "text/plain": [
       "array([[ 264, 2007],\n",
       "       [  54, 2018],\n",
       "       [  57, 2012],\n",
       "       [  32, 2008],\n",
       "       [  17, 2004],\n",
       "       [  60, 1996],\n",
       "       [   1, 2014],\n",
       "       [   4, 2014],\n",
       "       [  35, 2003],\n",
       "       [ 284, 1976],\n",
       "       [ 425, 2000],\n",
       "       [   1, 2011],\n",
       "       [  34, 1979],\n",
       "       [   1, 2015],\n",
       "       [   1, 1977],\n",
       "       [  52, 1994],\n",
       "       [   7, 2012],\n",
       "       [  12, 2005],\n",
       "       [  24, 2012],\n",
       "       [   1, 1994],\n",
       "       [   8, 2014],\n",
       "       [  31, 1996]])"
      ]
     },
     "execution_count": 81,
     "metadata": {},
     "output_type": "execute_result"
    }
   ],
   "source": [
    "feature_df= df[['Cases','Year']]\n",
    "X = np.asarray(feature_df)\n",
    "y = pd.DataFrame(df['Deaths']).astype('int')\n",
    "\n",
    "\n",
    "X_train, X_test, y_train, y_test = train_test_split(X, y, train_size = 0.7,test_size = 0.3)\n",
    "X_train"
   ]
  },
  {
   "cell_type": "code",
   "execution_count": 82,
   "metadata": {
    "pycharm": {
     "name": "#%%\n"
    }
   },
   "outputs": [
    {
     "name": "stderr",
     "output_type": "stream",
     "text": [
      "/Users/dbaluku/opt/anaconda3/lib/python3.9/site-packages/sklearn/utils/validation.py:993: DataConversionWarning: A column-vector y was passed when a 1d array was expected. Please change the shape of y to (n_samples, ), for example using ravel().\n",
      "  y = column_or_1d(y, warn=True)\n"
     ]
    },
    {
     "data": {
      "text/plain": [
       "array([1, 1, 0, 0, 0, 0, 0, 0, 1, 1])"
      ]
     },
     "execution_count": 82,
     "metadata": {},
     "output_type": "execute_result"
    }
   ],
   "source": [
    "\n",
    "clf = svm.SVC(kernel='rbf')\n",
    "clf.fit(X_train, y_train)\n",
    "#Predict the response for test dataset\n",
    "y_pred = clf.predict(X_test)\n",
    "y_pred"
   ]
  },
  {
   "cell_type": "markdown",
   "metadata": {
    "pycharm": {
     "name": "#%% md\n"
    }
   },
   "source": [
    "c)\tCalculate accuracy of the model and F1 for Support Vector Machine. (5 marks)"
   ]
  },
  {
   "cell_type": "code",
   "execution_count": 83,
   "metadata": {
    "pycharm": {
     "name": "#%%\n"
    }
   },
   "outputs": [
    {
     "name": "stdout",
     "output_type": "stream",
     "text": [
      "Accuracy: 0.2\n",
      "F1 score 0.1\n"
     ]
    }
   ],
   "source": [
    "# Model Accuracy:\n",
    "print(\"Accuracy:\",metrics.accuracy_score(y_test, y_pred))\n",
    "from sklearn.metrics import f1_score\n",
    "print(\"F1 score\",  f1_score(y_test, y_pred, average='weighted'))"
   ]
  },
  {
   "cell_type": "markdown",
   "metadata": {
    "pycharm": {
     "name": "#%% md\n"
    }
   },
   "source": [
    "d)\tProduct the Jaccard index score value. (5 marks)"
   ]
  },
  {
   "cell_type": "code",
   "execution_count": 84,
   "metadata": {
    "pycharm": {
     "name": "#%%\n"
    }
   },
   "outputs": [
    {
     "name": "stdout",
     "output_type": "stream",
     "text": [
      "Jacard score  0.06666666666666667\n"
     ]
    }
   ],
   "source": [
    "from sklearn.metrics import jaccard_score\n",
    "print(\"Jacard score \",jaccard_score(y_test, y_pred, average='weighted'))"
   ]
  },
  {
   "cell_type": "markdown",
   "metadata": {
    "pycharm": {
     "name": "#%% md\n"
    }
   },
   "source": [
    "Question Five"
   ]
  },
  {
   "cell_type": "markdown",
   "metadata": {
    "pycharm": {
     "name": "#%% md\n"
    }
   },
   "source": [
    "    a)\tImport necessary libraries for Logistic Regression algorithm. (5 marks)"
   ]
  },
  {
   "cell_type": "code",
   "execution_count": 85,
   "metadata": {
    "pycharm": {
     "name": "#%%\n"
    }
   },
   "outputs": [],
   "source": [
    "import pandas as pd\n",
    "from sklearn.linear_model import LogisticRegression\n",
    "import numpy as np\n",
    "from sklearn import preprocessing\n",
    "from sklearn.model_selection import train_test_split\n",
    "%matplotlib inline\n",
    "import matplotlib.pyplot as plt"
   ]
  },
  {
   "cell_type": "markdown",
   "metadata": {
    "pycharm": {
     "name": "#%% md\n"
    }
   },
   "source": [
    "b)\tProduce the Logistic Regression model. (5 marks)"
   ]
  },
  {
   "cell_type": "code",
   "execution_count": 86,
   "metadata": {
    "pycharm": {
     "name": "#%%\n"
    }
   },
   "outputs": [
    {
     "data": {
      "text/plain": [
       "array([[ 1.30395561,  0.45776408],\n",
       "       [ 1.14438934, -0.20927142],\n",
       "       [ 1.06460621, -0.61300343],\n",
       "       [ 0.90503994, -0.67444091],\n",
       "       [ 0.8252568 , -0.67444091]])"
      ]
     },
     "execution_count": 86,
     "metadata": {},
     "output_type": "execute_result"
    }
   ],
   "source": [
    "X = np.asarray(df[['Year','Cases']])\n",
    "y =pd.DataFrame(df['Deaths'])\n",
    "\n",
    "X = preprocessing.StandardScaler().fit(X).transform(X)\n",
    "X[0:5]\n"
   ]
  },
  {
   "cell_type": "code",
   "execution_count": 87,
   "metadata": {
    "pycharm": {
     "name": "#%%\n"
    }
   },
   "outputs": [
    {
     "name": "stdout",
     "output_type": "stream",
     "text": [
      "Train set: (25, 2) (25, 1)\n",
      "Test set: (7, 2) (7, 1)\n"
     ]
    }
   ],
   "source": [
    "X_train, X_test, y_train, y_test = train_test_split(X, y, test_size=0.2)\n",
    "print ('Train set:', X_train.shape, y_train.shape)\n",
    "print ('Test set:', X_test.shape, y_test.shape)"
   ]
  },
  {
   "cell_type": "code",
   "execution_count": 88,
   "metadata": {
    "pycharm": {
     "name": "#%%\n"
    }
   },
   "outputs": [
    {
     "name": "stderr",
     "output_type": "stream",
     "text": [
      "/Users/dbaluku/opt/anaconda3/lib/python3.9/site-packages/sklearn/utils/validation.py:993: DataConversionWarning: A column-vector y was passed when a 1d array was expected. Please change the shape of y to (n_samples, ), for example using ravel().\n",
      "  y = column_or_1d(y, warn=True)\n"
     ]
    },
    {
     "data": {
      "text/plain": [
       "array([[ 0.00804495, -0.02628076],\n",
       "       [ 0.00121777, -0.01988293],\n",
       "       [ 0.01552508, -0.01864065],\n",
       "       [ 0.00717239, -0.01302709],\n",
       "       [-0.00032314, -0.01250782],\n",
       "       [ 0.0072016 , -0.01204001],\n",
       "       [ 0.00041642, -0.01289699],\n",
       "       [ 0.00570783, -0.01175517],\n",
       "       [-0.00630275, -0.01153325],\n",
       "       [-0.01907416, -0.01166297],\n",
       "       [ 0.00518803, -0.01261612],\n",
       "       [ 0.01029124, -0.00915454],\n",
       "       [ 0.00225353, -0.00158431],\n",
       "       [-0.00623215, -0.0091479 ],\n",
       "       [ 0.01197968, -0.00285889],\n",
       "       [-0.00076793, -0.00216631],\n",
       "       [-0.02071977,  0.00883218],\n",
       "       [-0.00233564,  0.02096054],\n",
       "       [-0.00636227,  0.01180305],\n",
       "       [-0.02063685,  0.01162845]])"
      ]
     },
     "execution_count": 88,
     "metadata": {},
     "output_type": "execute_result"
    }
   ],
   "source": [
    "LR = LogisticRegression(C=0.01,solver='liblinear').fit(X_train,y_train)\n",
    "LR.classes_\n",
    "LR.intercept_\n",
    "LR.coef_"
   ]
  },
  {
   "cell_type": "code",
   "execution_count": 89,
   "metadata": {
    "pycharm": {
     "name": "#%%\n"
    }
   },
   "outputs": [
    {
     "data": {
      "text/plain": [
       "array([  0,   0,   0,  22, 224,   0,   0])"
      ]
     },
     "execution_count": 89,
     "metadata": {},
     "output_type": "execute_result"
    }
   ],
   "source": [
    "y_pred = LR.predict(X_test)\n",
    "y_pred"
   ]
  },
  {
   "cell_type": "code",
   "execution_count": 90,
   "metadata": {
    "pycharm": {
     "name": "#%%\n"
    }
   },
   "outputs": [
    {
     "data": {
      "text/plain": [
       "array([[0.05091147, 0.05044463, 0.05064282, 0.05016666, 0.05004206,\n",
       "        0.05014952, 0.05006037, 0.05012145, 0.04993268, 0.04973852,\n",
       "        0.05037618, 0.05014564, 0.04988706, 0.04989127, 0.05005942,\n",
       "        0.04985095, 0.04934832, 0.049415  , 0.04951613, 0.04929984],\n",
       "       [0.05096457, 0.05045471, 0.05074297, 0.05021418, 0.05004242,\n",
       "        0.05019722, 0.05006539, 0.05015975, 0.04989545, 0.04962105,\n",
       "        0.05041124, 0.05021277, 0.04990361, 0.04985448, 0.05013715,\n",
       "        0.04984851, 0.04922061, 0.0494027 , 0.04947854, 0.04917266],\n",
       "       [0.05096457, 0.05045471, 0.05074297, 0.05021418, 0.05004242,\n",
       "        0.05019722, 0.05006539, 0.05015975, 0.04989545, 0.04962105,\n",
       "        0.05041124, 0.05021277, 0.04990361, 0.04985448, 0.05013715,\n",
       "        0.04984851, 0.04922061, 0.0494027 , 0.04947854, 0.04917266],\n",
       "       [0.05030975, 0.05032992, 0.04950899, 0.04962819, 0.05003737,\n",
       "        0.049609  , 0.050003  , 0.04968728, 0.05035402, 0.05107032,\n",
       "        0.04997869, 0.04938531, 0.04969901, 0.05030757, 0.04917922,\n",
       "        0.04987802, 0.05079674, 0.0495538 , 0.04994157, 0.05074223],\n",
       "       [0.049652  , 0.04963072, 0.04978512, 0.04971926, 0.0496888 ,\n",
       "        0.04976202, 0.04967724, 0.04976376, 0.04968864, 0.04959301,\n",
       "        0.04997198, 0.04990821, 0.05017801, 0.04979195, 0.05019167,\n",
       "        0.05013158, 0.05046531, 0.05111908, 0.05069502, 0.05058661],\n",
       "       [0.05071913, 0.0503408 , 0.0504579 , 0.05007422, 0.05000041,\n",
       "        0.05006394, 0.0500113 , 0.0500473 , 0.04993554, 0.04982063,\n",
       "        0.05029932, 0.05006126, 0.0499072 , 0.04991071, 0.05000939,\n",
       "        0.0498859 , 0.04958683, 0.04962469, 0.0496858 , 0.04955773],\n",
       "       [0.05038111, 0.050233  , 0.04993547, 0.04982314, 0.04997186,\n",
       "        0.04981656, 0.04995923, 0.0498451 , 0.05008712, 0.05034681,\n",
       "        0.05010841, 0.04973648, 0.04985337, 0.05007121, 0.0496641 ,\n",
       "        0.04991811, 0.05025569, 0.04980952, 0.04994667, 0.05023702]])"
      ]
     },
     "execution_count": 90,
     "metadata": {},
     "output_type": "execute_result"
    }
   ],
   "source": [
    "ypred_prob = LR.predict_proba(X_test)\n",
    "ypred_prob\n"
   ]
  },
  {
   "cell_type": "markdown",
   "metadata": {
    "pycharm": {
     "name": "#%% md\n"
    }
   },
   "source": [
    "c)\tCalculate accuracy of the model and F1 for Logistic Regression. (5 marks)"
   ]
  },
  {
   "cell_type": "code",
   "execution_count": 91,
   "metadata": {
    "pycharm": {
     "name": "#%%\n"
    }
   },
   "outputs": [
    {
     "name": "stdout",
     "output_type": "stream",
     "text": [
      "Accuracy: 0.2857142857142857\n",
      "FI score 0.0816326530612245\n"
     ]
    }
   ],
   "source": [
    "print(\"Accuracy:\",metrics.accuracy_score(y_test, y_pred))\n",
    "from sklearn.metrics import f1_score\n",
    "print (\"FI score\", f1_score(y_test, y_pred, average='macro'))"
   ]
  },
  {
   "cell_type": "markdown",
   "metadata": {
    "pycharm": {
     "name": "#%% md\n"
    }
   },
   "source": [
    "d)\tProduct the Jaccard index score and Log loss values. (5 marks)"
   ]
  },
  {
   "cell_type": "code",
   "execution_count": 92,
   "metadata": {
    "pycharm": {
     "name": "#%%\n"
    }
   },
   "outputs": [
    {
     "name": "stdout",
     "output_type": "stream",
     "text": [
      "Jacard score  0.1142857142857143\n"
     ]
    }
   ],
   "source": [
    "print(\"Jacard score \", jaccard_score(y_test, y_pred, average='weighted'))"
   ]
  },
  {
   "cell_type": "code",
   "execution_count": null,
   "metadata": {
    "pycharm": {
     "name": "#%%\n"
    }
   },
   "outputs": [],
   "source": []
  },
  {
   "cell_type": "markdown",
   "metadata": {
    "pycharm": {
     "name": "#%% md\n"
    }
   },
   "source": [
    "Question Three"
   ]
  },
  {
   "cell_type": "markdown",
   "metadata": {
    "pycharm": {
     "name": "#%% md\n"
    }
   },
   "source": [
    "a)\tImport necessary libraries for Decision Trees algorithm. (4 marks)"
   ]
  },
  {
   "cell_type": "code",
   "execution_count": 93,
   "metadata": {
    "pycharm": {
     "name": "#%%\n"
    }
   },
   "outputs": [],
   "source": [
    "import pydotplus\n",
    "import matplotlib.image as mpimg\n",
    "from sklearn import tree\n",
    "%matplotlib inline\n",
    "from six import StringIO\n",
    "import matplotlib.image as mpimg\n",
    "from sklearn import tree\n",
    "from sklearn import preprocessing\n",
    "from sklearn.tree import DecisionTreeClassifier"
   ]
  },
  {
   "cell_type": "markdown",
   "metadata": {
    "pycharm": {
     "name": "#%% md\n"
    }
   },
   "source": [
    "b)\tBuild an empty Decision Tree object with depth 5. (4 marks)"
   ]
  },
  {
   "cell_type": "code",
   "execution_count": 94,
   "metadata": {
    "pycharm": {
     "name": "#%%\n"
    }
   },
   "outputs": [
    {
     "data": {
      "text/plain": [
       "DecisionTreeClassifier(criterion='entropy', max_depth=5)"
      ]
     },
     "execution_count": 94,
     "metadata": {},
     "output_type": "execute_result"
    }
   ],
   "source": [
    "TelecomTree = DecisionTreeClassifier(criterion=\"entropy\", max_depth = 5)\n",
    "TelecomTree # it shows the default parameters"
   ]
  },
  {
   "cell_type": "markdown",
   "metadata": {
    "pycharm": {
     "name": "#%% md\n"
    }
   },
   "source": [
    "c)\tTrain the decision tree using the global X data set. (4 marks)"
   ]
  },
  {
   "cell_type": "code",
   "execution_count": 95,
   "metadata": {
    "pycharm": {
     "name": "#%%\n"
    }
   },
   "outputs": [
    {
     "data": {
      "text/plain": [
       "array([[ 1.30395561,  0.45776408],\n",
       "       [ 1.14438934, -0.20927142],\n",
       "       [ 1.06460621, -0.61300343],\n",
       "       [ 0.90503994, -0.67444091],\n",
       "       [ 0.8252568 , -0.67444091]])"
      ]
     },
     "execution_count": 95,
     "metadata": {},
     "output_type": "execute_result"
    }
   ],
   "source": [
    "X = np.asarray(df1[['Year','Cases']])\n",
    "y =pd.DataFrame(df1['Deaths'])\n",
    "\n",
    "X= preprocessing.StandardScaler().fit(X).transform(X)\n",
    "X[0:5]"
   ]
  },
  {
   "cell_type": "code",
   "execution_count": 96,
   "metadata": {
    "pycharm": {
     "name": "#%%\n"
    }
   },
   "outputs": [
    {
     "data": {
      "text/plain": [
       "DecisionTreeClassifier(criterion='entropy', max_depth=5)"
      ]
     },
     "execution_count": 96,
     "metadata": {},
     "output_type": "execute_result"
    }
   ],
   "source": [
    "TelecomTree.fit(X, y)"
   ]
  },
  {
   "cell_type": "code",
   "execution_count": 97,
   "metadata": {
    "pycharm": {
     "name": "#%%\n"
    }
   },
   "outputs": [
    {
     "name": "stdout",
     "output_type": "stream",
     "text": [
      "[  1   0   0   1 187]\n",
      "    Deaths\n",
      "20       1\n",
      "8        0\n",
      "10       0\n",
      "38       1\n",
      "23     187\n"
     ]
    }
   ],
   "source": [
    "predTree = TelecomTree.predict(X_test)\n",
    "print (predTree [0:5])\n",
    "print (y_test [0:5])"
   ]
  },
  {
   "cell_type": "markdown",
   "metadata": {
    "pycharm": {
     "name": "#%% md\n"
    }
   },
   "source": [
    "d)\tPrint the Decision Tree to appear similar to the figure below. (4 marks)"
   ]
  },
  {
   "cell_type": "code",
   "execution_count": 98,
   "metadata": {
    "pycharm": {
     "name": "#%%\n"
    }
   },
   "outputs": [
    {
     "data": {
      "text/plain": [
       "['Cases', 'Years']"
      ]
     },
     "execution_count": 98,
     "metadata": {},
     "output_type": "execute_result"
    }
   ],
   "source": [
    "dot_data = StringIO()\n",
    "filename = \"ebolatree.png\"\n",
    "featureNames = ['Cases', 'Years']\n",
    "targetNames = df[\"Deaths\"].unique().tolist()\n",
    "featureNames"
   ]
  },
  {
   "cell_type": "code",
   "execution_count": 99,
   "metadata": {
    "pycharm": {
     "name": "#%%\n"
    }
   },
   "outputs": [
    {
     "ename": "TypeError",
     "evalue": "can only concatenate str (not \"numpy.int64\") to str",
     "output_type": "error",
     "traceback": [
      "\u001b[0;31m---------------------------------------------------------------------------\u001b[0m",
      "\u001b[0;31mTypeError\u001b[0m                                 Traceback (most recent call last)",
      "Input \u001b[0;32mIn [99]\u001b[0m, in \u001b[0;36m<cell line: 1>\u001b[0;34m()\u001b[0m\n\u001b[0;32m----> 1\u001b[0m out\u001b[38;5;241m=\u001b[39m\u001b[43mtree\u001b[49m\u001b[38;5;241;43m.\u001b[39;49m\u001b[43mexport_graphviz\u001b[49m\u001b[43m(\u001b[49m\u001b[43mTelecomTree\u001b[49m\u001b[43m,\u001b[49m\u001b[43mfeature_names\u001b[49m\u001b[38;5;241;43m=\u001b[39;49m\u001b[43mfeatureNames\u001b[49m\u001b[43m,\u001b[49m\u001b[43mout_file\u001b[49m\u001b[38;5;241;43m=\u001b[39;49m\u001b[43mdot_data\u001b[49m\u001b[43m,\u001b[49m\u001b[43m \u001b[49m\u001b[43mclass_names\u001b[49m\u001b[38;5;241;43m=\u001b[39;49m\u001b[43m \u001b[49m\u001b[43mnp\u001b[49m\u001b[38;5;241;43m.\u001b[39;49m\u001b[43munique\u001b[49m\u001b[43m(\u001b[49m\u001b[43my_train\u001b[49m\u001b[43m)\u001b[49m\u001b[43m,\u001b[49m\u001b[43m \u001b[49m\u001b[43mfilled\u001b[49m\u001b[38;5;241;43m=\u001b[39;49m\u001b[38;5;28;43;01mTrue\u001b[39;49;00m\u001b[43m,\u001b[49m\u001b[43mspecial_characters\u001b[49m\u001b[38;5;241;43m=\u001b[39;49m\u001b[38;5;28;43;01mTrue\u001b[39;49;00m\u001b[43m,\u001b[49m\u001b[43mrotate\u001b[49m\u001b[38;5;241;43m=\u001b[39;49m\u001b[38;5;28;43;01mFalse\u001b[39;49;00m\u001b[43m)\u001b[49m\n\u001b[1;32m      2\u001b[0m graph \u001b[38;5;241m=\u001b[39m pydotplus\u001b[38;5;241m.\u001b[39mgraph_from_dot_data(dot_data\u001b[38;5;241m.\u001b[39mgetvalue())\n\u001b[1;32m      3\u001b[0m graph\u001b[38;5;241m.\u001b[39mwrite_png(filename)\n",
      "File \u001b[0;32m~/opt/anaconda3/lib/python3.9/site-packages/sklearn/tree/_export.py:889\u001b[0m, in \u001b[0;36mexport_graphviz\u001b[0;34m(decision_tree, out_file, max_depth, feature_names, class_names, label, filled, leaves_parallel, impurity, node_ids, proportion, rotate, rounded, special_characters, precision, fontname)\u001b[0m\n\u001b[1;32m    870\u001b[0m     out_file \u001b[38;5;241m=\u001b[39m StringIO()\n\u001b[1;32m    872\u001b[0m exporter \u001b[38;5;241m=\u001b[39m _DOTTreeExporter(\n\u001b[1;32m    873\u001b[0m     out_file\u001b[38;5;241m=\u001b[39mout_file,\n\u001b[1;32m    874\u001b[0m     max_depth\u001b[38;5;241m=\u001b[39mmax_depth,\n\u001b[0;32m   (...)\u001b[0m\n\u001b[1;32m    887\u001b[0m     fontname\u001b[38;5;241m=\u001b[39mfontname,\n\u001b[1;32m    888\u001b[0m )\n\u001b[0;32m--> 889\u001b[0m \u001b[43mexporter\u001b[49m\u001b[38;5;241;43m.\u001b[39;49m\u001b[43mexport\u001b[49m\u001b[43m(\u001b[49m\u001b[43mdecision_tree\u001b[49m\u001b[43m)\u001b[49m\n\u001b[1;32m    891\u001b[0m \u001b[38;5;28;01mif\u001b[39;00m return_string:\n\u001b[1;32m    892\u001b[0m     \u001b[38;5;28;01mreturn\u001b[39;00m exporter\u001b[38;5;241m.\u001b[39mout_file\u001b[38;5;241m.\u001b[39mgetvalue()\n",
      "File \u001b[0;32m~/opt/anaconda3/lib/python3.9/site-packages/sklearn/tree/_export.py:462\u001b[0m, in \u001b[0;36m_DOTTreeExporter.export\u001b[0;34m(self, decision_tree)\u001b[0m\n\u001b[1;32m    460\u001b[0m     \u001b[38;5;28mself\u001b[39m\u001b[38;5;241m.\u001b[39mrecurse(decision_tree, \u001b[38;5;241m0\u001b[39m, criterion\u001b[38;5;241m=\u001b[39m\u001b[38;5;124m\"\u001b[39m\u001b[38;5;124mimpurity\u001b[39m\u001b[38;5;124m\"\u001b[39m)\n\u001b[1;32m    461\u001b[0m \u001b[38;5;28;01melse\u001b[39;00m:\n\u001b[0;32m--> 462\u001b[0m     \u001b[38;5;28;43mself\u001b[39;49m\u001b[38;5;241;43m.\u001b[39;49m\u001b[43mrecurse\u001b[49m\u001b[43m(\u001b[49m\u001b[43mdecision_tree\u001b[49m\u001b[38;5;241;43m.\u001b[39;49m\u001b[43mtree_\u001b[49m\u001b[43m,\u001b[49m\u001b[43m \u001b[49m\u001b[38;5;241;43m0\u001b[39;49m\u001b[43m,\u001b[49m\u001b[43m \u001b[49m\u001b[43mcriterion\u001b[49m\u001b[38;5;241;43m=\u001b[39;49m\u001b[43mdecision_tree\u001b[49m\u001b[38;5;241;43m.\u001b[39;49m\u001b[43mcriterion\u001b[49m\u001b[43m)\u001b[49m\n\u001b[1;32m    464\u001b[0m \u001b[38;5;28mself\u001b[39m\u001b[38;5;241m.\u001b[39mtail()\n",
      "File \u001b[0;32m~/opt/anaconda3/lib/python3.9/site-packages/sklearn/tree/_export.py:521\u001b[0m, in \u001b[0;36m_DOTTreeExporter.recurse\u001b[0;34m(self, tree, node_id, criterion, parent, depth)\u001b[0m\n\u001b[1;32m    517\u001b[0m \u001b[38;5;28;01melse\u001b[39;00m:\n\u001b[1;32m    518\u001b[0m     \u001b[38;5;28mself\u001b[39m\u001b[38;5;241m.\u001b[39mranks[\u001b[38;5;28mstr\u001b[39m(depth)]\u001b[38;5;241m.\u001b[39mappend(\u001b[38;5;28mstr\u001b[39m(node_id))\n\u001b[1;32m    520\u001b[0m \u001b[38;5;28mself\u001b[39m\u001b[38;5;241m.\u001b[39mout_file\u001b[38;5;241m.\u001b[39mwrite(\n\u001b[0;32m--> 521\u001b[0m     \u001b[38;5;124m\"\u001b[39m\u001b[38;5;132;01m%d\u001b[39;00m\u001b[38;5;124m [label=\u001b[39m\u001b[38;5;132;01m%s\u001b[39;00m\u001b[38;5;124m\"\u001b[39m \u001b[38;5;241m%\u001b[39m (node_id, \u001b[38;5;28;43mself\u001b[39;49m\u001b[38;5;241;43m.\u001b[39;49m\u001b[43mnode_to_str\u001b[49m\u001b[43m(\u001b[49m\u001b[43mtree\u001b[49m\u001b[43m,\u001b[49m\u001b[43m \u001b[49m\u001b[43mnode_id\u001b[49m\u001b[43m,\u001b[49m\u001b[43m \u001b[49m\u001b[43mcriterion\u001b[49m\u001b[43m)\u001b[49m)\n\u001b[1;32m    522\u001b[0m )\n\u001b[1;32m    524\u001b[0m \u001b[38;5;28;01mif\u001b[39;00m \u001b[38;5;28mself\u001b[39m\u001b[38;5;241m.\u001b[39mfilled:\n\u001b[1;32m    525\u001b[0m     \u001b[38;5;28mself\u001b[39m\u001b[38;5;241m.\u001b[39mout_file\u001b[38;5;241m.\u001b[39mwrite(\n\u001b[1;32m    526\u001b[0m         \u001b[38;5;124m'\u001b[39m\u001b[38;5;124m, fillcolor=\u001b[39m\u001b[38;5;124m\"\u001b[39m\u001b[38;5;132;01m%s\u001b[39;00m\u001b[38;5;124m\"\u001b[39m\u001b[38;5;124m'\u001b[39m \u001b[38;5;241m%\u001b[39m \u001b[38;5;28mself\u001b[39m\u001b[38;5;241m.\u001b[39mget_fill_color(tree, node_id)\n\u001b[1;32m    527\u001b[0m     )\n",
      "File \u001b[0;32m~/opt/anaconda3/lib/python3.9/site-packages/sklearn/tree/_export.py:374\u001b[0m, in \u001b[0;36m_BaseTreeExporter.node_to_str\u001b[0;34m(self, tree, node_id, criterion)\u001b[0m\n\u001b[1;32m    368\u001b[0m     \u001b[38;5;28;01melse\u001b[39;00m:\n\u001b[1;32m    369\u001b[0m         class_name \u001b[38;5;241m=\u001b[39m \u001b[38;5;124m\"\u001b[39m\u001b[38;5;124my\u001b[39m\u001b[38;5;132;01m%s\u001b[39;00m\u001b[38;5;132;01m%s\u001b[39;00m\u001b[38;5;132;01m%s\u001b[39;00m\u001b[38;5;124m\"\u001b[39m \u001b[38;5;241m%\u001b[39m (\n\u001b[1;32m    370\u001b[0m             characters[\u001b[38;5;241m1\u001b[39m],\n\u001b[1;32m    371\u001b[0m             np\u001b[38;5;241m.\u001b[39margmax(value),\n\u001b[1;32m    372\u001b[0m             characters[\u001b[38;5;241m2\u001b[39m],\n\u001b[1;32m    373\u001b[0m         )\n\u001b[0;32m--> 374\u001b[0m     node_string \u001b[38;5;241m+\u001b[39m\u001b[38;5;241m=\u001b[39m class_name\n\u001b[1;32m    376\u001b[0m \u001b[38;5;66;03m# Clean up any trailing newlines\u001b[39;00m\n\u001b[1;32m    377\u001b[0m \u001b[38;5;28;01mif\u001b[39;00m node_string\u001b[38;5;241m.\u001b[39mendswith(characters[\u001b[38;5;241m4\u001b[39m]):\n",
      "\u001b[0;31mTypeError\u001b[0m: can only concatenate str (not \"numpy.int64\") to str"
     ]
    }
   ],
   "source": [
    "out=tree.export_graphviz(TelecomTree,feature_names=featureNames,out_file=dot_data, class_names= np.unique(y_train), filled=True,special_characters=True,rotate=False)\n",
    "graph = pydotplus.graph_from_dot_data(dot_data.getvalue())\n",
    "graph.write_png(filename)\n",
    "img = mpimg.imread(filename)\n",
    "plt.figure(figsize=(100, 200))\n",
    "plt.imshow(img,interpolation='nearest')"
   ]
  },
  {
   "cell_type": "code",
   "execution_count": null,
   "metadata": {
    "pycharm": {
     "name": "#%%\n"
    }
   },
   "outputs": [],
   "source": []
  }
 ],
 "metadata": {
  "kernelspec": {
   "display_name": "Python 3 (ipykernel)",
   "language": "python",
   "name": "python3"
  },
  "language_info": {
   "codemirror_mode": {
    "name": "ipython",
    "version": 3
   },
   "file_extension": ".py",
   "mimetype": "text/x-python",
   "name": "python",
   "nbconvert_exporter": "python",
   "pygments_lexer": "ipython3",
   "version": "3.9.12"
  }
 },
 "nbformat": 4,
 "nbformat_minor": 1
}
