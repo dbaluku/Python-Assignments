{
 "cells": [
  {
   "cell_type": "code",
   "execution_count": 62,
   "id": "03996b3e",
   "metadata": {},
   "outputs": [],
   "source": [
    "import requests\n",
    "import lxml.html as lh\n",
    "import pandas as pd \n",
    "import numpy as np\n",
    "\n",
    "url = 'https://www.ecdc.europa.eu/en/geographical-distribution-2019-ncov-cases'\n",
    "whole_page = requests.get(url)\n",
    "doc = lh.fromstring(whole_page.content)\n"
   ]
  },
  {
   "cell_type": "code",
   "execution_count": 63,
   "id": "2e1b4b9c",
   "metadata": {},
   "outputs": [
    {
     "name": "stdout",
     "output_type": "stream",
     "text": [
      "1:Region\n",
      "2:Places reporting cases\n",
      "3:Sum of Cases\n",
      "4:Sum of Deaths\n",
      "5:Confirmed cases during the 14-days\n",
      "\t\t\tof the reporting  period \n",
      "6:Reporting period\n",
      "\t\t\tYYYY-WW\n"
     ]
    }
   ],
   "source": [
    "tr_elements = doc.xpath('//tr')\n",
    "[len(T) for T in tr_elements[:12]]\n",
    "\n",
    "tr_elements = doc.xpath('//tr') \n",
    "\n",
    "cols = [] \n",
    "i = 0\n",
    "\n",
    "for t in tr_elements[0]:\n",
    "    i+=1\n",
    "    name=t.text_content()\n",
    "    print(\"%d:%s\" % (i,name))\n",
    "    cols.append((name,[]))"
   ]
  },
  {
   "cell_type": "code",
   "execution_count": 64,
   "id": "1aaf8c22",
   "metadata": {},
   "outputs": [],
   "source": [
    "for j in range(1,len(tr_elements)): # Because header is the first row, data would be store in the subsequent rows.\n",
    "    T = tr_elements[j] #T is j'th row\n",
    "    \n",
    "    if len(T)!=6: #if row is not size 3, //tr data is not from the table.\n",
    "        break\n",
    "        \n",
    "    i = 0 #i is the index of the first column\n",
    "    \n",
    "    for t in T.iterchildren(): #iterate through each element of the row\n",
    "        data=t.text_content()\n",
    "            \n",
    "        cols[i][1].append(data) #append the data to the empty list of the i'th column\n",
    "            \n",
    "        i+=1             "
   ]
  },
  {
   "cell_type": "code",
   "execution_count": 65,
   "id": "365d02e9",
   "metadata": {},
   "outputs": [
    {
     "data": {
      "text/plain": [
       "[224, 224, 224, 224, 224, 224]"
      ]
     },
     "execution_count": 65,
     "metadata": {},
     "output_type": "execute_result"
    }
   ],
   "source": [
    "[len(C) for (title,C) in cols]"
   ]
  },
  {
   "cell_type": "code",
   "execution_count": 73,
   "id": "be6ab67c",
   "metadata": {},
   "outputs": [],
   "source": [
    "Dict = {title:column for (title,column) in cols}\n",
    "df = pd.DataFrame(Dict)"
   ]
  },
  {
   "cell_type": "code",
   "execution_count": 74,
   "id": "30b8304b",
   "metadata": {},
   "outputs": [
    {
     "data": {
      "text/html": [
       "<div>\n",
       "<style scoped>\n",
       "    .dataframe tbody tr th:only-of-type {\n",
       "        vertical-align: middle;\n",
       "    }\n",
       "\n",
       "    .dataframe tbody tr th {\n",
       "        vertical-align: top;\n",
       "    }\n",
       "\n",
       "    .dataframe thead th {\n",
       "        text-align: right;\n",
       "    }\n",
       "</style>\n",
       "<table border=\"1\" class=\"dataframe\">\n",
       "  <thead>\n",
       "    <tr style=\"text-align: right;\">\n",
       "      <th></th>\n",
       "      <th>Region</th>\n",
       "      <th>Places reporting cases</th>\n",
       "      <th>Sum of Cases</th>\n",
       "      <th>Sum of Deaths</th>\n",
       "      <th>Confirmed cases during the 14-days\\n\\t\\t\\tof the reporting  period</th>\n",
       "      <th>Reporting period\\n\\t\\t\\tYYYY-WW</th>\n",
       "    </tr>\n",
       "  </thead>\n",
       "  <tbody>\n",
       "    <tr>\n",
       "      <th>count</th>\n",
       "      <td>224</td>\n",
       "      <td>224</td>\n",
       "      <td>224</td>\n",
       "      <td>224</td>\n",
       "      <td>224</td>\n",
       "      <td>224</td>\n",
       "    </tr>\n",
       "    <tr>\n",
       "      <th>unique</th>\n",
       "      <td>8</td>\n",
       "      <td>224</td>\n",
       "      <td>223</td>\n",
       "      <td>208</td>\n",
       "      <td>191</td>\n",
       "      <td>2</td>\n",
       "    </tr>\n",
       "    <tr>\n",
       "      <th>top</th>\n",
       "      <td></td>\n",
       "      <td>Algeria</td>\n",
       "      <td>3</td>\n",
       "      <td>0</td>\n",
       "      <td>0</td>\n",
       "      <td>2022-21 and 2022-22</td>\n",
       "    </tr>\n",
       "    <tr>\n",
       "      <th>freq</th>\n",
       "      <td>217</td>\n",
       "      <td>1</td>\n",
       "      <td>2</td>\n",
       "      <td>6</td>\n",
       "      <td>23</td>\n",
       "      <td>223</td>\n",
       "    </tr>\n",
       "  </tbody>\n",
       "</table>\n",
       "</div>"
      ],
      "text/plain": [
       "       Region Places reporting cases Sum of Cases Sum of Deaths  \\\n",
       "count     224                    224          224           224   \n",
       "unique      8                    224          223           208   \n",
       "top                          Algeria            3             0   \n",
       "freq      217                      1            2             6   \n",
       "\n",
       "       Confirmed cases during the 14-days\\n\\t\\t\\tof the reporting  period   \\\n",
       "count                                                 224                    \n",
       "unique                                                191                    \n",
       "top                                                     0                    \n",
       "freq                                                   23                    \n",
       "\n",
       "       Reporting period\\n\\t\\t\\tYYYY-WW  \n",
       "count                              224  \n",
       "unique                               2  \n",
       "top                2022-21 and 2022-22  \n",
       "freq                               223  "
      ]
     },
     "execution_count": 74,
     "metadata": {},
     "output_type": "execute_result"
    }
   ],
   "source": [
    "df.describe()"
   ]
  },
  {
   "cell_type": "code",
   "execution_count": 75,
   "id": "4402e6f1",
   "metadata": {},
   "outputs": [
    {
     "ename": "TypeError",
     "evalue": "'tuple' object is not callable",
     "output_type": "error",
     "traceback": [
      "\u001b[1;31m---------------------------------------------------------------------------\u001b[0m",
      "\u001b[1;31mTypeError\u001b[0m                                 Traceback (most recent call last)",
      "Input \u001b[1;32mIn [75]\u001b[0m, in \u001b[0;36m<cell line: 1>\u001b[1;34m()\u001b[0m\n\u001b[1;32m----> 1\u001b[0m \u001b[43mdf\u001b[49m\u001b[38;5;241;43m.\u001b[39;49m\u001b[43mshape\u001b[49m\u001b[43m(\u001b[49m\u001b[43m)\u001b[49m\n",
      "\u001b[1;31mTypeError\u001b[0m: 'tuple' object is not callable"
     ]
    }
   ],
   "source": [
    "df.shape()"
   ]
  },
  {
   "cell_type": "code",
   "execution_count": 76,
   "id": "ffb5938a",
   "metadata": {},
   "outputs": [
    {
     "data": {
      "text/plain": [
       "(224, 6)"
      ]
     },
     "execution_count": 76,
     "metadata": {},
     "output_type": "execute_result"
    }
   ],
   "source": [
    "df.shape"
   ]
  },
  {
   "cell_type": "code",
   "execution_count": null,
   "id": "143ecfea",
   "metadata": {},
   "outputs": [],
   "source": []
  }
 ],
 "metadata": {
  "kernelspec": {
   "display_name": "Python 3 (ipykernel)",
   "language": "python",
   "name": "python3"
  },
  "language_info": {
   "codemirror_mode": {
    "name": "ipython",
    "version": 3
   },
   "file_extension": ".py",
   "mimetype": "text/x-python",
   "name": "python",
   "nbconvert_exporter": "python",
   "pygments_lexer": "ipython3",
   "version": "3.9.12"
  }
 },
 "nbformat": 4,
 "nbformat_minor": 5
}
